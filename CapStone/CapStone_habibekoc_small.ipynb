{
  "nbformat": 4,
  "nbformat_minor": 0,
  "metadata": {
    "colab": {
      "name": "CapStone_habibekoc_small.ipynb",
      "provenance": [],
      "collapsed_sections": []
    },
    "kernelspec": {
      "name": "python3",
      "display_name": "Python 3"
    },
    "language_info": {
      "name": "python"
    }
  },
  "cells": [
    {
      "cell_type": "code",
      "source": [
        "from google.colab import drive \n",
        "drive.mount('/content/gdrive')"
      ],
      "metadata": {
        "colab": {
          "base_uri": "https://localhost:8080/"
        },
        "id": "s70zIeKhNCAn",
        "outputId": "c42e210f-957f-4287-e1a8-61ebb3fb9a5d"
      },
      "execution_count": 1,
      "outputs": [
        {
          "output_type": "stream",
          "name": "stdout",
          "text": [
            "Mounted at /content/gdrive\n"
          ]
        }
      ]
    },
    {
      "cell_type": "code",
      "execution_count": 2,
      "metadata": {
        "id": "DjgUQNaYH_SE"
      },
      "outputs": [],
      "source": [
        "import pandas as pd\n",
        "import numpy as np\n",
        "from datetime import datetime, timedelta\n",
        "from dateutil import parser\n",
        "from sklearn.model_selection import train_test_split\n",
        "from operator import itemgetter"
      ]
    },
    {
      "cell_type": "code",
      "source": [
        "df_c = pd.read_csv('/content/gdrive/MyDrive/Colab Notebooks/binned_customers.csv', index_col=False)\n",
        "df_t = pd.read_csv('/content/gdrive/MyDrive/Colab Notebooks/small_transactions1.csv', index_col=False)"
      ],
      "metadata": {
        "id": "tdvXnbtZKoH7"
      },
      "execution_count": 3,
      "outputs": []
    },
    {
      "cell_type": "code",
      "source": [
        "del df_t['Unnamed: 0']\n",
        "del df_c['Unnamed: 0']"
      ],
      "metadata": {
        "id": "AlTNpvaaNdkD"
      },
      "execution_count": 4,
      "outputs": []
    },
    {
      "cell_type": "code",
      "source": [
        "df_t "
      ],
      "metadata": {
        "colab": {
          "base_uri": "https://localhost:8080/",
          "height": 419
        },
        "id": "edAKB78u_-gg",
        "outputId": "60450085-6431-4fc0-af5c-14c81b3d9205"
      },
      "execution_count": null,
      "outputs": [
        {
          "output_type": "execute_result",
          "data": {
            "text/plain": [
              "                                               customer_id  article_id  count  \\\n",
              "0        00000dbacae5abe5e23885899a1fa44253a17956c6d1c3...   568601043      1   \n",
              "1        000058a12d5b43e67d225668fa1f8d618c13dc232df0ca...   794321007      1   \n",
              "2        0000757967448a6cb83efb3ea7a3fb9d418ac7adf2379d...   448509014      1   \n",
              "3        0000757967448a6cb83efb3ea7a3fb9d418ac7adf2379d...   719530003      1   \n",
              "4        00009d946eec3ea54add5ba56d5210ea898def4b46c685...   516859008      1   \n",
              "...                                                    ...         ...    ...   \n",
              "1020507  ffffbbf78b6eaac697a8a5dfbfd2bfa8113ee5b403e474...   804992033      1   \n",
              "1020508  ffffcf35913a0bee60e8741cb2b4e78b8a98ee5ff2e6a1...   689365050      1   \n",
              "1020509  ffffcf35913a0bee60e8741cb2b4e78b8a98ee5ff2e6a1...   762846027      1   \n",
              "1020510  ffffcf35913a0bee60e8741cb2b4e78b8a98ee5ff2e6a1...   794819001      1   \n",
              "1020511  ffffcf35913a0bee60e8741cb2b4e78b8a98ee5ff2e6a1...   884081001      1   \n",
              "\n",
              "         binned_age  \n",
              "0               4.0  \n",
              "1               1.0  \n",
              "2               1.0  \n",
              "3               1.0  \n",
              "4               5.0  \n",
              "...             ...  \n",
              "1020507         1.0  \n",
              "1020508         1.0  \n",
              "1020509         1.0  \n",
              "1020510         1.0  \n",
              "1020511         1.0  \n",
              "\n",
              "[1020512 rows x 4 columns]"
            ],
            "text/html": [
              "\n",
              "  <div id=\"df-8efcbde1-295f-48d3-bf8f-52090a6eb378\">\n",
              "    <div class=\"colab-df-container\">\n",
              "      <div>\n",
              "<style scoped>\n",
              "    .dataframe tbody tr th:only-of-type {\n",
              "        vertical-align: middle;\n",
              "    }\n",
              "\n",
              "    .dataframe tbody tr th {\n",
              "        vertical-align: top;\n",
              "    }\n",
              "\n",
              "    .dataframe thead th {\n",
              "        text-align: right;\n",
              "    }\n",
              "</style>\n",
              "<table border=\"1\" class=\"dataframe\">\n",
              "  <thead>\n",
              "    <tr style=\"text-align: right;\">\n",
              "      <th></th>\n",
              "      <th>customer_id</th>\n",
              "      <th>article_id</th>\n",
              "      <th>count</th>\n",
              "      <th>binned_age</th>\n",
              "    </tr>\n",
              "  </thead>\n",
              "  <tbody>\n",
              "    <tr>\n",
              "      <th>0</th>\n",
              "      <td>00000dbacae5abe5e23885899a1fa44253a17956c6d1c3...</td>\n",
              "      <td>568601043</td>\n",
              "      <td>1</td>\n",
              "      <td>4.0</td>\n",
              "    </tr>\n",
              "    <tr>\n",
              "      <th>1</th>\n",
              "      <td>000058a12d5b43e67d225668fa1f8d618c13dc232df0ca...</td>\n",
              "      <td>794321007</td>\n",
              "      <td>1</td>\n",
              "      <td>1.0</td>\n",
              "    </tr>\n",
              "    <tr>\n",
              "      <th>2</th>\n",
              "      <td>0000757967448a6cb83efb3ea7a3fb9d418ac7adf2379d...</td>\n",
              "      <td>448509014</td>\n",
              "      <td>1</td>\n",
              "      <td>1.0</td>\n",
              "    </tr>\n",
              "    <tr>\n",
              "      <th>3</th>\n",
              "      <td>0000757967448a6cb83efb3ea7a3fb9d418ac7adf2379d...</td>\n",
              "      <td>719530003</td>\n",
              "      <td>1</td>\n",
              "      <td>1.0</td>\n",
              "    </tr>\n",
              "    <tr>\n",
              "      <th>4</th>\n",
              "      <td>00009d946eec3ea54add5ba56d5210ea898def4b46c685...</td>\n",
              "      <td>516859008</td>\n",
              "      <td>1</td>\n",
              "      <td>5.0</td>\n",
              "    </tr>\n",
              "    <tr>\n",
              "      <th>...</th>\n",
              "      <td>...</td>\n",
              "      <td>...</td>\n",
              "      <td>...</td>\n",
              "      <td>...</td>\n",
              "    </tr>\n",
              "    <tr>\n",
              "      <th>1020507</th>\n",
              "      <td>ffffbbf78b6eaac697a8a5dfbfd2bfa8113ee5b403e474...</td>\n",
              "      <td>804992033</td>\n",
              "      <td>1</td>\n",
              "      <td>1.0</td>\n",
              "    </tr>\n",
              "    <tr>\n",
              "      <th>1020508</th>\n",
              "      <td>ffffcf35913a0bee60e8741cb2b4e78b8a98ee5ff2e6a1...</td>\n",
              "      <td>689365050</td>\n",
              "      <td>1</td>\n",
              "      <td>1.0</td>\n",
              "    </tr>\n",
              "    <tr>\n",
              "      <th>1020509</th>\n",
              "      <td>ffffcf35913a0bee60e8741cb2b4e78b8a98ee5ff2e6a1...</td>\n",
              "      <td>762846027</td>\n",
              "      <td>1</td>\n",
              "      <td>1.0</td>\n",
              "    </tr>\n",
              "    <tr>\n",
              "      <th>1020510</th>\n",
              "      <td>ffffcf35913a0bee60e8741cb2b4e78b8a98ee5ff2e6a1...</td>\n",
              "      <td>794819001</td>\n",
              "      <td>1</td>\n",
              "      <td>1.0</td>\n",
              "    </tr>\n",
              "    <tr>\n",
              "      <th>1020511</th>\n",
              "      <td>ffffcf35913a0bee60e8741cb2b4e78b8a98ee5ff2e6a1...</td>\n",
              "      <td>884081001</td>\n",
              "      <td>1</td>\n",
              "      <td>1.0</td>\n",
              "    </tr>\n",
              "  </tbody>\n",
              "</table>\n",
              "<p>1020512 rows × 4 columns</p>\n",
              "</div>\n",
              "      <button class=\"colab-df-convert\" onclick=\"convertToInteractive('df-8efcbde1-295f-48d3-bf8f-52090a6eb378')\"\n",
              "              title=\"Convert this dataframe to an interactive table.\"\n",
              "              style=\"display:none;\">\n",
              "        \n",
              "  <svg xmlns=\"http://www.w3.org/2000/svg\" height=\"24px\"viewBox=\"0 0 24 24\"\n",
              "       width=\"24px\">\n",
              "    <path d=\"M0 0h24v24H0V0z\" fill=\"none\"/>\n",
              "    <path d=\"M18.56 5.44l.94 2.06.94-2.06 2.06-.94-2.06-.94-.94-2.06-.94 2.06-2.06.94zm-11 1L8.5 8.5l.94-2.06 2.06-.94-2.06-.94L8.5 2.5l-.94 2.06-2.06.94zm10 10l.94 2.06.94-2.06 2.06-.94-2.06-.94-.94-2.06-.94 2.06-2.06.94z\"/><path d=\"M17.41 7.96l-1.37-1.37c-.4-.4-.92-.59-1.43-.59-.52 0-1.04.2-1.43.59L10.3 9.45l-7.72 7.72c-.78.78-.78 2.05 0 2.83L4 21.41c.39.39.9.59 1.41.59.51 0 1.02-.2 1.41-.59l7.78-7.78 2.81-2.81c.8-.78.8-2.07 0-2.86zM5.41 20L4 18.59l7.72-7.72 1.47 1.35L5.41 20z\"/>\n",
              "  </svg>\n",
              "      </button>\n",
              "      \n",
              "  <style>\n",
              "    .colab-df-container {\n",
              "      display:flex;\n",
              "      flex-wrap:wrap;\n",
              "      gap: 12px;\n",
              "    }\n",
              "\n",
              "    .colab-df-convert {\n",
              "      background-color: #E8F0FE;\n",
              "      border: none;\n",
              "      border-radius: 50%;\n",
              "      cursor: pointer;\n",
              "      display: none;\n",
              "      fill: #1967D2;\n",
              "      height: 32px;\n",
              "      padding: 0 0 0 0;\n",
              "      width: 32px;\n",
              "    }\n",
              "\n",
              "    .colab-df-convert:hover {\n",
              "      background-color: #E2EBFA;\n",
              "      box-shadow: 0px 1px 2px rgba(60, 64, 67, 0.3), 0px 1px 3px 1px rgba(60, 64, 67, 0.15);\n",
              "      fill: #174EA6;\n",
              "    }\n",
              "\n",
              "    [theme=dark] .colab-df-convert {\n",
              "      background-color: #3B4455;\n",
              "      fill: #D2E3FC;\n",
              "    }\n",
              "\n",
              "    [theme=dark] .colab-df-convert:hover {\n",
              "      background-color: #434B5C;\n",
              "      box-shadow: 0px 1px 3px 1px rgba(0, 0, 0, 0.15);\n",
              "      filter: drop-shadow(0px 1px 2px rgba(0, 0, 0, 0.3));\n",
              "      fill: #FFFFFF;\n",
              "    }\n",
              "  </style>\n",
              "\n",
              "      <script>\n",
              "        const buttonEl =\n",
              "          document.querySelector('#df-8efcbde1-295f-48d3-bf8f-52090a6eb378 button.colab-df-convert');\n",
              "        buttonEl.style.display =\n",
              "          google.colab.kernel.accessAllowed ? 'block' : 'none';\n",
              "\n",
              "        async function convertToInteractive(key) {\n",
              "          const element = document.querySelector('#df-8efcbde1-295f-48d3-bf8f-52090a6eb378');\n",
              "          const dataTable =\n",
              "            await google.colab.kernel.invokeFunction('convertToInteractive',\n",
              "                                                     [key], {});\n",
              "          if (!dataTable) return;\n",
              "\n",
              "          const docLinkHtml = 'Like what you see? Visit the ' +\n",
              "            '<a target=\"_blank\" href=https://colab.research.google.com/notebooks/data_table.ipynb>data table notebook</a>'\n",
              "            + ' to learn more about interactive tables.';\n",
              "          element.innerHTML = '';\n",
              "          dataTable['output_type'] = 'display_data';\n",
              "          await google.colab.output.renderOutput(dataTable, element);\n",
              "          const docLink = document.createElement('div');\n",
              "          docLink.innerHTML = docLinkHtml;\n",
              "          element.appendChild(docLink);\n",
              "        }\n",
              "      </script>\n",
              "    </div>\n",
              "  </div>\n",
              "  "
            ]
          },
          "metadata": {},
          "execution_count": 47
        }
      ]
    },
    {
      "cell_type": "code",
      "source": [
        "train, test = train_test_split(df_t, test_size=0.1)\n",
        "print(train.shape)\n",
        "print(test.shape)"
      ],
      "metadata": {
        "colab": {
          "base_uri": "https://localhost:8080/"
        },
        "id": "m6WxtRQKAy7j",
        "outputId": "a65b8124-a50b-46c0-cb18-c61a65fdf1a2"
      },
      "execution_count": 5,
      "outputs": [
        {
          "output_type": "stream",
          "name": "stdout",
          "text": [
            "(918460, 4)\n",
            "(102052, 4)\n"
          ]
        }
      ]
    },
    {
      "cell_type": "code",
      "source": [
        "train = train.reset_index()\n",
        "test = test.reset_index()"
      ],
      "metadata": {
        "id": "ZKTm4WkT9Bb-"
      },
      "execution_count": 6,
      "outputs": []
    },
    {
      "cell_type": "code",
      "source": [
        "train.iloc[0]['customer_id']"
      ],
      "metadata": {
        "colab": {
          "base_uri": "https://localhost:8080/",
          "height": 37
        },
        "id": "JDq0KMeQxWj8",
        "outputId": "340e65dc-9638-41da-b4ae-ab460c2a9623"
      },
      "execution_count": null,
      "outputs": [
        {
          "output_type": "execute_result",
          "data": {
            "text/plain": [
              "'dbe124d03b1b8ae22ec7293ece6347546c802b07d46a422d39ce785ea57f20fc'"
            ],
            "application/vnd.google.colaboratory.intrinsic+json": {
              "type": "string"
            }
          },
          "metadata": {},
          "execution_count": 7
        }
      ]
    },
    {
      "cell_type": "code",
      "source": [
        "pip install surprise"
      ],
      "metadata": {
        "colab": {
          "base_uri": "https://localhost:8080/"
        },
        "id": "CHY20JLxJ2cJ",
        "outputId": "e825e5ce-6047-4212-9a20-a6624b1da6d9"
      },
      "execution_count": 7,
      "outputs": [
        {
          "output_type": "stream",
          "name": "stdout",
          "text": [
            "Collecting surprise\n",
            "  Downloading surprise-0.1-py2.py3-none-any.whl (1.8 kB)\n",
            "Collecting scikit-surprise\n",
            "  Downloading scikit-surprise-1.1.1.tar.gz (11.8 MB)\n",
            "\u001b[K     |████████████████████████████████| 11.8 MB 4.6 MB/s \n",
            "\u001b[?25hRequirement already satisfied: joblib>=0.11 in /usr/local/lib/python3.7/dist-packages (from scikit-surprise->surprise) (1.1.0)\n",
            "Requirement already satisfied: numpy>=1.11.2 in /usr/local/lib/python3.7/dist-packages (from scikit-surprise->surprise) (1.21.5)\n",
            "Requirement already satisfied: scipy>=1.0.0 in /usr/local/lib/python3.7/dist-packages (from scikit-surprise->surprise) (1.4.1)\n",
            "Requirement already satisfied: six>=1.10.0 in /usr/local/lib/python3.7/dist-packages (from scikit-surprise->surprise) (1.15.0)\n",
            "Building wheels for collected packages: scikit-surprise\n",
            "  Building wheel for scikit-surprise (setup.py) ... \u001b[?25l\u001b[?25hdone\n",
            "  Created wheel for scikit-surprise: filename=scikit_surprise-1.1.1-cp37-cp37m-linux_x86_64.whl size=1630192 sha256=128c7f352b5d8a2f9ea72a1c11629bf03352fbab50a53ae2e63d2389166e9825\n",
            "  Stored in directory: /root/.cache/pip/wheels/76/44/74/b498c42be47b2406bd27994e16c5188e337c657025ab400c1c\n",
            "Successfully built scikit-surprise\n",
            "Installing collected packages: scikit-surprise, surprise\n",
            "Successfully installed scikit-surprise-1.1.1 surprise-0.1\n"
          ]
        }
      ]
    },
    {
      "cell_type": "code",
      "source": [
        "from surprise import SVD\n",
        "from surprise import accuracy\n",
        "from surprise.reader import Reader\n",
        "from surprise.dataset import Dataset\n",
        "from surprise.model_selection.validation import cross_validate\n",
        "from surprise.model_selection.search import GridSearchCV\n",
        "from collections import defaultdict"
      ],
      "metadata": {
        "id": "5JLd7P0SCDBI"
      },
      "execution_count": 8,
      "outputs": []
    },
    {
      "cell_type": "code",
      "source": [
        "reader = Reader()\n",
        "data = Dataset.load_from_df(train[['customer_id', 'article_id', 'count']], reader)"
      ],
      "metadata": {
        "id": "q-K03laBFOoM"
      },
      "execution_count": 9,
      "outputs": []
    },
    {
      "cell_type": "code",
      "source": [
        "'''params = {\"n_epochs\":[30],\n",
        "          \"lr_all\":[0.002, 0.005],\n",
        "          \"reg_all\":[0.4, 0.6]}'''"
      ],
      "metadata": {
        "id": "FHVAo-ZbPKZN"
      },
      "execution_count": null,
      "outputs": []
    },
    {
      "cell_type": "code",
      "source": [
        "'''clf = GridSearchCV(SVD, params, n_jobs=-1, measures=['rmse'])\n",
        "clf.fit(data)             \n",
        "print(clf.best_score)\n",
        "print(clf.best_params)\n",
        "print(clf.best_estimator)'''"
      ],
      "metadata": {
        "colab": {
          "base_uri": "https://localhost:8080/"
        },
        "id": "8w__MMvZS4Nt",
        "outputId": "473accde-b5fc-4c39-9b4e-f8e82a3794f3"
      },
      "execution_count": null,
      "outputs": [
        {
          "output_type": "stream",
          "name": "stdout",
          "text": [
            "{'rmse': 0.44877291583311774}\n",
            "{'rmse': {'n_epochs': 30, 'lr_all': 0.005, 'reg_all': 0.4}}\n",
            "{'rmse': <surprise.prediction_algorithms.matrix_factorization.SVD object at 0x7ff2ca7d2250>}\n"
          ]
        }
      ]
    },
    {
      "cell_type": "code",
      "source": [
        "'''svd = clf.best_estimator['rmse']'''"
      ],
      "metadata": {
        "id": "-K7vhTOjSvgx"
      },
      "execution_count": null,
      "outputs": []
    },
    {
      "cell_type": "code",
      "source": [
        "svd = SVD()"
      ],
      "metadata": {
        "id": "y6_1WpB2egK8"
      },
      "execution_count": 10,
      "outputs": []
    },
    {
      "cell_type": "code",
      "source": [
        "data_train = data.build_full_trainset()\n",
        "resultant_matrix = svd.fit(data_train) "
      ],
      "metadata": {
        "id": "_UM2n_p_MGIY"
      },
      "execution_count": 11,
      "outputs": []
    },
    {
      "cell_type": "code",
      "source": [
        "df_grouped = df_t.groupby(['article_id', 'binned_age']).size().to_frame(name = 'count').reset_index()"
      ],
      "metadata": {
        "id": "DEzf084Woep9"
      },
      "execution_count": 13,
      "outputs": []
    },
    {
      "cell_type": "code",
      "source": [
        "df_grouped.sort_values(by=['count'], ascending=False)"
      ],
      "metadata": {
        "id": "9mxZ5i_BpMne",
        "colab": {
          "base_uri": "https://localhost:8080/",
          "height": 419
        },
        "outputId": "532754cf-3993-494e-acce-9c56953995d7"
      },
      "execution_count": 14,
      "outputs": [
        {
          "output_type": "execute_result",
          "data": {
            "text/plain": [
              "       article_id  binned_age  count\n",
              "89933   915526001         1.0   1272\n",
              "90842   918292001         1.0    931\n",
              "17139   706016001         1.0    849\n",
              "2238    448509014         1.0    817\n",
              "24461   751471001         1.0    790\n",
              "...           ...         ...    ...\n",
              "44534   822126003         3.0      1\n",
              "44535   822126003         4.0      1\n",
              "44536   822127004         1.0      1\n",
              "44537   822127004         3.0      1\n",
              "96115   956217002         6.0      1\n",
              "\n",
              "[96116 rows x 3 columns]"
            ],
            "text/html": [
              "\n",
              "  <div id=\"df-5058dda9-08c2-4cd9-a055-c7dd30278f1c\">\n",
              "    <div class=\"colab-df-container\">\n",
              "      <div>\n",
              "<style scoped>\n",
              "    .dataframe tbody tr th:only-of-type {\n",
              "        vertical-align: middle;\n",
              "    }\n",
              "\n",
              "    .dataframe tbody tr th {\n",
              "        vertical-align: top;\n",
              "    }\n",
              "\n",
              "    .dataframe thead th {\n",
              "        text-align: right;\n",
              "    }\n",
              "</style>\n",
              "<table border=\"1\" class=\"dataframe\">\n",
              "  <thead>\n",
              "    <tr style=\"text-align: right;\">\n",
              "      <th></th>\n",
              "      <th>article_id</th>\n",
              "      <th>binned_age</th>\n",
              "      <th>count</th>\n",
              "    </tr>\n",
              "  </thead>\n",
              "  <tbody>\n",
              "    <tr>\n",
              "      <th>89933</th>\n",
              "      <td>915526001</td>\n",
              "      <td>1.0</td>\n",
              "      <td>1272</td>\n",
              "    </tr>\n",
              "    <tr>\n",
              "      <th>90842</th>\n",
              "      <td>918292001</td>\n",
              "      <td>1.0</td>\n",
              "      <td>931</td>\n",
              "    </tr>\n",
              "    <tr>\n",
              "      <th>17139</th>\n",
              "      <td>706016001</td>\n",
              "      <td>1.0</td>\n",
              "      <td>849</td>\n",
              "    </tr>\n",
              "    <tr>\n",
              "      <th>2238</th>\n",
              "      <td>448509014</td>\n",
              "      <td>1.0</td>\n",
              "      <td>817</td>\n",
              "    </tr>\n",
              "    <tr>\n",
              "      <th>24461</th>\n",
              "      <td>751471001</td>\n",
              "      <td>1.0</td>\n",
              "      <td>790</td>\n",
              "    </tr>\n",
              "    <tr>\n",
              "      <th>...</th>\n",
              "      <td>...</td>\n",
              "      <td>...</td>\n",
              "      <td>...</td>\n",
              "    </tr>\n",
              "    <tr>\n",
              "      <th>44534</th>\n",
              "      <td>822126003</td>\n",
              "      <td>3.0</td>\n",
              "      <td>1</td>\n",
              "    </tr>\n",
              "    <tr>\n",
              "      <th>44535</th>\n",
              "      <td>822126003</td>\n",
              "      <td>4.0</td>\n",
              "      <td>1</td>\n",
              "    </tr>\n",
              "    <tr>\n",
              "      <th>44536</th>\n",
              "      <td>822127004</td>\n",
              "      <td>1.0</td>\n",
              "      <td>1</td>\n",
              "    </tr>\n",
              "    <tr>\n",
              "      <th>44537</th>\n",
              "      <td>822127004</td>\n",
              "      <td>3.0</td>\n",
              "      <td>1</td>\n",
              "    </tr>\n",
              "    <tr>\n",
              "      <th>96115</th>\n",
              "      <td>956217002</td>\n",
              "      <td>6.0</td>\n",
              "      <td>1</td>\n",
              "    </tr>\n",
              "  </tbody>\n",
              "</table>\n",
              "<p>96116 rows × 3 columns</p>\n",
              "</div>\n",
              "      <button class=\"colab-df-convert\" onclick=\"convertToInteractive('df-5058dda9-08c2-4cd9-a055-c7dd30278f1c')\"\n",
              "              title=\"Convert this dataframe to an interactive table.\"\n",
              "              style=\"display:none;\">\n",
              "        \n",
              "  <svg xmlns=\"http://www.w3.org/2000/svg\" height=\"24px\"viewBox=\"0 0 24 24\"\n",
              "       width=\"24px\">\n",
              "    <path d=\"M0 0h24v24H0V0z\" fill=\"none\"/>\n",
              "    <path d=\"M18.56 5.44l.94 2.06.94-2.06 2.06-.94-2.06-.94-.94-2.06-.94 2.06-2.06.94zm-11 1L8.5 8.5l.94-2.06 2.06-.94-2.06-.94L8.5 2.5l-.94 2.06-2.06.94zm10 10l.94 2.06.94-2.06 2.06-.94-2.06-.94-.94-2.06-.94 2.06-2.06.94z\"/><path d=\"M17.41 7.96l-1.37-1.37c-.4-.4-.92-.59-1.43-.59-.52 0-1.04.2-1.43.59L10.3 9.45l-7.72 7.72c-.78.78-.78 2.05 0 2.83L4 21.41c.39.39.9.59 1.41.59.51 0 1.02-.2 1.41-.59l7.78-7.78 2.81-2.81c.8-.78.8-2.07 0-2.86zM5.41 20L4 18.59l7.72-7.72 1.47 1.35L5.41 20z\"/>\n",
              "  </svg>\n",
              "      </button>\n",
              "      \n",
              "  <style>\n",
              "    .colab-df-container {\n",
              "      display:flex;\n",
              "      flex-wrap:wrap;\n",
              "      gap: 12px;\n",
              "    }\n",
              "\n",
              "    .colab-df-convert {\n",
              "      background-color: #E8F0FE;\n",
              "      border: none;\n",
              "      border-radius: 50%;\n",
              "      cursor: pointer;\n",
              "      display: none;\n",
              "      fill: #1967D2;\n",
              "      height: 32px;\n",
              "      padding: 0 0 0 0;\n",
              "      width: 32px;\n",
              "    }\n",
              "\n",
              "    .colab-df-convert:hover {\n",
              "      background-color: #E2EBFA;\n",
              "      box-shadow: 0px 1px 2px rgba(60, 64, 67, 0.3), 0px 1px 3px 1px rgba(60, 64, 67, 0.15);\n",
              "      fill: #174EA6;\n",
              "    }\n",
              "\n",
              "    [theme=dark] .colab-df-convert {\n",
              "      background-color: #3B4455;\n",
              "      fill: #D2E3FC;\n",
              "    }\n",
              "\n",
              "    [theme=dark] .colab-df-convert:hover {\n",
              "      background-color: #434B5C;\n",
              "      box-shadow: 0px 1px 3px 1px rgba(0, 0, 0, 0.15);\n",
              "      filter: drop-shadow(0px 1px 2px rgba(0, 0, 0, 0.3));\n",
              "      fill: #FFFFFF;\n",
              "    }\n",
              "  </style>\n",
              "\n",
              "      <script>\n",
              "        const buttonEl =\n",
              "          document.querySelector('#df-5058dda9-08c2-4cd9-a055-c7dd30278f1c button.colab-df-convert');\n",
              "        buttonEl.style.display =\n",
              "          google.colab.kernel.accessAllowed ? 'block' : 'none';\n",
              "\n",
              "        async function convertToInteractive(key) {\n",
              "          const element = document.querySelector('#df-5058dda9-08c2-4cd9-a055-c7dd30278f1c');\n",
              "          const dataTable =\n",
              "            await google.colab.kernel.invokeFunction('convertToInteractive',\n",
              "                                                     [key], {});\n",
              "          if (!dataTable) return;\n",
              "\n",
              "          const docLinkHtml = 'Like what you see? Visit the ' +\n",
              "            '<a target=\"_blank\" href=https://colab.research.google.com/notebooks/data_table.ipynb>data table notebook</a>'\n",
              "            + ' to learn more about interactive tables.';\n",
              "          element.innerHTML = '';\n",
              "          dataTable['output_type'] = 'display_data';\n",
              "          await google.colab.output.renderOutput(dataTable, element);\n",
              "          const docLink = document.createElement('div');\n",
              "          docLink.innerHTML = docLinkHtml;\n",
              "          element.appendChild(docLink);\n",
              "        }\n",
              "      </script>\n",
              "    </div>\n",
              "  </div>\n",
              "  "
            ]
          },
          "metadata": {},
          "execution_count": 14
        }
      ]
    },
    {
      "cell_type": "code",
      "source": [
        "temp = []\n",
        "age_pop = []\n",
        "for i in range(8):\n",
        "  temp.append(df_grouped[df_grouped['binned_age'] == i+1].sort_values(by=['count'], ascending=False)['article_id'][:4].tolist())\n",
        "  age_pop.append(temp[i])"
      ],
      "metadata": {
        "id": "TGLK5RvpqJcp"
      },
      "execution_count": 15,
      "outputs": []
    },
    {
      "cell_type": "code",
      "source": [
        "age_pop"
      ],
      "metadata": {
        "colab": {
          "base_uri": "https://localhost:8080/"
        },
        "id": "cqz9cr3Lwfr1",
        "outputId": "12395ad3-5de5-4dbd-c559-df6c3b795035"
      },
      "execution_count": 16,
      "outputs": [
        {
          "output_type": "execute_result",
          "data": {
            "text/plain": [
              "[[915526001, 918292001, 706016001, 448509014],\n",
              " [918292001, 898694001, 915529003, 909370001],\n",
              " [915529003, 751471001, 865929003, 863595006],\n",
              " [751471001, 751471043, 915529003, 863595006],\n",
              " [896152002, 751471043, 751471001, 896169002],\n",
              " [933706001, 751471043, 896152002, 896169002],\n",
              " [751471043, 933706001, 896169002, 918522001],\n",
              " [865929003, 237347045, 848324001, 875856004]]"
            ]
          },
          "metadata": {},
          "execution_count": 16
        }
      ]
    },
    {
      "cell_type": "code",
      "source": [
        "unique_a = train['article_id'].unique()\n",
        "unique_a.shape #28629"
      ],
      "metadata": {
        "colab": {
          "base_uri": "https://localhost:8080/"
        },
        "id": "GKygdGKW5SsU",
        "outputId": "41d3c428-1946-45c3-ff0c-aa57db6d5618"
      },
      "execution_count": 17,
      "outputs": [
        {
          "output_type": "execute_result",
          "data": {
            "text/plain": [
              "(28584,)"
            ]
          },
          "metadata": {},
          "execution_count": 17
        }
      ]
    },
    {
      "cell_type": "code",
      "source": [
        "unique_c = test['customer_id'].unique()\n",
        "unique_c.shape"
      ],
      "metadata": {
        "colab": {
          "base_uri": "https://localhost:8080/"
        },
        "id": "BqzLe4Np8CEN",
        "outputId": "0f8a7f3d-5afa-43cd-f901-829f2f550de7"
      },
      "execution_count": 18,
      "outputs": [
        {
          "output_type": "execute_result",
          "data": {
            "text/plain": [
              "(76684,)"
            ]
          },
          "metadata": {},
          "execution_count": 18
        }
      ]
    },
    {
      "cell_type": "code",
      "source": [
        "def recommend(age_pop, unique_a, test, train, model):\n",
        "  recs = []\n",
        "  for idx in range(test.shape[0]):\n",
        "    uid = test.iloc[idx]['customer_id']\n",
        "    if uid in train['customer_id']:\n",
        "      age_bin = test[test['customer_id']==uid]['binned_age'].to_list()\n",
        "      rec = age_pop[age_bin[0]-1]\n",
        "    else:\n",
        "      pred = []\n",
        "      for a_id in unique_a:\n",
        "        pred.append([a_id, model.predict(uid=uid,\n",
        "                iid=a_id, r_ui=None).est])\n",
        "      pred.sort(key = lambda x: x[1], reverse=True)\n",
        "      a = pred[:4]\n",
        "      rec = list(map(itemgetter(0), a))\n",
        "    recs.append([uid, rec])\n",
        "  return recs\n"
      ],
      "metadata": {
        "id": "24IadjF3wtQ0"
      },
      "execution_count": 19,
      "outputs": []
    },
    {
      "cell_type": "code",
      "source": [
        "test1 = test[:1000]"
      ],
      "metadata": {
        "id": "5WiZfSmwCC6R"
      },
      "execution_count": 20,
      "outputs": []
    },
    {
      "cell_type": "code",
      "source": [
        "test1"
      ],
      "metadata": {
        "colab": {
          "base_uri": "https://localhost:8080/",
          "height": 419
        },
        "id": "61Ir1gXwCGPI",
        "outputId": "7fa19f9d-0603-4233-cd30-2ff399db0343"
      },
      "execution_count": 21,
      "outputs": [
        {
          "output_type": "execute_result",
          "data": {
            "text/plain": [
              "      index                                        customer_id  article_id  \\\n",
              "0    537088  86a9230d46a615ca0d22955a702c5ea2678584024e279c...   749974001   \n",
              "1    284490  474679b04da72fe115349116e8b6dac415e67d6ee24469...   898596004   \n",
              "2    662154  a5789fc4ffb50b6d169c70c451e882735bf8e28c70bdb6...   892558004   \n",
              "3    553686  8ab2816e4f55649c23f0138e7c6a09f7d3021e3cf8f1e6...   407354004   \n",
              "4    934753  ea73393c3b9b4e08652377a946b6a4af5a870231fe7344...   878604002   \n",
              "..      ...                                                ...         ...   \n",
              "995  448969  7093d642e3085501f648c2828b707b1f29f9b2eb82196e...   552716001   \n",
              "996  368694  5c8677a7908c9c3f500831ad3ea70c0e54f20d5da26ae4...   579541001   \n",
              "997  979602  f5a622d0d10ada1d6ccf919657d2eeeee6b9d63a6ca456...   901955001   \n",
              "998  424674  6a59871da918227567804084a7c5ca94e75c123ac8bf60...   837810001   \n",
              "999  246998  3dc55b1231817b9c92dbb48df0b13d9277bc3226abf1d1...   796210001   \n",
              "\n",
              "     count  binned_age  \n",
              "0        1         1.0  \n",
              "1        1         4.0  \n",
              "2        2         1.0  \n",
              "3        1         3.0  \n",
              "4        1         1.0  \n",
              "..     ...         ...  \n",
              "995      1         1.0  \n",
              "996      1         5.0  \n",
              "997      2         1.0  \n",
              "998      1         1.0  \n",
              "999      1         2.0  \n",
              "\n",
              "[1000 rows x 5 columns]"
            ],
            "text/html": [
              "\n",
              "  <div id=\"df-17f3a60e-6033-44d7-a2e5-6ee978ab4d10\">\n",
              "    <div class=\"colab-df-container\">\n",
              "      <div>\n",
              "<style scoped>\n",
              "    .dataframe tbody tr th:only-of-type {\n",
              "        vertical-align: middle;\n",
              "    }\n",
              "\n",
              "    .dataframe tbody tr th {\n",
              "        vertical-align: top;\n",
              "    }\n",
              "\n",
              "    .dataframe thead th {\n",
              "        text-align: right;\n",
              "    }\n",
              "</style>\n",
              "<table border=\"1\" class=\"dataframe\">\n",
              "  <thead>\n",
              "    <tr style=\"text-align: right;\">\n",
              "      <th></th>\n",
              "      <th>index</th>\n",
              "      <th>customer_id</th>\n",
              "      <th>article_id</th>\n",
              "      <th>count</th>\n",
              "      <th>binned_age</th>\n",
              "    </tr>\n",
              "  </thead>\n",
              "  <tbody>\n",
              "    <tr>\n",
              "      <th>0</th>\n",
              "      <td>537088</td>\n",
              "      <td>86a9230d46a615ca0d22955a702c5ea2678584024e279c...</td>\n",
              "      <td>749974001</td>\n",
              "      <td>1</td>\n",
              "      <td>1.0</td>\n",
              "    </tr>\n",
              "    <tr>\n",
              "      <th>1</th>\n",
              "      <td>284490</td>\n",
              "      <td>474679b04da72fe115349116e8b6dac415e67d6ee24469...</td>\n",
              "      <td>898596004</td>\n",
              "      <td>1</td>\n",
              "      <td>4.0</td>\n",
              "    </tr>\n",
              "    <tr>\n",
              "      <th>2</th>\n",
              "      <td>662154</td>\n",
              "      <td>a5789fc4ffb50b6d169c70c451e882735bf8e28c70bdb6...</td>\n",
              "      <td>892558004</td>\n",
              "      <td>2</td>\n",
              "      <td>1.0</td>\n",
              "    </tr>\n",
              "    <tr>\n",
              "      <th>3</th>\n",
              "      <td>553686</td>\n",
              "      <td>8ab2816e4f55649c23f0138e7c6a09f7d3021e3cf8f1e6...</td>\n",
              "      <td>407354004</td>\n",
              "      <td>1</td>\n",
              "      <td>3.0</td>\n",
              "    </tr>\n",
              "    <tr>\n",
              "      <th>4</th>\n",
              "      <td>934753</td>\n",
              "      <td>ea73393c3b9b4e08652377a946b6a4af5a870231fe7344...</td>\n",
              "      <td>878604002</td>\n",
              "      <td>1</td>\n",
              "      <td>1.0</td>\n",
              "    </tr>\n",
              "    <tr>\n",
              "      <th>...</th>\n",
              "      <td>...</td>\n",
              "      <td>...</td>\n",
              "      <td>...</td>\n",
              "      <td>...</td>\n",
              "      <td>...</td>\n",
              "    </tr>\n",
              "    <tr>\n",
              "      <th>995</th>\n",
              "      <td>448969</td>\n",
              "      <td>7093d642e3085501f648c2828b707b1f29f9b2eb82196e...</td>\n",
              "      <td>552716001</td>\n",
              "      <td>1</td>\n",
              "      <td>1.0</td>\n",
              "    </tr>\n",
              "    <tr>\n",
              "      <th>996</th>\n",
              "      <td>368694</td>\n",
              "      <td>5c8677a7908c9c3f500831ad3ea70c0e54f20d5da26ae4...</td>\n",
              "      <td>579541001</td>\n",
              "      <td>1</td>\n",
              "      <td>5.0</td>\n",
              "    </tr>\n",
              "    <tr>\n",
              "      <th>997</th>\n",
              "      <td>979602</td>\n",
              "      <td>f5a622d0d10ada1d6ccf919657d2eeeee6b9d63a6ca456...</td>\n",
              "      <td>901955001</td>\n",
              "      <td>2</td>\n",
              "      <td>1.0</td>\n",
              "    </tr>\n",
              "    <tr>\n",
              "      <th>998</th>\n",
              "      <td>424674</td>\n",
              "      <td>6a59871da918227567804084a7c5ca94e75c123ac8bf60...</td>\n",
              "      <td>837810001</td>\n",
              "      <td>1</td>\n",
              "      <td>1.0</td>\n",
              "    </tr>\n",
              "    <tr>\n",
              "      <th>999</th>\n",
              "      <td>246998</td>\n",
              "      <td>3dc55b1231817b9c92dbb48df0b13d9277bc3226abf1d1...</td>\n",
              "      <td>796210001</td>\n",
              "      <td>1</td>\n",
              "      <td>2.0</td>\n",
              "    </tr>\n",
              "  </tbody>\n",
              "</table>\n",
              "<p>1000 rows × 5 columns</p>\n",
              "</div>\n",
              "      <button class=\"colab-df-convert\" onclick=\"convertToInteractive('df-17f3a60e-6033-44d7-a2e5-6ee978ab4d10')\"\n",
              "              title=\"Convert this dataframe to an interactive table.\"\n",
              "              style=\"display:none;\">\n",
              "        \n",
              "  <svg xmlns=\"http://www.w3.org/2000/svg\" height=\"24px\"viewBox=\"0 0 24 24\"\n",
              "       width=\"24px\">\n",
              "    <path d=\"M0 0h24v24H0V0z\" fill=\"none\"/>\n",
              "    <path d=\"M18.56 5.44l.94 2.06.94-2.06 2.06-.94-2.06-.94-.94-2.06-.94 2.06-2.06.94zm-11 1L8.5 8.5l.94-2.06 2.06-.94-2.06-.94L8.5 2.5l-.94 2.06-2.06.94zm10 10l.94 2.06.94-2.06 2.06-.94-2.06-.94-.94-2.06-.94 2.06-2.06.94z\"/><path d=\"M17.41 7.96l-1.37-1.37c-.4-.4-.92-.59-1.43-.59-.52 0-1.04.2-1.43.59L10.3 9.45l-7.72 7.72c-.78.78-.78 2.05 0 2.83L4 21.41c.39.39.9.59 1.41.59.51 0 1.02-.2 1.41-.59l7.78-7.78 2.81-2.81c.8-.78.8-2.07 0-2.86zM5.41 20L4 18.59l7.72-7.72 1.47 1.35L5.41 20z\"/>\n",
              "  </svg>\n",
              "      </button>\n",
              "      \n",
              "  <style>\n",
              "    .colab-df-container {\n",
              "      display:flex;\n",
              "      flex-wrap:wrap;\n",
              "      gap: 12px;\n",
              "    }\n",
              "\n",
              "    .colab-df-convert {\n",
              "      background-color: #E8F0FE;\n",
              "      border: none;\n",
              "      border-radius: 50%;\n",
              "      cursor: pointer;\n",
              "      display: none;\n",
              "      fill: #1967D2;\n",
              "      height: 32px;\n",
              "      padding: 0 0 0 0;\n",
              "      width: 32px;\n",
              "    }\n",
              "\n",
              "    .colab-df-convert:hover {\n",
              "      background-color: #E2EBFA;\n",
              "      box-shadow: 0px 1px 2px rgba(60, 64, 67, 0.3), 0px 1px 3px 1px rgba(60, 64, 67, 0.15);\n",
              "      fill: #174EA6;\n",
              "    }\n",
              "\n",
              "    [theme=dark] .colab-df-convert {\n",
              "      background-color: #3B4455;\n",
              "      fill: #D2E3FC;\n",
              "    }\n",
              "\n",
              "    [theme=dark] .colab-df-convert:hover {\n",
              "      background-color: #434B5C;\n",
              "      box-shadow: 0px 1px 3px 1px rgba(0, 0, 0, 0.15);\n",
              "      filter: drop-shadow(0px 1px 2px rgba(0, 0, 0, 0.3));\n",
              "      fill: #FFFFFF;\n",
              "    }\n",
              "  </style>\n",
              "\n",
              "      <script>\n",
              "        const buttonEl =\n",
              "          document.querySelector('#df-17f3a60e-6033-44d7-a2e5-6ee978ab4d10 button.colab-df-convert');\n",
              "        buttonEl.style.display =\n",
              "          google.colab.kernel.accessAllowed ? 'block' : 'none';\n",
              "\n",
              "        async function convertToInteractive(key) {\n",
              "          const element = document.querySelector('#df-17f3a60e-6033-44d7-a2e5-6ee978ab4d10');\n",
              "          const dataTable =\n",
              "            await google.colab.kernel.invokeFunction('convertToInteractive',\n",
              "                                                     [key], {});\n",
              "          if (!dataTable) return;\n",
              "\n",
              "          const docLinkHtml = 'Like what you see? Visit the ' +\n",
              "            '<a target=\"_blank\" href=https://colab.research.google.com/notebooks/data_table.ipynb>data table notebook</a>'\n",
              "            + ' to learn more about interactive tables.';\n",
              "          element.innerHTML = '';\n",
              "          dataTable['output_type'] = 'display_data';\n",
              "          await google.colab.output.renderOutput(dataTable, element);\n",
              "          const docLink = document.createElement('div');\n",
              "          docLink.innerHTML = docLinkHtml;\n",
              "          element.appendChild(docLink);\n",
              "        }\n",
              "      </script>\n",
              "    </div>\n",
              "  </div>\n",
              "  "
            ]
          },
          "metadata": {},
          "execution_count": 21
        }
      ]
    },
    {
      "cell_type": "code",
      "source": [
        "recs = recommend(age_pop, unique_a, test1, train, model=svd)\n",
        "recs"
      ],
      "metadata": {
        "id": "1TDRkLB_x7NV",
        "colab": {
          "base_uri": "https://localhost:8080/"
        },
        "outputId": "62f3dfe5-7947-4cae-bb58-c3c22864bec9"
      },
      "execution_count": 22,
      "outputs": [
        {
          "output_type": "stream",
          "name": "stdout",
          "text": [
            "[['86a9230d46a615ca0d22955a702c5ea2678584024e279c6bb653c09a07af242d', [717464001, 158340001, 850917003, 715255013]], ['474679b04da72fe115349116e8b6dac415e67d6ee2446978074c1619c1ca8d6d', [714032003, 717464001, 715255013, 846407001]], ['a5789fc4ffb50b6d169c70c451e882735bf8e28c70bdb69a0ae641359fdab2a7', [715255013, 918443002, 846407001, 871638002]], ['8ab2816e4f55649c23f0138e7c6a09f7d3021e3cf8f1e6aa026630c03705aa4a', [717464001, 158340001, 846407001, 820866001]], ['ea73393c3b9b4e08652377a946b6a4af5a870231fe7344b1af5f1fe8f325e894', [715255013, 158340001, 846407001, 717464001]], ['a8dc3f6db29c03fe190d82e4ee4acc72525c43fff9eaa92f429d1c471b6e7fb7', [717464001, 846407001, 714032003, 902175001]], ['7b8e32f0f14d4e5b6d984e6656b9086a963a1e01ab6075f466f751a675052a7a', [717464001, 714032003, 846407001, 570002100]], ['8a1b25f181ef3dc6f047511fd93e8c410d5b830a3ef6320274b0ca32ff846c07', [717464001, 158340001, 846407001, 570002100]], ['f55585dc277b3af68a76d0c9b19dcef274d2ce9f31d9ea27e1e05bfe57ce377e', [715255013, 846407001, 556255001, 793104002]], ['21e0dce3ae12504d1c4d71d8115d5fbcd414c97893784ae82e22cfbdf94b381c', [158340001, 717464001, 714032003, 715255013]], ['9e48272d1f76a289499be20da35df3a801ba47ce7f386775be847e95e60c42d2', [717464001, 850917003, 839915001, 850917001]], ['2a1f04db92d125ba2d8ae21f25a08bde0e18bfa7b6f36fc9f36181070a535d2c', [717464001, 715255013, 714032003, 781758003]], ['6737f13b8cd3b49ff350c089a70ccf8ec7be523a65ea3584acaf1e5fe723aa08', [846407001, 717464001, 556255001, 570002100]], ['cc76d9f0fc54fda0c524b37f415c6f7f59cf61c2945c28c3b79e121cb1e43d17', [846407001, 717464001, 889456001, 146730001]], ['443cfdf72e311176ce1433b876a5656c9985b0a1f7e42cd5070046409c235dfc', [717464001, 820866001, 715255013, 561274001]], ['bfc1b37a1dfb1e1d1b74543701b00fa4de9a029aecfd31fdd369a28a120dfdb9', [717464001, 868195004, 715255013, 752814003]], ['04b7a38ad2ecb9d560c89f78f00e696c3402469458ac563b371bbf73ea17450f', [717464001, 156231001, 793104002, 714032003]], ['cfe6ed50018900407f02b28d48eeaf9dc1480b8b1de466978ad6ece83806953d', [715255013, 717464001, 865076003, 556255001]], ['1e81b9fc7d1a9c1184583014b2185316d7d02460d99ed6f1d968310f240fc6a0', [715255013, 717464001, 714032003, 570002100]], ['81c96a5fc039f86dba4c3576a2488fcd32bdad3b852bf45f7a4ad1b5ad9a51c1', [715255013, 158340001, 717464001, 541758001]], ['23d9bd604e0c7d75099068ac52642a016a2aa4c82cdeb519cd6899aeb741485c', [717464001, 715255013, 685814001, 846407001]], ['1d0409a35eada604f1e0b9373fca7addd279f8790652b51037d361550dc3ce92', [717464001, 715255013, 158340001, 846407001]], ['1c4512d430e0fae1f4229f4bbcc2751b280b1f8c5ed31e22613a0ad810fc4c0e', [717464001, 715255013, 158340001, 895555001]], ['c4684c7e479d18cb75af0a0d1d2cc2242ec6d3c8f92d7318850515b4a8ead316', [717464001, 685814001, 158340001, 715255013]], ['e63650c0c4e68ad2c3ed59611ffc54c1e88b8ca76b06e214602e32f5e0d4e2ec', [715255013, 158340001, 846407001, 793104002]], ['7e44a12185db3afbb48a7226f99f15f32f45564a2dfaf005a420760f3bcbaa4a', [865076003, 717464001, 846407001, 793104002]], ['7da93eaa42658dabe61f0dc33e7ef9bb768126aaf1b5d31600515d02ece27a50', [717464001, 846407001, 714032003, 158340001]], ['6ce7735db4c4835651ee006904c3a25b73b551ed5f013a41c1b104b621efc3a5', [717464001, 158340001, 715255013, 714032003]], ['a347d58df2a0f5816e7ab194e253506c231ad268494f27a46b6150cf053efb72', [717464001, 895555001, 871638002, 556255001]], ['7449fb16412c0c46b6e084b18aa66f1aa1644e9bc9cb834b8ba0c3c73dd0527f', [717464001, 846407001, 839915001, 781758003]], ['9ca11a213bf58fc9f810c3e945eee7e720003c1660f000a21d5ad055fafe001c', [717464001, 850917003, 146730001, 715255013]], ['3bce6f16c017f3948bfd8550401e0321bef3e463b05a3861ba0f91ebc19be791', [714032003, 865076003, 715255013, 158340001]], ['d5a2bd1bbd6c99bd3c2116e70372517a5269a51d713991a53db426514bb65cd1', [717464001, 158340001, 846407001, 839915001]], ['5117ec927456fe8a0f959221f5ff19a9eb2eef6d75eb5162e3980306a21eb82f', [717464001, 715255013, 846407001, 158340001]], ['b5974fa8a3c635bdbf9bfaf072e9d5f9e6070bc054bc57fd480cbe97c439ab8d', [717464001, 846407001, 158340001, 715255013]], ['8dba241ea3a9710962aba76428d142f4f911422916d184edb8864cc9f19b15d4', [715255013, 158340001, 717464001, 889456001]], ['bf107810f5d1d06b2526e3ea46bd047edc998a1b82e9f90589e3a6f0ab9a2746', [715255013, 158340001, 846407001, 781758011]], ['e9950e926574d49cff5da52d3c57a8e7924a3cd5071edae1d6385e8106ee2ffb', [715255013, 717464001, 158340001, 895555001]], ['97a6722eb1832785a5351cc8bb8ccc19ce3454b59f744e1daf72cac24cbd66b8', [717464001, 846407001, 820866001, 918443002]], ['db6068437dc95d6e7586f6ed66c3630a42f327f400dd8bca6931a78a405f7e9d', [717464001, 715255013, 912862001, 846407001]], ['e991ed022d74972680ffca0734404d7fa554f936e0b79443a7c035a5bb80db84', [556255001, 541758001, 846407001, 793104002]], ['16c5ff4a82163f34b2c953230fad1ec197b11dd7b25da6a085567058786fa959', [717464001, 865076003, 846407001, 850917003]], ['27dc6b0027b66dfac24dd7f0ab728afb2ab01cbe70e4d73649b4aa2eb918a08e', [717464001, 158340001, 846407001, 541758001]], ['0fb4c7eb52a1a5bfb2715afddfc7f4c19089c316ec62454c1f25a8c312a22ab1', [717464001, 714032003, 850917003, 839915001]], ['7b369b542ad1b499ce9648e11db1ea9d9d6eea0e8466fcf7f538b2383f9a44ae', [715255013, 717464001, 889456001, 839915001]], ['9af5da089b95ad7bfdc1af29954f0ca08f582ffe63d78259ac73e0eaba1051cf', [717464001, 846407001, 158340001, 715255013]], ['f4b597f60d6c39284168de605acff331b6a3020b2216c35597ee7d7d45a1e968', [717464001, 715255013, 846407001, 158340001]], ['059e6f519f65be77b44a50bf617bb3a72a18c2546530f92995f4601ae4b4addb', [717464001, 889456001, 846407001, 714032003]], ['f56aed6f39b568f0a73db70300ad926604787526d4bd236d10b0dd501d5505e0', [158340001, 715255013, 889456001, 846407001]], ['066f40f3e7c5da52aa61fbb75a29f042e4a581a570224a832b5eedce0817a253', [717464001, 820866001, 541758001, 156231001]], ['2769a39f111b2bc611ed166debad59f72e82e62e9c7b3979f8ee6a701dc6d415', [717464001, 561274001, 715255013, 541758001]], ['bd2ec7180d370bfea1ec131fc6a4aea2bb3405c684930b8bf5fc2df7f62539f3', [556255001, 717464001, 821398009, 158340001]], ['facf2b3193a99bd623c3ef186256783908949e880b2b075f9d86b8598809a391', [717464001, 846407001, 158340001, 715255013]], ['adc1b0cc4918773f6a6ce063f0adb9db939ac3f861aa2f3328d2bab257ac3841', [865076003, 158340001, 846407001, 717464002]], ['6e96f2ab2880d3a10ea98043210e3665b9b6bb81469f24f5c95df100a43cc428', [846407001, 717464001, 156231001, 715255013]], ['aabcfcb215cb37fcf2fb08cf6cd31bc9314a72959a317d0758089cb423a1e9f2', [902175001, 717464001, 933706001, 541758001]], ['98d63f0656fa4682550008545bdbf2d66eb6af33d6caab3fec3fa63ac2ecee76', [889456001, 846407001, 714032003, 715255013]], ['0d78b7d9b44f2cf065786a8ec856425f60b3b678852e0afbbc3099260b6a1d8e', [850917003, 846407001, 839915001, 714032003]], ['bef95e926f5f4c2d167d14aa79e03081c7de09095c4ddc544e0fcbd4dae7ce7b', [717464001, 846407001, 158340001, 715255013]], ['0638efd43229e0af1422662d92cb9e2ce1b1c925a9883be0f567fc1ba395c8cb', [717464001, 714032003, 846407001, 160442007]], ['d0bc65bfebcc6dc2088bbae7a01fbe25c041e2895cc7e4b4d3ca7ea2959f8e96', [717464001, 715255013, 714032003, 158340001]], ['84c6447b54075946debbe56aa5c2c31f7bfff360b1022996f441916d84ef0c1d', [715255013, 717464001, 889456001, 846407001]], ['4254dc2e2ae0815e5989d21fd18051ca794d7bbd4bc68f8e6b44467a0e5b6abe', [717464001, 846407001, 158340001, 146730001]], ['446645785f9b922f9ee6799d99dd4923538e2a60a90d8bf06d5ac4e8ec19144a', [717464001, 865076003, 715255013, 570002100]], ['eedb284a674e6653fc6cdd9bc0c7cda360d0bbee8c8372ba3f463cffaa900a4b', [717464001, 846407001, 158340001, 715255013]], ['4fa9c038abcecb468243a5557d1e502ea38aaa7b7bda1101332aee4f0088dcba', [715255013, 717464001, 158340001, 160442007]], ['08389f0acf804e7e950c609ec50bbd8d17193d5613bab8be665990cad06d48a1', [717464001, 158340001, 146730001, 846407001]], ['0c824204097177806d5db1dda5a70c15158bb0b81c69b1d3c3b1355b9473ce9c', [850917003, 850917001, 918443002, 933706001]], ['39accb9576a0055f60be8d957f3633a8c93a65f327905501bb42fe246430324b', [717464001, 846407001, 715255013, 182909001]], ['7cfc6fb587075f5b4d4b6d8d01ad9f3f508854126c259c2ee37783d64e530cd3', [717464001, 865076003, 541758001, 827957003]], ['19dbd9155469daf123f0aaa9a680820692a8f5ed3d413ce55058fd551c852454', [158340001, 717464001, 714032003, 865076003]], ['e9eef33ff8b7ae9150a86f87a840400d9a1615c4635989c63118451f51637644', [717464001, 846407001, 158340001, 715255013]], ['af07f9492028e6daaeab6c47a77d37fb6fb78c3fb4c525e0368d2520750c5236', [717464001, 158340001, 685814001, 156231001]], ['1510cbb1d10615b40f559e43c11e34354c6f96601acd411068179a1a0a9ef23e', [717464001, 846407001, 158340001, 715255013]], ['cb73d3448fc21fb6d4725757c5fda2da0bb91f33cfd54740c516c4c350f023f5', [865076003, 714032003, 717464001, 541758001]], ['dce824bf2fd1b839ccabb3a0874d1126628caa7cb0c950f1aa42b1220a28f0b0', [717464001, 846407001, 158340001, 715255013]], ['33781e94bad43a52e00e79c51dff6b841255273af6ede64bb2bd766664dd10d5', [158340001, 714032003, 715255013, 918443002]], ['3b12a8d2dd8603413d4a2b0a538827506d9a1a6a44d37d0d7a1eb6013b1df49b', [717464001, 846407001, 158340001, 715255013]], ['5b9162256d6e071146a9ce951991e707272f9f97ffe0e41912318c86667952d3', [717464001, 715255013, 846407001, 158340001]], ['6892f3043c0e821c05e70d30a480bca56f4dc60062e9ea9c848b6be6b47ae6ae', [717464001, 714032003, 915611003, 846407001]], ['1e633546fe0f4adf5aa56f5fc70fcbd8f65b8ff7c26aa9d6ec56b2fd276ca136', [793104002, 717464001, 156231001, 827957003]], ['45ac702a31e8599c16e5ee53a8dc31b45ad6012356e279c6775d2516684ba024', [839915001, 570003002, 850917003, 714032003]], ['e8c52cd0281ee188637b4053f9233f54524faac7b58a7f7122e6ac6b546534a0', [717464001, 846407001, 158340001, 871638002]], ['53c367a03a1de2589f265d804a49f84cdbc8fd2447b0af737ce897ade23de200', [717464001, 715255013, 850917001, 685813003]], ['50ccf154bd30b30cf91461a9e8b433609aaf6854c67f9a9a46ec59420c11134b', [717464001, 714032003, 158340001, 865076003]], ['94b7c52d92d697e440b13a008da1585d3390d735881f73adc5354c0ada248895', [717464001, 846407001, 541758001, 915611003]], ['0e540aaf40b3580f03df1c0cc445ecf8efa1a9cbf61a79e6c60d5fb26d218d42', [717464001, 827957003, 714032003, 570002100]], ['33b9c743bf98f45917cc84f35cd4e5a2f1cdd3d8531aa1e23d381c56e3c7b03d', [889456001, 715255013, 685814001, 865076003]], ['697e7d10229dcc5416763193ecc0065d4be3215a6e47ac1d7a48eb1c91702be9', [717464001, 933706001, 158340001, 781758011]], ['2c113defdeb4220d526bf3f320724cd20c9013dcb62e7452e94dbc3f6ca87d9a', [865076003, 717464001, 158340001, 846407001]], ['9a93bc01faf448d92f8203c8db41be1b92d9c6325379a4c05b37967b9c9397a7', [715255013, 846407001, 865076003, 556255001]], ['cd810608982f0503157b5298397e2a6625fa0986f780f60b45b10cde5c408dd7', [717464001, 839915001, 850917003, 846407001]], ['b9af6991bedbae22336365ec2f41a63bddb3bb7c8233cca357d70979f88bbcc6', [717464001, 715255013, 820866001, 865076003]], ['13f6ffbaf713ba269613e0a37dc3db55be52e72331edb115f4ff81e41cf2c773', [715255013, 846407001, 717464001, 912862001]], ['989d6b1c22e3a3218799d84c9174f8439544ab4e1d9421ac9d9e6f85d08061d0', [717464001, 846407001, 158340001, 715255013]], ['7d9f75d5118b851fe09fed259218bf3118cea67d7c3d011ec139da459703afc3', [717464001, 158340001, 123173001, 541758001]], ['9accfb3dd41009de5e5311298f456bc448acb258f8e79c0ab4c3b581aa3d7a89', [717464001, 714032003, 715255013, 146730001]], ['325fca4a330c459d250848771014f68fecd08db3be70b2cb415af0b162530a9c', [717464001, 865076003, 123173001, 715255013]], ['62a17ef4fcb3b085ff35644d590d7f58f9912fc3f93c445b2c7300c20503b33b', [846407001, 570003002, 714032003, 160442007]], ['10e5cc96dd413c91fdad25cb5267c3a5ae64337c225609cff011992519174dbe', [846407001, 895555001, 820866001, 158340001]], ['7c9b0485fd52554357b247832471c10a408400e65cc3a9cf76a5afb699361ed5', [717464001, 715255013, 918443002, 846407001]], ['87aae8de4c0a87c478ed2e88653720c4f38c63267560d3ffc65cfae7ebf7587d', [715255013, 846407001, 839915001, 865076003]], ['8036d21a0d68b92b838c9fee411f13771e16a6c1e05622a78cecb841d54fd190', [717464001, 715255013, 839915001, 714032003]], ['cf05d69c2aaf48d45df1cd365dabb00522182922295652764df7da568f433547', [717464001, 715255013, 827957003, 714032003]], ['fe510360bdc53fb4525dc9d688704cb3c765360023e1230293e41730888dd82c', [717464001, 846407001, 158340001, 895555001]], ['96d7459e4f0c95b80c8af7dd9621dadf2ad51e78f42f757ef6f6dbbc111d44b2', [717464001, 158340001, 865076003, 846407001]], ['c265e7091ac8fdefef5a554b51b5dfdd27a8caa9391571ee8fbd89d0ab8647a6', [717464001, 158340001, 846407001, 889456001]], ['e271f9b3e4273ce2bc79c55fcd8c4fd2c7a965c9861cefc584825123051124f2', [717464001, 781758003, 685813003, 820866001]], ['ccccbafaee90a3f347354c8ac16280a7da91f9f207de9d2b7d7ed5341dcda554', [865076003, 717464001, 846407001, 556255001]], ['8e671ff1ab24137efa7645aff2300046c7b836c8b055337470026edf8647b348', [717464001, 715255013, 846407001, 839915001]], ['754ad3beb0eb2ca6fe8e65072c3b7e4554ba42f89939f263d71cd7319ca44679', [717464001, 865076003, 158340001, 846407001]], ['32969a0b6f85900bfc833a8fd7a5dbb1299b838e25572e50b7495db6315fccf5', [717464001, 846407001, 158340001, 715255013]], ['78f37155b9412044685fed7747a216394f333f3dd46d7091f5cd297f3253490b', [717464001, 158340001, 865076003, 541758001]], ['203d3024651ca4f2616ea68fac10d5db793fbb884d9d5f83ea074cb5c6cca9f4', [717464001, 846407001, 158340001, 715255013]], ['6567590b3fe77c78efbf64b18e21bfed2cc17aaaccfff5939829a3cf4ecac60b', [717464001, 714032003, 846407001, 146730001]], ['2d80908b631d31b6f121e9cd2f2fbd4f3afcf7aae03abb496c1b5c62be8ab5a2', [717464001, 158340001, 715255013, 918443002]], ['c994160ba3f8dad13f7eff0ef81a106fee5ee29ef179b10461240b88514226e9', [717464001, 850917003, 158340001, 715255013]], ['9914cf57fc0a892a8c656627791bcb2a5774bab034f87147ea8a0557c44d175d', [717464001, 715255013, 846407001, 714032003]], ['8e8bb2d724e4aeaf76221bfcbb9eb82e56291bb92aa65304016afa8e614ab794', [717464001, 158340001, 846407001, 146730001]], ['6cffda093a3e1d978bf531c94420ba8b0d08493ec85f8dd9092c225313b33253', [717464001, 846407001, 158340001, 715255013]], ['828a542728a8c1ed08b422a4914a0087719e5e9226d2074490de744c9a3d8b38', [158340001, 846407001, 714032003, 865076003]], ['4a304db4cdc061eb14afe05d4574fbf7d293916dd2ba0c09bc650d1751dde2ea', [717464001, 714032003, 715255013, 158340001]], ['c97247651711693bb75e52d72e74f8705a8636ae5a8ed393ba7c41942700548c', [717464001, 715255013, 158340001, 714032003]], ['a6c3898af2cfe379f963652558a06d0710f6c768006da79345dc8f2f5561afdb', [717464001, 714032003, 846407001, 541758001]], ['7a7f449e0423bad32eeddfe10c1d7d0b64f4da675470b65082d90e43dd78dba3', [717464001, 158340001, 846407001, 556255001]], ['215d18a4bcdcbbab0e4a75d2e87fb923ae97ea1f41b7bfccacb565909336ed1b', [717464001, 158340001, 714032003, 846407001]], ['a154542ae991f7d8f345067996f3227e979fe298bd806e038cf492649c1a4ae2', [717464001, 889456001, 158340001, 846407001]], ['e35f22bd98d3f4cbf87c975d767643037e4e614a580d56142fe08c21c2457b05', [715255013, 717464001, 846407001, 541758001]], ['e2d10747097b093b8be128c105fcf0148ab1d0e4c430fbcca29b89b8c355e953', [717464001, 846407001, 889456001, 850917001]], ['1ab93ae96384250ceb3642bad8b3db17358298c5d28476823081fc8392cfdcaa', [717464001, 158340001, 846407001, 146730001]], ['c2d6edc35a3d77d806547d84dd7e62e246a223c0bcc85cebb800d67b20a1791d', [717464001, 715255013, 158340001, 846407001]], ['b6f849acded4b85c9c563a9e10d9c7062efa1a6a01739fc6af05c12c791026fb', [715255013, 846407001, 714032003, 717464001]], ['34ef3efbd483219a2961aede57b2098b7ee252aa6804b96dc2cb1b63d9df5615', [158340001, 570002100, 714032003, 156231001]], ['4d44aece68022d5cf3815186dbd130f251a391a71c15da7187b7a291f9e00eca', [717464001, 714032003, 158340001, 912862001]], ['5acea3a13bd8497fdf22b519df80f2dd1caf1ad67af4c5742fd0062d074a1691', [832458002, 714032003, 715255013, 158340001]], ['347e81b3d8667030f0f0620e31158c8fd249837ebdce019af66d3744169a349f', [715255013, 717464001, 158340001, 846407001]], ['b5902c2e4a95c173e686799d2ed4ac4546cfb63f071b4803333cc0b9a6f6ccc0', [717464001, 850917001, 846407001, 912862001]], ['1a13e4e01806615241ab9093e4c6549898889e5fe24ebc7aae6d766795847627', [158340001, 717464001, 846407001, 570003002]], ['79bbffdef298886354a211b1229bc1fbb577a7a7bff362ed6fe00328b2ca10c8', [717464001, 839915001, 541758001, 846407001]], ['5f0c9b6e83fadf2da7cb4db8808f5740890ef65ab5b8ffb41757067b7e994f80', [918443002, 850917001, 123173001, 850917003]], ['782fefe3c5785406bd69333eed6c58c57b7aadb567f5e4c60d8c77614f88cab4', [846407001, 717464001, 158340001, 714032003]], ['0d6c842eecc01bd775ca71f6f99d89ed8f7065cebb8292d19f2ac839f325e918', [717464001, 715255013, 158340001, 714032003]], ['ed4dfd5f804cce2672dbfce6d10f0dda04ea5595a2e6663f65a319798d3bfb89', [846407001, 146730001, 715255013, 158340001]], ['f57bcae014ff38ac62e90134570252341af8f2b76258fbfb6ff90f3a80a8c1db', [846407001, 714032003, 685816059, 156231001]], ['2748a892d52851f2c0b219e09fcf66fb004987ba4c1383c33222aa075cfa96ab', [717464001, 158340001, 717464002, 846407001]], ['4e8b590f4e972f3cd28c67429ef3bd368c6c0924daebe6708404527794de91ae', [717464001, 846407001, 715255013, 685814001]], ['b30f770bc80b475857f17dcaf010d80aa79524751173a09e950c0e0c0c1a0245', [717464001, 158340001, 570003002, 182909001]], ['f953df9c12fd6f6a3cefab3254bce3ec7c02ea39da664658f29ef0abe8696995', [715255013, 158340001, 918443002, 846407001]], ['bad0db691ed7a7f10a6b2946738d1b786b829292347e2d215133dcb7a6ef53e6', [714032003, 158340001, 850917003, 865624003]], ['82e22b7659c97099e27c3863205c4f26640327bbe55640893a359a491df91cf9', [717464001, 865076003, 846407001, 714032003]], ['974ac48c07a3e849fdf6fd9fa49efadf3eabd657c035dc3aaac3a07db878e470', [717464001, 846407001, 715255013, 918443002]], ['87f83725005e9df7386528274f840f745e55cbf40a79e0fecb768e90fd33ee8d', [717464001, 846407001, 146730001, 839915001]], ['7eaf770bbacae00ca1f8bab7ee9bbcfe4b9ef8a78660ad1a09a5d70b3134ead7', [717464001, 715255013, 158340001, 793104002]], ['e1e0cac77e464d78d40e9c9bd0c020ab281abd01427409bcb20772c25643f82b', [715255013, 717464001, 850917003, 846407001]], ['fb4a20d7b0b5216f85fa1df7199e73b3e49a88efca8d5c1fe622225d14c83f48', [714032003, 158340001, 781758003, 846407001]], ['df82f9e3e81886522a5a69f86fcff2ea4618ea38357f7715211da632de519d29', [717464001, 715255013, 868195004, 820866001]], ['40638eb4f390cb978893a26c0bb7a83d08312a0fffde3bd1b1d5ffb8b5b4f702', [715255013, 865076003, 717464001, 556255001]], ['2529adbe42a947979867624833589d0c80f8c9cc1f7a7ebcb3542a1ba6ad1ecd', [714032003, 793104002, 182909001, 556255001]], ['c9ec32568d8ca822f9849aba491eabc2b41a0c6ec4dae7a9c6f5c7066bf3a86f', [717464001, 715255013, 846407001, 714032003]], ['952e2d3beed9d8d061fa8b8f9bb1d9fbccdbc68b3b9654867cb8a9d779add109', [717464001, 556255001, 714032003, 160442007]], ['92718547389a1a7608e142b30b9226a50c8763af3eb772ff082538e5501d0a26', [717464001, 715255013, 846407001, 839915001]], ['ec142ced2d3a4c27cf79993b25c9cbdfc41c0792daa3a67c5525b0fdf693469c', [717464001, 846407001, 820866001, 839915001]], ['229b74ba6c5e79458f8f036f55e42b04022523ad2d6830ed6506b90a42d86231', [717464001, 714032003, 865076003, 846407001]], ['a500de226d5987164f7187e26b9cf014fd96dd74f2de34d7b9c2bec3ea4eaf7d', [717464001, 902175001, 868195004, 541758001]], ['28f6ecfdd87dfe77028573cd2921836c13a0f3ee1bfe99f1f9eca541c38cd833', [717464001, 158340001, 156231001, 781758003]], ['3cb2948bb1de2324be366a1d29db6ff5dbb45921613469378db36809d4ce6257', [717464001, 865076003, 846407001, 158340001]], ['77c9fec8c0b3d3df7ad60bcd8490680675b5d0d058c175a8fe5df288b6096b0e', [846407001, 717464001, 918443002, 158340001]], ['506de0aa551434a7f1aa18e792f5c0c4d6adabcb13a455d69b2067f56fc980b3', [717464001, 846407001, 827957003, 714032003]], ['f3fc56cdb13f36827030f29674f02a2aad1078f5bee2c7eeab5296d6158dc0be', [158340001, 717464001, 846407001, 685814001]], ['b7320334147ac1ba79df590c25886218a0817391bf882ef3fb4503e48f5708b2', [889456001, 717464001, 715255013, 541758001]], ['fbab38351353c099f481845ba39e40c1c52df8cdf276e02bc276fa3d8faa2069', [158340001, 850917001, 717464001, 846407001]], ['40b8240c72de4381610fabaf4cb182529f0ffd1a6fa7b7ff824b510cbe3d25bd', [715255013, 717464001, 714032003, 846407001]], ['874ef2168517064e00eea59c2f56a2863945b895ebba286e0849a57de117376c', [714032003, 715255013, 556255001, 846407001]], ['e98e66ccec1d55f4eae1bf4c381175fc70c24e0b32301270d05cbf954134ca1a', [717464001, 158340001, 820866001, 541758001]], ['a12b84d5a2850e4dfacb46f36e42888321ea9715e56e8d505896f2d86995eb5d', [717464001, 846407001, 868195004, 889456001]], ['5a65f84a43e60002d52c86d3eff9f42b14f5e77a73b41850bcb67380231622bc', [865076003, 158340001, 846407001, 839915001]], ['559c8f498ed54a2b53fbe2522849d697bd128991cadb44c356cdccfd1c271cf7', [717464001, 715255013, 714032003, 865076003]], ['bf8cd95f194be1cfa770bfc2cc1994011cfc7604ff886f5a20ecbd43166b3b00', [685813003, 714032003, 846407001, 850917003]], ['dc36f949da6e116ac47818ce03946c947dc091a0d8ea997d08233a3b5f3dbc20', [865076003, 717464001, 933706001, 714032003]], ['8b84b620b8a26f354f9db0a2627b3b88f621e6a960b990bc1ca8c31fc5604edb', [717464001, 846407001, 714032003, 541758001]], ['a842dd89be6bc574944fc7de3353cc4f081cb1993a3a86b654959a0b5951b2bb', [541758001, 912862001, 868195004, 825109002]], ['c48313d12cd2765c2acdade0e83d0993d7670ff0f8ffe7d7265c6cc4d0b5e861', [717464001, 846407001, 839915001, 921169002]], ['b3be8f98429a9c58f60a99e996289b1713cefeeb45c23c75bc5fc85bc29992df', [717464001, 918443002, 714032003, 846407001]], ['d4519253e3798b0e2beefc66c6a274093063366a7cee66f82935046e58be7b8e', [717464001, 556255001, 865076003, 846407001]], ['66d21eee2917f0c3d68fe01a135d36ddf4501882b735ee30577e4078ca1e5c0f', [556255001, 846407001, 717464001, 821398009]], ['bc9cb28801986a346a57c651b6f9a88212e1f163bbe364ba360c5d53d30b37b0', [715255013, 717464001, 714032003, 846407001]], ['5deb428affa13a6b9434b17e2f91e9bb0baa8e529ec34a01fe02fd45a178135c', [717464001, 846407001, 715255013, 850917003]], ['c07812ff4902c8f90d8f215ab03633c005017b2b9c499a29af908526c154e971', [717464001, 846407001, 158340001, 895555001]], ['3b31264f62bd1df86022402bc4b3cde300fd5746bb8d86bee158d9362821c2e8', [717464001, 846407001, 912862001, 752814003]], ['b6d99a41fc7f803ac5dea2fd69df708ed3b94a01c93683c9d337190788887ffe', [717464001, 865076003, 846407001, 156231001]], ['0560d81d98754912c1c4da9278111214cf202949d25b684d21c8d52e9f7f6881', [717464001, 820866001, 846407001, 541758001]], ['eb3a4fcdc0e68231e3370e85afe64b551200489d2cfe7a6ca02a4f60ab9198b5', [717464001, 846407001, 158340001, 541758001]], ['fee8b241153e748c206d808f567d9fa9d31843f2d73db0adf6140ec637e32d8e', [717464001, 715255013, 846407001, 714032003]], ['cee3a1b1d4fc9d86dd80ae05cc0fbe40707c2e3d935377e81c69600240c4f230', [717464001, 714032003, 570002100, 846407001]], ['0d4fb6fb46dfe2759bcf7bc80340e8915b207aa2f74b5b3c76f74d3ce28359e8', [715255013, 717464001, 781758003, 123173001]], ['aafabb4da9d21acde0f052f94233517e6b6d9f78695b014a37edb65d366e87d3', [717464001, 895555001, 865076003, 846407001]], ['054987944ae18f69521ea18f28f8cb6a559ea873749a3f69c07e7b7fbca4409d', [717464001, 889456001, 685814001, 850917003]], ['5567b8f2996f02440c5feaa9d6e27de181ed68d7e90c819fff2f67d8d3ad6aab', [717464001, 158340001, 715255013, 871638002]], ['313fa429929c0252d59d4924f65710e78051ab4799c2d3a35e2f82165e0d53f5', [717464001, 850917001, 895555001, 156231001]], ['47ff424b7716e6e7c68abfcc044e7c1069908d7d814d5e06384c602eca0afcc3', [715255013, 556255001, 846407001, 793104002]], ['1092363650bfdf5987c89760b94db6cfe5c5e37c54be21aa8f35d95296ad63e1', [846407001, 715255013, 895555001, 921169002]], ['7348793dae3039f2b08791315558df69f402f210473af4e1de07818c2409fbdc', [717464001, 158340001, 846407001, 850917001]], ['d6eb2897e352a268cf1ec9b6f247b4bf77f1e7e3df667f7ad612a156864fb838', [717464001, 895555001, 846407001, 902175001]], ['2a0c67b827353f7681202c5709f8947e1cd37ebe795670689f64c9c1571225f9', [717464001, 158340001, 156231001, 846407001]], ['8d42892b26cae013386f23288634f91b5cf13a262cf5d0f551acffa08a1be7ab', [717464001, 846407001, 556255001, 160442007]], ['89fe455816f511623d75f7c9d3f1ecae8ac2d35371946908b4f41be2d8597f13', [865076003, 717464001, 715255013, 714032003]], ['e60fcdcf427f71b78cfe3b03f32146ad49bc4991484ae172b76a4ed0e9008577', [865076003, 715255013, 717464001, 846407001]], ['c25affea8f17c46a054405658f70bd0de9e2e1bb3d874b23ab1b6b0df15afbfc', [717464001, 158340001, 846407001, 561274001]], ['32e0c82837ce85cc4f82c26d3a74c0434742a50ade7481100fd1430c88368b55', [717464001, 714032003, 839915001, 715255013]], ['38db63d9d3f74e63fdb8a99208c608778466ba44c0b7fe137b666c5439950baf', [820866001, 889456001, 865076003, 912862001]], ['9f4d2acd04a0e8612a7ce3ef8159d1de7b355dbb32882e72110366b4731d77da', [158340001, 717464001, 846407001, 541758001]], ['805610328016f97ef0cf4b9201fa9b0479e751dcc45757bda764aa0b470d16d9', [715255013, 717464001, 685813003, 846407001]], ['081ce26f69fa2d06bf7c13afaa0dfb6bf0b4ba6709e0786a7ed1129c66209a3a', [715255013, 846407001, 918443002, 865076003]], ['8fc2f0f0883ce3e76d249212049d6aea54e2d72a84a4354337519a5e80059832', [865076003, 556255001, 570002100, 902175001]], ['d487163ebe1207013b7cd91408f11e89ff704e85bc0483291e18402924808882', [717464001, 846407001, 158340001, 715255013]], ['1c9b26394ca71312a2211be99e02ba913377ab6c00ba1cbaa815b2fa7e734292', [717464001, 912862001, 570002100, 793104002]], ['6c69a80e49c65ee1d08540aa3c4d7321fd59e1f2fd26fc7690bbbacd3e43a235', [717464001, 865076003, 846407001, 912862001]], ['12bd44d6bae7171ce176cca2b5098f2cf5f37735502ae37a3de80b85ce827ae9', [717464001, 685814001, 846407001, 561274001]], ['211e90cd5b05917e45e40ceccc419e0b10e0098e5b863adebd3184428a7ca5f4', [717464001, 158340001, 865076003, 846407001]], ['69e0e5bb1b77c4544e938c461cb7365d90ff8e6730bb05ddc10ca59858970b8f', [717464001, 889456001, 846407001, 921169002]], ['fcb82adb018cda343b9a321701dd663ff9ae9bd91c9e7bfb1bbc2925947e3813', [717464001, 715255013, 846407001, 889456001]], ['481efeb3db020ae6514471eef590474eddf92a7624d0179f6bfad5024495cc46', [717464001, 714032003, 846407001, 865076003]], ['502f96a421f9659af8b015dd01cfc3896ddf634f35cfce6ed05483a38f5d080b', [846407001, 717464001, 850917001, 865076003]], ['cef33f7b3c81819fa4633f4c4b183058c36ed14083d0e74e670c8899c40d152f', [717464001, 158340001, 850917001, 715255013]], ['dd8c30362af25be34c2a6f698abf7b456db7c32610fc5a3d33de1be54f937ca6', [717464001, 846407001, 158340001, 715255013]], ['a64a48d3892131bad80369592007509927621f409447fcef4fbff0e3361f5bc1', [556255001, 912862001, 570002100, 561274001]], ['63e51a567d7bbb9d8173238962e15bc7111bcacb14a8ffa91ca61e1ff62a03f4', [715255013, 846407001, 714032003, 146730001]], ['409fa3cf99b48917ef405e2eee5835a6834a0a3193aa6ef8c0747d56de2c298f', [717464001, 715255013, 912862001, 841383002]], ['81602891a56fed35527d71e475b7c15df1d045c63bde8b820d7025d992368428', [865076003, 846407001, 715255013, 714032003]], ['a8f48f20f333e420a4760c85b46fc211227a5b2988a8f14f53fdd300d7154a38', [865076003, 889456001, 839915001, 846407001]], ['7f95156bf54f8b263f4984a95013b4de972193b916b44581e943e4946dee3476', [717464001, 846407001, 715255013, 839915001]], ['fa7c891d0aa5a66007c0400a2c0f4a1fa4668715c05d5bc2d5c0e8cb66ee14ae', [717464001, 158340001, 846407001, 714032003]], ['343d3fe94539a0824bb965cdcab412b11371d8df31421a99931d50fdb100ff46', [717464001, 850917003, 889456001, 846407001]], ['1d806d77d1c93af95206aff6a91410b65c6e58b1eb377654298c10d6c9e70629', [717464001, 715255013, 123173001, 156231001]], ['241fdf44b42e49f01c663a84f97da2552405547767bf2f211234548a5bbaac3f', [714032003, 846407001, 715255013, 158340001]], ['9bfa2cc6faad4dac696f8356f9e8226f36e0c9b1c16bc1ab20076beca1bdef28', [715255013, 158340001, 846407001, 921169002]], ['6473842c015c29ea41808b0fe2ac7404651887d19d436901baaa31f07b9f7455', [717464001, 846407001, 158340001, 715255013]], ['6066372df31d10c5c556a59ee51570fcae2ffa256dcdda6908e96c0438d0b486', [160442007, 158340001, 717464001, 865076003]], ['1b20f93fd7188c98f638ad2a04df86b684ecac2c5ce1ea285a2865b29f6aa974', [717464001, 846407001, 820866001, 158340001]], ['2becb5057f9d2ce1c0d46f4e0cd463117ef71c4fcd2b4c6094ddb3fcab40dff4', [717464001, 846407001, 570002100, 556255001]], ['c16402580dec8bd6d5e868f3d8d1b4fe159dcf786d5a62ff2b2535a06e3a8a5e', [717464001, 846407001, 158340001, 146730001]], ['ad9a52a0363585d6804d05341b21b80359a63a7e5b2581d4dc856144bf8a60c1', [715255013, 846407001, 717464001, 889456001]], ['4f1a3988e647ffd51ba66cbe0e0663ccb65c0baba90141c830b46ce57e315d77', [717464001, 846407001, 158340001, 561274001]], ['9687393e240c443d1f652d2f129821f73869fcecfa2cdad482671bcb0f590805', [717464001, 850917003, 846407001, 850917001]], ['2eb9f43486c8c145b168a592154b2e9458c2d103a4fc1168c139990afe35ac6f', [715255013, 570002100, 717464001, 158340001]], ['de9f09b907961291bfcb1fe42cc7ae7d76d33b4e894ec6bf438a39c88972f94d', [889456001, 850917003, 846407001, 717464001]], ['370c4c9675f09b250fa450d1473a2370653271683e612779bea1f278784c4c93', [717464001, 717464002, 781758011, 846407001]], ['768a9c31e39056ccbb518ac1caf8cbe71d26fbcf6f1e47e98fee0a7f0bfd4f6a', [717464001, 827957003, 714032003, 895555001]], ['bd2ec7180d370bfea1ec131fc6a4aea2bb3405c684930b8bf5fc2df7f62539f3', [556255001, 717464001, 821398009, 158340001]], ['d7fb111860b57f5449c8b4a792ead5d8b31157cd921ce5fe09c5a8fbfb04e58f', [717464001, 715255013, 158340001, 570002100]], ['475573f3b92980870c2ccf9135996bfa331d67285f6f105c5d6187797b8bb179', [717464001, 714032003, 182909001, 715624051]], ['10c1b2abb0ccb862c72153c7e3d862a7d7ee6ee7b5dc9fab52def80d3775767f', [717464001, 846407001, 158340001, 715255013]], ['297c6e607c120ac2a28f3d1e2581be3d1c4ecb0da8e34483e46c230f4255773a', [717464001, 158340001, 846407001, 714032003]], ['f1988066e8a78ada614f77c9ed1d5a09aaf5e495f3fedb11a49af38a8f11b353', [717464001, 846407001, 158340001, 715255013]], ['abfed6b14c491885c54b49ad87f93484e30356496ed8f33dc1416281670d3eeb', [715255013, 717464001, 158340001, 846407001]], ['3c13214a4b840b132ec07b9344c2336b7cefdba697a13deb5bb63602d3bdad15', [717464001, 865076003, 715255013, 846407001]], ['5d5b2f8255615c2cd95d5aae83b549b72a08ad73562ea2033ca244f052aa44a6', [717464001, 714032003, 158340001, 146730001]], ['dc58f1f7d7eba695a779d2b069df36e02c55000c87ca9d26800fe683954348f9', [717464001, 846407001, 715255013, 158340001]], ['cb180fa3358165174174a3eaedff791b8bdd506d7fa392c7e402e3f93deef995', [846407001, 715255013, 865076003, 717464001]], ['ae42b4cf81c5dedf090ab164f2d0674e9fe2ac392c8db2e1d90f3b73cfd04dbb', [889456001, 556255001, 865076003, 846407001]], ['a0f33affe55ccba7ac0782b309d4854904ebe0931152c2752010ae0b1308571c', [717464001, 715255013, 846407001, 714032003]], ['f4e4d03b3b04cd1ee45aa44566e6ab7a60793995c25d2a19febb143448fd2ca1', [717464001, 846407001, 889456001, 850917001]], ['afb29864695e9c5fe90fbad02e390b41abefd61a14cfa15084614fb042d15b1a', [717464001, 570003002, 846407001, 541758001]], ['4d7bc34b2576f69b3b66e0165e4f13c64e12116657da53398b617700d2df562e', [714032003, 717464001, 871638002, 541758001]], ['f59403fdb6ebf65b9efeea0c7b78fa37f89f6d18471eb77688a0dcd980209784', [717464001, 715255013, 912862001, 827957003]], ['5ddd413bf0a6a0140c679e30dd4824f4ee4066b1b0b72cadb4e01cb28c9f741b', [846407001, 841383002, 158340001, 570002100]], ['97a9c7e88379f79db8732a14de492cb9b88d51d403280bec48a0988978acac7b', [158340001, 717464001, 839915001, 912862001]], ['0f356fe8e384f4bfe144e4ec74026393a0c8cbeeff428c1c0bff1928ea5352a6', [158340001, 715255013, 717464001, 714032003]], ['378799a7cea19aac85395a908bf98f08ca9d4a1f64e91b9468fae82d997fb487', [717464001, 850917001, 714032003, 839915001]], ['a516538dc0bf14441725c9dfed880a13a2d1ace3981d87011b5b54a5a16ae3ca', [717464001, 714032003, 918443002, 846407001]], ['598bf18da55d10a95a9931adeb89eb15cb39cd862e2d7cec7c199f4e58f70c2c', [717464001, 182909001, 541758001, 846407001]], ['aeafc2167a4a71265742bf587234d835f662652df16dfd2848b7e10efb0d7df9', [717464001, 846407001, 158340001, 541758001]], ['b520c0d45d26ad2a752c7f93b65f9851963b3a43a85afc332be8f3a6a718cc25', [158340001, 714032003, 865076003, 839915001]], ['ac19bc871b2dee711f7cf26f609d5162e28d0e5f564ab447d4cf7108c84c0078', [717464001, 846407001, 933706001, 895555001]], ['278814b30e14185ce3074db8c51ac176939485b2bb7d37b0d2d375a272d3c14e', [715255013, 714032003, 717464001, 556255001]], ['131b65828008a0fe775df41a269f0e30ac201ca03c8d567f599da802a08536e9', [158340001, 846407001, 156231001, 912862001]], ['ca7657b4e0e7d5f9130076fdaf8730f225d46fbfae057f49af8c9793fda33b82', [715255013, 717464001, 889456001, 685814001]], ['7f28ca5f1efe52c1fba0ace2b87a7e7697523d89429d707c45f649783cb11007', [717464001, 158340001, 933706001, 715255013]], ['448bcab85852df3ae1f243de4f937f2ba32341326189b4e1ed1629eff7ca036f', [717464001, 715255013, 714032003, 846407001]], ['15fcc1083494b26f34606e056e6f65ff378afd22c2aba8de944530f0b98fee0f', [846407001, 158340001, 850917003, 541758001]], ['4ca5c831b1ee6d69b456f96a9d4fd2cf4e064f1e062420c83cbaa82560db15b9', [717464001, 541758001, 781758003, 158340001]], ['2fce47c9b640c4ca491eec60d7d1454db0626ed5d4214565d9cf9176ba16b674', [839915001, 850917001, 895555001, 123173001]], ['cdf88b23a642dfcc5608df44bc5dd679801172081ff3dfae7b841c44ce6b37a3', [715255013, 123173001, 156231001, 912862001]], ['9c4bfcde191df442285b261b1ada8e6a653b6dede64c6246ddb2f1eda56f661c', [717464001, 541758001, 158340001, 912862001]], ['77220f1b9b665892f57887ebbc37336c27c88bc7b71386e49116bf3467f1d949', [717464001, 158340001, 846407001, 685814001]], ['45c2a801a1155f0e45c8816b21c0922d5d99505630e6d781b94629b5c680fcf8', [717464001, 715255013, 158340001, 781758003]], ['214a16cfe8d8cb3297408997141b54f75effb3d9dd7079bb8bd1f547415fd1cd', [846407001, 146730001, 921169002, 714032003]], ['2d606e77a0ddd6ae1f6b9d732cf1462937bd96a5b0c0b8cd73d2e228778cc250', [717464001, 889456001, 846407001, 158340001]], ['d702491f7d800b4fafe5b4bf0b4ac9fb284fbbb733618c1d93b2fb3ab6acef70', [865926002, 933706001, 781758003, 781758011]], ['5a0a33ccb54797b786e7fb2cf11ddcc0a15c8dd368f6dc68e3c1b28ea07a7f5d', [715255013, 717464001, 865076003, 158340001]], ['5798171172a4a587604a8e4271226b2eac12e6ac1abaa90df003a617b93217be', [715255013, 717464001, 158340001, 846407001]], ['d0ad6ade3c20ad346710a44ac97f7bb8241e4d89a4aae1f97e5ae39b67f8938b', [717464001, 846407001, 158340001, 715255013]], ['96c635f5159365471b903083ff6d84c10b449688156ceadc9d2e7a8bbda38842', [715255013, 158340001, 846407001, 912862001]], ['72d8ff21b042ea45d3f16327088ac06186255e6d9a963ccccfb765ac3519373a', [158340001, 850917001, 846407001, 715255013]], ['0f5c575f842f5ac91fd831ed64aae90454204a37e6dec943c887b397d78b491b', [717464001, 158340001, 715255013, 895555001]], ['07ab3833f42089b72649abed5298474a39d63d21688966c29e11996e25c270e1', [717464001, 685814001, 158340001, 556255001]], ['907b1fa2b5ff79815a40b3a39245a06f4e06c62d0de91c9c857f3b89d7dedeff', [158340001, 715255013, 714032003, 846407001]], ['dfa8d2952c995febc8fad312511a5f111a6eb545d1cc3988eabc9c296db253af', [158340001, 717464001, 714032003, 912862001]], ['24b030cd2628bb37bcc497cd0ddbda614619720134ac8a4f5e9e5da57823c677', [846407001, 158340001, 717464001, 714032003]], ['ae31a3e9113cae1dd87978dd017706d3c5a1541cde47c89b2278587e9c01bd2c', [717464001, 846407001, 912862001, 839915001]], ['32f0a99a2538975918230cfa7e221ee22aca8283940a404d185d345bf9a3bd4d', [717464001, 714032003, 158340001, 850917001]], ['f97aa57164943e9119c640eb247c643c790b2a76c55ecb9728fc139f662c98ae', [717464001, 846407001, 158340001, 715255013]], ['954fdae3e551fce7463a9c1257d322169bd3ce51534a573ae34a74b83d755e55', [715255013, 717464001, 846407001, 158340001]], ['46e3033f2834df9d017132fdae73ff6f16723c214c0820710ddc4ccbd522c8cb', [865076003, 846407001, 912862001, 158340001]], ['a851cfe36b3a06eebc5cba7670ae54e799c8b8c1645388fde4ea8a70eb9a13b8', [717464001, 715255013, 817416004, 909924002]], ['80fa0754c9e296518c85c765303ab75d54235c6493de656d9d619bdc0699016b', [717464001, 146730001, 541758001, 846407001]], ['d80ed4ababfa96812e22b911629e6bcbf5093769051ea447e2b696ac98a3dae9', [717464001, 158340001, 714032003, 846407001]], ['4490f08b6bfa616520d26fa90e8a5a887120411ffe1bbe4c48c787100abaa6bb', [717464001, 865076003, 839915001, 146730001]], ['74cf24f52f1c88d51e375aba1193330bfd7e4b309b05b4f38dbc4b2e0c765d00', [717464001, 846407001, 182909001, 841383002]], ['7df94ba3721d2532484a951b092c8b1eb7af48fef0d82eabe88eff49e9173911', [846407001, 714032003, 839915001, 146730001]], ['90907ae09ad77670feecbc4e29a4f5a8c93954e1dc62537378b0108b7b39b589', [717464001, 846407001, 556255001, 912862001]], ['9aa118a2bd239308c7a663c652a5056b0885ba6fd8eb6898799ca7132ff69a22', [865076003, 889456001, 717464001, 714032003]], ['6e659b4aa975a33b4af266517fbe3dc035a162e7f11909c9a67c74ad910c75e7', [717464001, 889456001, 846407001, 146730001]], ['19ffabdaae7e37d3ac54c7b6fdb767b0a71d4dd2ff4a2d7139204058183d3961', [717464001, 715255013, 158340001, 717464002]], ['5ad2b97e1765d32d7e6fbeb18cba721cf14e431291079c0ba635d33d91c8b3f4', [717464001, 158340001, 541758001, 715255013]], ['b7b125f774c6bbda1d646169de5c6618256cd34338f13725f686376211a2b10d', [717464001, 839915001, 714032003, 570002100]], ['1302904fcdcc10dd8e0db61ea4cb43a23f060e3c001128b53a00a2902b6aeb1e', [717464001, 158340001, 846407001, 915611003]], ['a8ebce05f280b6ac07d1e5579561958e3ff1eb0473c9395f6932b159d85e1031', [717464001, 889456001, 820866001, 846407001]], ['87a734445fc1602958ea54d32a888f3e5e6348270462043c9aaa5ce0ab71f6c3', [717464001, 715255013, 158340001, 850917003]], ['613ed2ca98040a94de77a547bf352f70fa225bd32f2d25de3cccdb403375045d', [717464001, 889456001, 865076003, 933706001]], ['94050beb21092844bfa99b555fb4245e0c371e6a174e8072f1b15321a5f0c42e', [717464001, 865076003, 714032003, 717464002]], ['e8f20edf2a9ad195f06a788bcac9bbf73858a65f828c232ed10588c68e3aece6', [850917003, 839915001, 846407001, 715255013]], ['d88909311b43341824f0c41d115b2c5849f0c5f35ed9cbc14cbc66219539f1ab', [717464001, 158340001, 846407001, 570002100]], ['78fa11a9aeb81de88876a56ef6b9fcbda55a645b85bff06b66883d1d3470ae3e', [717464001, 850917001, 871638002, 902175001]], ['432a8297f93a0a19f8b90f4a7c62ca2fb2b27d63bbbde3475f21893936158114', [717464001, 158340001, 871638002, 714032003]], ['445c3d9af2e56065319607bf83d3b2efa9caea2b56fd350985bdde8cf0b020e2', [717464001, 158340001, 846407001, 821398009]], ['94ebf1ed9b02ebb1f0cdb75edd60261d24ba9be4ae48e0df99da7143e0a2ded6', [715255013, 717464001, 714032003, 556255001]], ['5a10bf39c79d73d722312a8ef16fef658c76a2951e3d11925a0716880d7f2f7a', [717464001, 715255013, 714032003, 921169002]], ['b03957930bb2f00067f29db4e634014f65b03f46ba9325d936853422b581ca65', [717464001, 158340001, 850917003, 715255013]], ['58f1a07830a4e649cf75b812df498d8165112bd038b5dd82ba3c7c6ac9bb266d', [717464001, 685814001, 846407001, 714032003]], ['e6f41c55d480d77a05786b850891845ed291a68a97d8965819acb1dd4398d1f2', [717464001, 158340001, 912862001, 779554002]], ['74f839611e9cea4a064ef9b83be36b9aa4ecd4d3f124e51debdb2aa0d4c21df4', [717464001, 889456001, 846407001, 182909001]], ['476d69fd9d96410f0a15aa4c05da1f6aa427ada06a08bff1e0c74fa548012b8f', [158340001, 715255013, 717464001, 714032003]], ['a60ddca0212e9ffe3dfd939b48deb8572f047de3920c21d7fcdb051e22c3b79a', [717464001, 865076003, 714032003, 556255001]], ['6dd07870d88514df1b199ac113aec30acebfb8e0f7412201f379ad2a1029cc0a', [717464001, 850917003, 158340001, 541758001]], ['3250a5b2eb95e738958cc295311c3d181ad817ccc5627a53194d42b40f974e58', [717464001, 846407001, 158340001, 715255013]], ['c579e26f27af77343280dbbbb9ecc515fb5ff417ea1ebf7d2fc51e546ffced43', [715255013, 846407001, 158340001, 182909001]], ['49025c0ab12acb4e15367522e53cafdad609f51153b8e2b0ad1907781bcb9aa7', [158340001, 846407001, 918443002, 902175001]], ['c101f1dce508be2a3c856093a57f468d2d9ff7eb45783f9f63a1c6950a087a73', [158340001, 715255013, 717464001, 793104002]], ['2848a9f0b1ea3a1d380a346d578a87685d80c0c4a704215abf75e8a716149b09', [717464001, 685814001, 715255013, 556255001]], ['2c875f1d1d39e6286ca87e123c3c9baa0671cbf7bf427fd8a2bd34cf2c626548', [717464001, 146730001, 846407001, 839915001]], ['32d466e89fc20e05cbcbee433ddb7e4893a3652d2584104b44b573b1ade94e55', [865076003, 715255013, 850917003, 846407001]], ['cea619c38ee532a1523ea34101d91fa82cc0c0f22a1dfcb00fddabec7d010e8f', [717464001, 714032003, 846407001, 850917001]], ['098caf7e161bc73531851ad7147cfcd2405e68dd10f3d5b2df568a4f81feb6ad', [717464001, 820866001, 895555001, 846407001]], ['ec4498c68f91748f4570d883abec84429a66a56fb7f7936108031f3635d30a5b', [846407001, 556255001, 921169002, 871638002]], ['97ef004f97a0953fd62072bb6d3629d7eb95ece0749c49716097f7bbf9e8ee7c', [717464001, 865076003, 123173001, 912862001]], ['700776fbc0fe69ae0b5537011650669b4fca17c49619aca992f9b5fdcf5a389c', [865076003, 717464001, 158340001, 820866001]], ['e06723b58574f95b379185a6365c6d68d0d72ff0ea13118480a0a43faa852870', [717464001, 158340001, 850917003, 714032003]], ['589daacdedc442830b448b650a31a7d1d1b810e400892cd9b003473ad71a11cb', [715255013, 717464001, 865076003, 714032003]], ['a1ebe44548a9d1c8922d48ef8092ae043e7aed540640c012311498d599d7219a', [717464001, 715255013, 832458002, 123173001]], ['f5fc0b7085014ec7fc2692d1d84e53308bcde1aa74d1a469b90c63f8d427531f', [717464001, 715255013, 714032003, 846407001]], ['97dc695c1e81b9577333be8f178627746030fc3f406b0f8d7a298a30179409d2', [889456001, 717464001, 846407001, 556255001]], ['2c1bc6c0bce86c93342bd812ea26277209f29e74c5ae72b0227bc23626046cef', [158340001, 715255013, 865076003, 846407001]], ['f556aa13a38006b375af8f17babc4724b024a1f43b634d98caafaea4cd5e2ea6', [717464001, 158340001, 895555001, 717464002]], ['1d754d03c8b0e21c0e03d870a5a8c8d3fb967d2f243276e512f81f65a6af7865', [865076003, 714032003, 846407001, 715255013]], ['2645aa6b8fd23439ed58eba390f8a9e0a73aad537d3ccd1a34fd7b9d0070a6fd', [717464001, 158340001, 715255013, 865076003]], ['0f7a9a04b1ad076470399d009587ab2854e234c2b6ca1e2489f42c9abe3c0832', [717464001, 846407001, 820866001, 541758001]], ['1854ae2b6820320cb6da9542c86080980fec9f594b2a0b22010323b3fcb58552', [717464001, 889456001, 556255001, 570002100]], ['688ae14693f1144460624093feb774233f6912cdd2ef0dda20a8acc37fe2156e', [715255013, 846407001, 182909001, 717464001]], ['281ff2623af18ad76149b9caa958bb875fa00471f4523d15fa885021e7e8fbcd', [715255013, 846407001, 158340001, 820866001]], ['f0f2fa55c10fa2a09b5dbe53513f56e57670f46c7919644c14aa7b008af9fabe', [717464001, 846407001, 158340001, 715255013]], ['7d807a523cb31acc1df4570c36ea1dd6c18eb5ba0f58401830490cb6965055e4', [717464001, 846407001, 541758001, 821398009]], ['2e535a5fe03f80f2858a425d7d4c3d9cda2e6f0329464b9f11d8268d3c90ecfe', [717464001, 717464002, 541758001, 793104002]], ['d8654b5c0f6f324b9b796d18042236fe7f2be9e4d544c368a305d6fe88f74e97', [717464001, 912862001, 846407001, 820866001]], ['fc9e039b790f486b177fbb0812c8c4dd2b2280054e004e9e83da786227c32e5b', [717464001, 158340001, 715255013, 912862001]], ['8ac62fe6a5d5ef6acb93b4b313ecd6fba124751e17432db9dec0d26bbbe6dbed', [715255013, 850917003, 846407001, 717464001]], ['9a182a04a9776c0db0a93c2a0b7e5693ec5d1661489c01695a5a7743bd37cedd', [717464001, 846407001, 717464002, 894139004]], ['875cc0fe58e00c6d108f5f26d3b8462db8868924c853133196f6a48103e4eb32', [714032003, 158340001, 717464001, 846407001]], ['2111bda116589a94af08443b78cc9dc0944bbf9b3650b932cbbbcaa74c42aaf9', [717464001, 714032003, 846407001, 839915001]], ['d143b81101a9a9a7a84fbfcdb64f8aaa1cba0078e8f679fa6d8d4912697a8985', [717464001, 820866001, 146730001, 846407001]], ['fd73b971bf7f68290a111f6cf43a20cb57f649b9c7aefc27360a729081cb7e11', [570002100, 820866001, 717464001, 158340001]], ['fa09805a6858ec3e28fa409f9bbf68bf11de4c9cfda9b837fabae4ce89a580d5', [717464001, 714032003, 715255013, 846407001]], ['baec5a7e68e3685056c2806d50507cbd177020fd54764b2df1733ec24ac1301e', [717464001, 846407001, 158340001, 715255013]], ['324f29cea5536bdb125cce926a42a4bf46a7cfafb264134fddf796e1923b724b', [846407001, 158340001, 717464001, 715255013]], ['803055a64336193e7cbaff0b61e609dfb34dce2e004620b6dae37025d5d37ae2', [717464001, 846407001, 158340001, 715255013]], ['0160a2935ad59d4b2e201a5966190a5d0526914f8c02bd2c48433d71cedaac45', [717464001, 714032003, 541758001, 865624003]], ['187e719b604f5e05d86545fbcd54442907c7db2b38227ca6c7b328bfa3b11b11', [846407001, 714032003, 839915001, 570003002]], ['5107bbb62ca22efa19b48f214f0ed9b5e25ff0c9c712abccece6ab4ebc27b74c', [717464001, 158340001, 846407001, 781758011]], ['de85d07817ec76f54d10fc72dd8f33a2a8907f491b1d13111d88edf262314540', [717464001, 158340001, 850917001, 781758003]], ['d4ea9e02379330b748a5d6c64f4a8ff671bd8a1f00191222e7e53cbe642c4aaf', [715255013, 717464001, 846407001, 714032003]], ['f20309a9b880ce8a3fa48eed26330688bcfe04a67f97d10a8fd33b1dea1d6c1b', [717464001, 158340001, 846407001, 781758011]], ['ac9407c16136b883b2c66b783bfb8d9e8974e2e32cc61eef7de03946b8942211', [717464001, 556255001, 865076003, 846407001]], ['eaedab8f108a70c498acfccc9bdc27f2f098159adb1af007da4785d3eb017761', [717464001, 715255013, 541758001, 846407001]], ['d87c7bcdc1c3951ff0519fbb51da7d6badada4271c25944da01bfc48a3441633', [717464001, 846407001, 158340001, 715255013]], ['f08a89f42c35c1154b89d5c0e20428a6233e1881071ad2c5a4298b7e7b580c33', [717464001, 846407001, 570002100, 918443002]], ['1a26bf475bc2aa2eb45618a779b8b1870772bd3d87bc5cc43331fa89add62a1b', [685814001, 717464001, 865076003, 933706001]], ['244a5960a54ce206d851ea94f4f5fbf965503c840b7713f48024d4c4eb8debf2', [717464001, 158340001, 865076003, 715255013]], ['cde18694d58e7614b0526b1d353e4c1867ab6fefb5ac205f357683a96b9e8b73', [717464001, 850917001, 846407001, 918443002]], ['4db0699c5bf08e15a20d1f5060bfaa6f0da68eade6346ffc3b5efe56a41c98ce', [850917003, 717464001, 846407001, 715255013]], ['0b8d35dc1757eeacf580610718da359a1d6e2b18ea357e609adb61b24fe001e2', [717464001, 846407001, 820866001, 714032003]], ['1cec9fb9844c3f1508a2e97d6a68c04ca46d167eb0e4003e1168f30126efe056', [717464001, 846407001, 912862001, 158340001]], ['3750963bfa88f2465f6d567e9cd5d43c24b0cb7970e0366004fb3cba595f07ba', [717464001, 714032003, 850917001, 846407001]], ['cb4aa1e2c3d7de44093cc44d63ee10249ca0b36f32db0cdd9de900040b3117f8', [717464001, 715255013, 865076003, 846407001]], ['60ed8715fd8582161e6fc2c45043d476170ef102410899764e9d1f4fb0fac033', [865076003, 123173001, 400285006, 821398009]], ['c03f1a15f78fe07023bbe888bbdd7cb4ad5c93e3c9377e29ed81d651760b36e3', [715255013, 918443002, 714032003, 846407001]], ['8086a6cdc24564f715c8249dc875bfebfc176a25fb8b7adfde2f26753bf055f8', [717464001, 918443002, 850917001, 846407001]], ['0e9ad1dca26a94621c07fb7ce35df817ba40a7094741d4fc5379d7528d40dc5a', [717464001, 846407001, 158340001, 715255013]], ['1d78ba7d4c9272aeebd41dba86b7ef190ef80bda44bd08d85b305cd6c3abf02e', [850917001, 715255013, 846407001, 865076003]], ['d33b2c5beb4244b4a356a4e82b2885e6aa306fb3d913286bb3d2ce833c5c4bc1', [846407001, 717464001, 717464002, 889456001]], ['0af8df3a9754fae3921b3d05f20d7d221a41182557cbc7d3048cc11dd433ea02', [889456001, 717464001, 902175001, 158340001]], ['6881b10bf7d5dfa456765858c3f686de0910fd23d7e9674af8e8c08d6e9aa3c2', [717464001, 158340001, 865076003, 685813003]], ['9cd351f995363a07a5c219759ddffe3b627f145f76366f8797792800aeb42a96', [158340001, 865076003, 715255013, 714032003]], ['ec0b61131189c029a4117352c0f767c898cba444421179a22b1636a3dc88b0ae', [717464001, 714032003, 889456001, 685814001]], ['65dc2cb89207355c063eeca77b70890a7d7a5b9f8ddcf6a6bd9ed94b6452786c', [717464001, 846407001, 781758003, 158340001]], ['07fc4350827cc4530b44378ed1b7d01a67c480af220c20e393cac27e955f54fc', [715255013, 717464001, 846407001, 158340001]], ['511f7b8c34cfb9d1ee17503995c3c66a200d7ef172382c5b393f8ea3b5e55673', [717464001, 714032003, 158340001, 846407001]], ['ce2087c28e80548e28f5f190901cf35fd55140450fda9a2daeb6006032f7b84c', [717464001, 715255013, 846407001, 556255001]], ['4beb326835f6b19e364ce122b79ce951dc14f15263cad490660bc9ec5e78e86e', [717464001, 846407001, 714032003, 158340001]], ['5dcefe6068ed7f5926dc9370672f9b3403dd1e103d0427ae8167237333146bfb', [715255013, 902175001, 793104002, 717464001]], ['e4fce31a2c0d6d4bf14af4133876dc4bc47b221229df7ce311cd38217aa7323f', [158340001, 865076003, 912862001, 846407001]], ['1a8658dad758d7b01b6b1e87dd3d9c09a7971d9fbca69c39ae9267fc0df426db', [717464001, 158340001, 827957003, 717464002]], ['182a110a6d7bb5837668a170e46d67f9fd9b7515f6a811b17821a677355640e0', [717464001, 846407001, 158340001, 715255013]], ['d1c431b89852464bc8c12530f9c007b3bc54985cf375b8499cf9c4b701c587d9', [717464001, 715255013, 146730001, 846407001]], ['c8f3e1457d2edcb154edc85f5b1b8d44406bce8c835f022da22423608ce9a250', [717464001, 685814001, 714032003, 715255013]], ['63d88152fc7e8717fc51431ec959489dfb2d8045e33b87596c61de4af8939cd7', [158340001, 895555001, 717464001, 146730001]], ['0b1213fce9fc91936ef943ef7480424d263bd13de9bb85c7486f468f7a685042', [715255013, 714032003, 821398009, 158340001]], ['239a1d7aa2be0d3f1804a6ae7afc3bb138c836a84db97f51706041c99de5d506', [717464001, 865076003, 850917001, 714032003]], ['d53fdc125c43846eadbb0f68860d260a61009127d0b9e2d9d52b5085de771b46', [717464001, 846407001, 158340001, 715255013]], ['26e2240c4c8430150de089e675157957fe7e058163d48a2b9fe93e1b33071a73', [717464001, 715255013, 850917003, 846407001]], ['a1f0f758675841aace3e212d62bf9d0311407d22292ef83878623074a82acf44', [850917003, 717464001, 715255013, 846407001]], ['718f16beb97f31ecc83d24ee4b6b4b710e92b4d8974840730c7a70fbc0c6fb0c', [865076003, 556255001, 839915001, 717464001]], ['96bd37d7e9080511f18be94306ecfb75ec0c49739cbfecd52cc5fc76a3671044', [158340001, 156231001, 846407001, 820866001]], ['f8e4e1aeb2d3055bbef1f8815c6c65afd1b8d0487d335f43cc3f15b15f58b0ce', [158340001, 715255013, 717464001, 556255001]], ['e4e9e2d1a207f68549388f8db4ac0260146d50232226e7fa8736915becba2cb8', [714032003, 717464001, 715255013, 158340001]], ['627287c245d78f780c5f70c962a40ff0c965d6acad93646ef40354097c391b22', [717464001, 158340001, 850917001, 839915001]], ['16abaacba62c84825e671b50b63cf624b87cc1cedd9e55fc4e46f9eaed747b6d', [715255013, 714032003, 717464001, 846407001]], ['3eeacbfd5fd55a09fbad401435f7132ac5a255ba9d05e6e5615c6137fc11f735', [715255013, 714032003, 846407001, 839915001]], ['76b58c3123a11a804fb53cf1e38a7939ee105f58139177278bf795406df0d896', [717464001, 889456001, 156231001, 846407001]], ['fd7aae6210f9b9ae94e98ec83e8103aefcd8b2e1ce409d53edffde8c3ca93b46', [715255013, 717464001, 714032003, 895555001]], ['dcf6ba7c1843282f33f3dc4c4bb8570030e43dfc819c2180ef7f9755c470e391', [717464001, 158340001, 865076003, 846407001]], ['41b281c22d72090b58bf98b3dc1e81063bf03f2294b106cfc7f446fff1c8be07', [717464001, 715255013, 158340001, 820866001]], ['d5c4aecab1642c0016e20df8a5ad82ad1ae13c0d3bbfc7cfb37f991bd0d5e8bf', [717464001, 846407001, 158340001, 715255013]], ['eb8865229778330a12039862bb258e22b955d3f81036d09c47944f77bcd499b1', [556255001, 715255013, 717464001, 889456001]], ['52874f289a5a7e55f719171bd8210658d674cdfd43c37121dcf343eb5dde1db0', [717464001, 685816059, 846407001, 541758001]], ['8fdc2c7883401dc31a0f665e5e67810470972a9149ebe4f56f0cb5b61d24908a', [717464001, 846407001, 717464002, 793104002]], ['322f059889fa0596da37e483480f6ce5dba07e6431ca24f721b6c5a57fa60fc4', [717464001, 158340001, 715255013, 846407001]], ['45108cdc658eb8ff6156746a856a820ac52aafbbcd3f0f19da94a953570a1427', [717464001, 158340001, 714032003, 817416004]], ['f7845c12de84eb559eefb066adf451d1b9e7f97d37f358162f0a56450c835083', [717464001, 865076003, 714032003, 123173001]], ['50c1061490780429a9cb6b82e98a2ff1c73ae5da4e960c97e6e2af57930cdaad', [715255013, 158340001, 717464001, 846407001]], ['6729146b12bbb5fbb6292d1eac1e0fb38fda2f733735fa4b2dd8790f1ab5956e', [717464001, 889456001, 846407001, 714032003]], ['a83cd6da00e9bb8fd0647faca7d3d20011d7ac5f668591cb268a1250a003c760', [717464001, 715255013, 541758001, 158340001]], ['8408eebedaffe8641db2989a058ad20f877e17f281cac8b39a60b0a777b6e954', [715255013, 846407001, 717464001, 714032003]], ['6c7259189b32e40eca85aa4828d390d8e4c750eb4d46be20426b4f401bf22df7', [841383002, 871638002, 717464001, 714032003]], ['76ce2d401ddf76524954f096b7d3f0b9b48ca8e0b543f406d01fb629dfdc1106', [865076003, 889456001, 717464001, 912862001]], ['efc0f254c6d56cd2db31c5d4e1b7281d60c1893da1aad42795f78e1adf9fee1b', [717464001, 846407001, 158340001, 715255013]], ['601b8ec9e413762e4aa17b9631f512d0adb33832d8bbcf17a278729337f0e51c', [715255013, 717464001, 850917001, 918443002]], ['acace10c1071b1a8bdafb04001a70f5fadf9e8cef261b635581f26ea5d1f0fc5', [717464001, 715255013, 846407001, 541758001]], ['4b252baa050c36b800c352463119db01d2aa5d92f24145f4644af83f8e7122de', [717464001, 158340001, 827957003, 846407001]], ['f9ca3b9baf405c7509caf4c0d562abb45d23716a81c72be94996c811281f95a4', [715255013, 717464001, 850917003, 846407001]], ['2fdafa0717ff4f02d78c647b766451efe76dd0ef8f815052260d002bbe7183a7', [717464001, 850917001, 846407001, 158340001]], ['383fe4cad4a7734aa83d81e1d54161815a57a36c28e81d9226ffae7a0cb51e69', [717464001, 889456001, 846407001, 865076003]], ['4417ec671535aad7b99dd7e59d69e2a514fb93db622912efa81916c5b2e64106', [717464001, 715255013, 714032003, 871638002]], ['12cc0daa8d361944f5b10ab89682575e05df385932c7bd30e828a6b0e06c2e0d', [717464001, 158340001, 570003002, 146730001]], ['4421e06907a35632588c18c9945444cb79579759ba9672f1d539f8811d9d4cbf', [717464001, 846407001, 158340001, 715255013]], ['b3b5004179e2c0fcfb14db3f5e1be18cc4890b5feeb48acad46c62a300593ff8', [717464001, 846407001, 714032003, 715255013]], ['c0e477057dd7963fca2dec3647bb2d846c5fe862a8d75f306ec9037aaa88fc1f', [715255013, 846407001, 717464001, 850917003]], ['5e0fd7189d4cf6b82a14a75bcdb809652c294bed6e069d10dd8d95236e0b31c9', [717464001, 158340001, 846407001, 541758001]], ['7a19e0a021f1119ddd6393d4d6766cf94a6422babbb9da1c06ef9cc8bde2a486', [717464001, 846407001, 850917001, 158340001]], ['e5f90f2655949bdb3ba5796ebb762e5c04931882577107fbd0ef4a8b4e4f46de', [717464001, 714032003, 158340001, 570003002]], ['bdae38df6063ef9adb12efcd3b3f5256ec5bb4669e0a8bd48e3b3106af405119', [714032003, 846407001, 158340001, 717464001]], ['dc276dc54fd8bfddb566c775e9bba05d1b20e9254d5bbf7b9991d07cd0cb3cd8', [717464001, 846407001, 912862001, 146730001]], ['cfa8c829268181288d81341c4c4485f89a858154eb26021bc3f235986b413bc1', [717464001, 820866001, 158340001, 827957003]], ['9498a29fc940db84256ac0e4da786d75dd7772059d03a5f4cc44b5edaca97686', [715255013, 158340001, 714032003, 846407001]], ['6d336a247bb4b96338f8216a27f476c5947028f74638582e8957f75e392f74b8', [715255013, 717464001, 868195004, 846407001]], ['a9e86ac39db8027e0007f2576fac1802ae67f19a5e749eb5abca82ae89cc8db6', [717464001, 556255001, 598755001, 912862001]], ['ed084438a1ced51ea9e68087534674fcb04aba26d58155895316a0a871208d83', [715255013, 865076003, 717464001, 158340001]], ['c30a9881d93f6217b744b67315a7626fbd99b09ff5d28bac8a6642bec406b367', [715255013, 717464001, 158340001, 846407001]], ['a213960a826b7b6a7dc3780e2ee7bdd4ac9ec3c5925f3001355570e493577e5b', [717464001, 865076003, 895555001, 921169002]], ['8da268c8abdf8c606e82a55aea970b778c0c8a04a24e60edf27f1de201d603fe', [717464001, 158340001, 179208001, 895555001]], ['95b458d1b9c5bd9242f6ba23b6ea3c46875303f20a6793ba8d28c31329969105', [717464001, 846407001, 158340001, 715255013]], ['1cafb8f891dd03babe97528b6b6b5e013d94fb756b325277ca64862b62eb1405', [889456001, 865076003, 717464001, 933706001]], ['d01e5f314023ae3ace51a856322ab68b04a29fd849928ea48ae2b2df52afe673', [717464001, 556255001, 714032003, 846407001]], ['826c4f563bf5811f152ae49aefe2cb037238c702f7fc27db3b0d686f3043f502', [714032003, 846407001, 541758001, 918443002]], ['ecdfb6a5b63cbe39fa88569085a839c1627322a14e5485e6233392ca2180c740', [717464001, 158340001, 715255013, 541758001]], ['c27c9a09f04f1a669e8a67a86b98fc1e549103947d17fd1b70867dcce728bc28', [715255013, 717464001, 846407001, 570002100]], ['352ccdedf297dd3684b7493c67696da2d613505ecb3eeff691ca7f465bf3b7c2', [717464001, 846407001, 158340001, 715255013]], ['97cfb820be6df4e9aae4f42d6903368e6ca3e7f8fa506a71c445562babae0afc', [846407001, 865076003, 933706001, 781758011]], ['a62fe6f819e3cca3e170a4dd95eb11cf80e2e59322d53bb956c1d8e49c58caca', [717464001, 865076003, 158340001, 714032003]], ['f552a1ef843bf967d7c5d8f9eadb06f516a972b87b8092e8e7caa3fa82586132', [717464001, 846407001, 570002100, 839915001]], ['a8fa861d2e6327c83b856c51b90e874e3ccc9be4fde10f7eae2058df03e608bb', [717464001, 850917001, 846407001, 714032003]], ['3f6e50963bfcac5a7c709384d5cb9ec864875ef389a2f3837c037836cf159916', [717464001, 158340001, 715255013, 846407001]], ['70b5991ed9ab210a1aaa6f7afe6d57dc4512c8be978c1756ed9b8b8713dd4d93', [846407001, 895555001, 158340001, 850917003]], ['f63e2bae5fcbd6a6cf0a453ddc40ea7d2092a64afcf973f5f4daf83bb671370a', [717464001, 715255013, 820866001, 714032003]], ['e9669ec59cd303a2bd90e8ffd58f8690ac35c2ca1745db6f74ab49ac47255bc1', [158340001, 717464001, 850244003, 831269004]], ['e538979560eb2e73990528b4c56e85f67c4d4bba1bbe307b28ac92aef0ac4065', [717464001, 715255013, 158340001, 846407001]], ['3c22bca971cc269c3e8e22cb9e96ab52aecbf8f45a0e810afe4928e414cb0ac0', [717464001, 846407001, 839915001, 714032003]], ['444e15262beeb39b69ffd8e9b1a6594f5cd860f678b89d4d30f1ed034046a44a', [717464001, 714032003, 902175001, 556255001]], ['1ea2bd1bfdaa2bf755da68dc99c4574c7ff0bc4f98e8ec9799ef26424f21151d', [717464001, 715255013, 846407001, 146730001]], ['8167282969de43c417560e4e0504d840d327bb679815419ac777c2026f62a6fa', [717464001, 158340001, 895555001, 541758001]], ['0cabc991b119b48d7d88f5d46e2f3b3f26722ac473f81debc98155d8c01a98d2', [158340001, 717464001, 570002100, 846407001]], ['0c1c05336f505b2cacfe0c5c4fcbecb883167e555020569905bfe14073cc2279', [865076003, 717464001, 846407001, 839915001]], ['0aaec62535a68a497d2f8ec5250c097d5d9ec86f5a411cf3731da1a21c076029', [865076003, 717464001, 715255013, 714032003]], ['7337f77f3a5a1682b8ab81cb071774a6ddf88b89feba15ef3d67b511b701483b', [715255013, 717464001, 846407001, 158340001]], ['f7fbd0fcb79c9edf2c75c6a4651183589e90d3bc6beed46a48de2305a7930874', [717464001, 846407001, 912862001, 895555001]], ['5c6c8a57737e140cfaf80316e37e798fe3cab6c7c5c661ba66783a2258aaa9c0', [717464001, 715255013, 846407001, 685814001]], ['6c38ae34596cc77ac283afd60b5a97090a7fc238dec0787331dcad33d994770e', [850917003, 717464001, 921169002, 850917001]], ['649abc57ee9f88c87fade7385995eb7b32a8abc2a016a4922a443c00513285c4', [717464001, 715255013, 685814001, 865076003]], ['9e954cdf922b470535a38ef4d79fba138ab754e9285abbf89425a5bbabff3bab', [827957003, 717464001, 570003002, 846407001]], ['70cd31292d0092462f43577f3da039e6cef11cff6b146be74b1f4dddfe7b296e', [717464001, 685814001, 715255013, 158340001]], ['6a3ef3e2dda91be370423239475d81ded4ee15596acb8d8793e278774950fbc1', [717464001, 846407001, 714032003, 889456001]], ['f7184364a383e857b6f518389b30e5350f9075add6e487f1d170847b20f8d79a', [717464001, 715255013, 158340001, 846407001]], ['b141097081e2eb95bad9a0dcd9d8a861a7ea9304be7cd00ff9d9500a70cdf7a6', [158340001, 717464001, 912862001, 923004001]], ['67344dc447a446350b25a23a9e89ffaab6b695143f40f71d9ea620f400197da0', [714032003, 846407001, 717464001, 146730001]], ['cff259aec178446ec91f87aafd10c53e94086d73f370017774d70069b49c4f49', [717464001, 715255013, 158340001, 912862001]], ['4cfc6be026693213bc86f64186863707be6f7673bf553237894941007e382390', [717464001, 839915001, 146730001, 714032003]], ['628b16b928841fb1e8dc35c4a5b7fadb3068453496a80a92f50824091c69ea01', [717464001, 715255013, 846407001, 871638002]], ['85605962074116164aaa0234582d507471cb2ed608a524ceb5eac42b726500ab', [865076003, 839915001, 570003002, 895555001]], ['db04e0daaf9958ecfe66b74732743d3e7fae82265a19ea3983d8f83a64495475', [158340001, 846407001, 541758001, 912862001]], ['0059a72dc89bd3a2bd42e523d98567a0f1acd1f7046f9bdae89e04ddc0a494cf', [717464001, 865076003, 846407001, 921169002]], ['606d40b9ed6195866f283d47f462d5b1dadc377db60da765e6a3437e9e29f1b7', [865076003, 717464001, 912862001, 156231001]], ['e8c07d02ec9aed52aa2a351521808fad84404b86adbc173443e520ec85d3c487', [717464001, 918443002, 850917001, 156231001]], ['44be4fb47a6bc78670cb1f997a64c7489136b1c8b737665a5c1c5d7e0570a441', [717464001, 715255013, 846407001, 865076003]], ['3389aab1b47412939e3910d4dace9ef9334c21265eb3f038f7914a7375d8b2b3', [158340001, 846407001, 556255001, 146730001]], ['a9d22a14e023c9cfcc28688fcf3655219699383c35af597c88149b63c5a0c4cc', [717464001, 158340001, 556255001, 846407001]], ['3480b2aa3ac59c9caf48254c018d84523f4947e0689dc44b53b8d213d0120a84', [717464001, 889456001, 846407001, 715255013]], ['2bb66d5d070f5306b3cf1648d3facc3e30c1ca7ebcb1d2c0087f7e08af77e5bb', [714032003, 556255001, 918443002, 912862001]], ['3a7431422fae2333fc7cd9bd8d30316011cb7b486be92822198241b7f28f17e8', [715255013, 717464001, 158340001, 846407001]], ['d79af419733a275a569129bffa23bc28ca984cec62ce6c8619053ad3cdfd86df', [158340001, 717464001, 714032003, 156231001]], ['80d05151b3ee48d07ccf6d2bea4c87f976944ef9daea69c6e6008266a122099f', [717464001, 714032003, 158340001, 865076003]], ['4f87d704f19950321715b90f5c41bcee9b19a8a6c4f31fa52970aaea75e3c57e', [717464001, 158340001, 452618001, 827957003]], ['dcfe9a21b554bf6dbcc9ab64c08c59c7a732abc03706cda9570303658a03b8fe', [717464001, 158340001, 715255013, 570002100]], ['11ea819335c8730ac193cde7046fb18c8a02febca2ebf48e1f1fa599a6c9e136', [717464001, 556255001, 570002100, 541758001]], ['7c17121e3200df99c926de14e3d7993182cde0f0e67b4a672bd39be61362cc4e', [846407001, 717464001, 146730001, 715255013]], ['778c32bfcb4411dd74eee7427f68cecc65e01b73da2fc23842e2b59dd969d277', [556255001, 717464001, 889456001, 570002100]], ['eac4009f61a0c8cee7422a087a38bbaf4ac9dabed006401fdebe6bdf35f01f8e', [717464001, 158340001, 846407001, 156231001]], ['78605e2fb5b2fdfd70cac19a11e762622c2308c569d1203d92760e228f71aa26', [715255013, 918443002, 850917001, 717464001]], ['34903e99dbd792b3d442850b8686428a621dc13681156d4c0c8aa8eb52ce1244', [846407001, 556255001, 123173001, 717464001]], ['45bf6fe53a1176aed487d362592e990d072749d29e1ec69e93fd8d9210f19697', [717464001, 714032003, 793104002, 561274001]], ['d93875061ae9f522ef37d102e882c436733a2ef21028defb0bbe42a1a94dd7bc', [717464001, 889456001, 846407001, 895555001]], ['81acb8b77158476257ae2fe30c2f0dd7edcbdd5714caa0ca2487af607de40862', [717464001, 715255013, 714032003, 850917001]], ['d14498b1208118c3933110c60f158e7f871e63f75c0a10bf17672777bed5db9a', [717464001, 889456001, 158340001, 846407001]], ['a86195aa3833c451a95c024ac2577ebf59cc5424bfe18cfba669d403bdb64684', [717464001, 865076003, 820866001, 717464002]], ['70b030c7b64632d4be4b37f9f4757356d78471f53c370e1cde2b0d133b584134', [717464001, 714032003, 846407001, 820866001]], ['8b8df6ceb1b74e8b981ac1dfb88dc094bb479fdd484cadba972af0d30bacd8bd', [717464001, 889456001, 865076003, 715255013]], ['ae72b0a5ca314a1cbf8e6367ca608456dd529b1db8ec7eda6e9429a09081d71b', [158340001, 912862001, 541758001, 915611003]], ['3b420bbc5aa55695a6f39accd7956d33c100612722a6a67d2d0a4166796eac72', [717464001, 846407001, 158340001, 715255013]], ['293b2206847e80d23c619a8b6ef11168f8a5b0d2747f25ec3c1c1711c1057704', [717464001, 846407001, 158340001, 715255013]], ['bd3818cfaec5b649f5f927b370737f494371dd2558e854ec5b8762a36a7579d4', [717464001, 556255001, 846407001, 868195004]], ['48a1dc1cb0a769cd010fa45d1bc4644c62fe017b27761004ec569c5d01b88645', [846407001, 714032003, 717464001, 146730001]], ['5cf41d80cd5de9dfab7dd200b8d5d2a9e6a97c7ee67b080a144a144de5c00f1c', [717464001, 827957003, 685814001, 556255001]], ['0dbbf73c738dc6794b51aa8edc23805ac5e5423e5b2d1cb1ccf81e9980b17458', [158340001, 846407001, 865076003, 146730001]], ['98fd48f6d75977a9ff0f7f1bdbb53ec2bdb0c0cf7a43206833dc4ccf69c8b4a9', [717464001, 714032003, 158340001, 541758001]], ['261f7b156ab5c13bf384791cb3fbd538d70fcd488f8b1c775cc76752d3e220cc', [717464001, 850917001, 715255013, 846407001]], ['04536e64260d6641e6ba3a41beb25d9dd7a6f805b001be21d7f2dc8698fe27ed', [717464001, 158340001, 793104002, 827957003]], ['1b339d030b7d2bd8938737352a4bdcf2b621110407c3c17310d0396320c337da', [717464001, 895555001, 714032003, 541758001]], ['d58781a6732864ca6278b149ba644240953e003f0d73c4ededde8a24daceb995', [850917003, 918443002, 541758001, 889456001]], ['87e3a336a14c58a6dda386a5ec5c1db392740be9b04406ba4b90dbf45e5b57c8', [717464001, 846407001, 912862001, 146730001]], ['154a6cbbf687af4aa1ac6e40744a84d8a4992ef0328ee3e3be203178398fbd26', [715255013, 827957003, 717464001, 714032003]], ['98c9b82879d70de61af058a37f2b798c2dd8d576288d37c948709ace42427332', [717464001, 846407001, 714032003, 146730001]], ['011cf473bf1539474b7923c5739742be9c8b53bcf635a764acfd84431aff877c', [717464001, 846407001, 158340001, 918443002]], ['adf798eda0c51f7b92fdf5367ffd8411c362e44763e356864c2fa9e826bda131', [717464001, 846407001, 850917001, 158340001]], ['ff429ff7e4145424575fb4b526060a97465c7f7e535876876f8c699ea4364d5d', [717464001, 846407001, 850917003, 715255013]], ['51b3a11de1654d28552eb3ea7ed40474dce98c89cf4ccb919eb8daba7c44aef7', [717464001, 715255013, 685814001, 158340001]], ['49f36b256e8a5fdd257b3c65e06d3991ae51c20aa218f7972c40f142556e5846', [717464001, 846407001, 556255001, 868195004]], ['f5ad78167eab15729ae56aaca589605eba10ae3ee4bd9d87ef37cba5fdd2a8c5', [717464001, 820866001, 123173001, 918443002]], ['d6e4632fe8392804fdbed9bf1287d25e51c04a3541bb040ec48fdf429b9e6194', [715255013, 850917001, 570002100, 556255001]], ['af7c2561360ec874e43bccbc1ee67d75a5bca9e3cf0456631d07ae73631a9d75', [717464001, 781758003, 846407001, 182909001]], ['d8d7c2303f18a8b745ad9893d230d5748b4d05ce112628d0e637274d26513d33', [715255013, 846407001, 158340001, 850917003]], ['50cf59d90b8309fc6ce3342fdede217c876b78dfd4cebd515ccd1e00387edb05', [158340001, 846407001, 850917003, 717464001]], ['4d8195beed20989aaecce62c6de17331eb262c467f9090bcca6c60252b69f4e9', [846407001, 717464001, 570003002, 865076003]], ['18d3b81033d65e9c95b20865f0330066a54f350f2dfdb298315b8b5c8f550690', [717464001, 846407001, 158340001, 715255013]], ['a116d95d9785e46f17005bf7b7de70ed9ba43424bd554450b9b1c19ac7e6e39d', [717464001, 556255001, 846407001, 793104002]], ['f9cb9ea10870ccef802dbc48c12689ce9b09ce7120c9e04f405373299ce47d43', [717464001, 846407001, 839915001, 865076003]], ['e184ebadfe926d3e67734078e8cc9688f9a6ca696bbe497a4ac76e8b329a2849', [846407001, 921169002, 541758001, 123173001]], ['1b6d33df7e36ba57b2e3090a91e65706ab378aec5873a29ca4e591406dbdb3e2', [717464001, 846407001, 158340001, 715255013]], ['38a6ab11e898e276b3998037e5e9d43624cc282781fbc5e7f724236cb9d10dc7', [717464001, 846407001, 158340001, 715255013]], ['eb6c241f4f72f7de34c0b5705dc6b0491fdd6d0bb9af8bd08145d9d36895c39e', [714032003, 846407001, 717464001, 912862001]], ['f374dfbc43896daed2a541c43636b55505af81c63ad2a473f293b6db5ece9e2c', [717464001, 715255013, 146730001, 846407001]], ['f421e58de1e002135246c132d496021682878add9d28c83383a2d8c189f998fc', [839915001, 714032003, 846407001, 717464001]], ['39a5d5146e3b99ed411051507b905fcce7b243a615140a6a8dc8162d0db9c8be', [717464001, 158340001, 889456001, 846407001]], ['c8fc3fa45b801508d5ea05d664f6073481f53876bb2c00bf5b196bb50da04fd8', [850917003, 717464001, 714032003, 912862001]], ['b6cc1808c9a637c31d36c901d7c9f36ec7901b300a50882e7961db9b0b57ae9f', [717464001, 846407001, 158340001, 715255013]], ['d27b3a93e84767dfbd42d1dab1ef203ff955347c3469b6de79b81a08247817c6', [717464001, 156231001, 846407001, 714032003]], ['f0254922139aea5432956ee5ece49b4b20a331226cf4274042751eee62f1a74e', [717464001, 715255013, 846407001, 570002100]], ['b29b825d45aec0281defb1d4828237c1fdc4479108d8ba3f39df02ecfd8d0aaf', [158340001, 846407001, 156231001, 839915001]], ['e7c0ff2f724293c09bf3ba498c8c49b001040374fab1cdf2d6fe6017de089eba', [865076003, 717464001, 714032003, 781758011]], ['1d62cc6e54e38856a55f0e0e043c0913b2f8eac207555f1268a1b1903f69a949', [717464001, 715255013, 918443002, 781758003]], ['5fa2cefc24877463c17f19a789674193e64d391eaa35f0f5ff72a29be8ca101a', [717464001, 865076003, 850917003, 846407001]], ['e48e76a06b6e3e62d2e4ec64464c502a9b01eb000dc2fac5b68969bdcd66e863', [717464001, 850917001, 846407001, 895555001]], ['7b0fd21f5cd0fc29ef56034d6044ee78a9af686e519e6be7b23b5b04ba47ee11', [717464001, 714032003, 912862001, 841383002]], ['528b4d981843a92374ef0f35b313788e4b490b981c956b19b4cc2098527e0d2b', [717464001, 715255013, 685814001, 865076003]], ['736b508165ed7952206f033fd871f3860bc282adef151289ebc87d7038d82883', [717464001, 846407001, 158340001, 715255013]], ['e7b2dfdafe9351d90a76ab9797eecd4612de44d08c05a81871e2f254162a5b7e', [717464001, 846407001, 158340001, 715255013]], ['9797e6346c4f139d0bad7162c69698a3f067c3ee7e17d6bf838ab3f57b7e1b68', [715255013, 717464001, 714032003, 846407001]], ['113711c9f16bc949e1b1dc7aab9d279de4fc743e6a057ff8fe04e7ba8a579d0c', [158340001, 715255013, 846407001, 717464001]], ['029eccee241fc0e42df2cc26068d87384960afb8c6faf578e9c3f47a3eb61728', [717464001, 846407001, 541758001, 146730001]], ['3c66e93bf398535563a0d2d7548019f9487f0a4c7eb85f48619dba2ea4e93321', [902175001, 846407001, 717464001, 871638002]], ['46c585f7642aee170b84e2921b238f1fe5eeda2ece38cb8d6c15ba73e7bea203', [717464001, 714032003, 820866001, 839915001]], ['18a4400ccedc2a591656e15a71c3279b596463596dcefd63b1a40797f0c2c1e2', [717464001, 714032003, 781758003, 717464002]], ['25e5109822b8179e3d9eef43f06552a185cf91f743a9bfded9575e6ff435f07a', [717464001, 146730001, 839915001, 714032003]], ['aa7f75d6bf221020f76a3af47de13c9c60d1227a38938bfb2008a22bfcf3b9f4', [715255013, 846407001, 158340001, 156231001]], ['5c0aba3ab32fe02efe47c2ced73e0ea929d623b634be7eefd3860498ee78642e', [715255013, 158340001, 714032003, 850917003]], ['c38b5a6b80f514fe8a04192b10f0949c909ede251dc46b7eeab70cb35b4cb49a', [717464001, 715255013, 714032003, 846407001]], ['c0eb3c5fefd540ddfa20789997bd41886d9fe79dc22933015c267666d47162fa', [865076003, 717464001, 158340001, 820866001]], ['a5f326cdb8a2f2067518adbdc2f42b9d9f4eaa0d2d16809a563c20b47967e776', [865076003, 714032003, 158340001, 556255001]], ['85e987df1c483e1dfb84aac5701c45be377c99efcd719405fefd9fd8884c9714', [717464001, 846407001, 158340001, 715255013]], ['bde17ca70cc71249aea90753fa4c7cce0401c4bc668a1ec9cb09c6be2809be07', [717464001, 714032003, 846407001, 889456001]], ['35c7dc5182f9a427082ce03dd742111e1a1d98fcf37c9154cf46d3f56559b9b1', [717464001, 846407001, 158340001, 715255013]], ['0bda6952d2cfb960fa4cacf3fdcadacd457f4c46b72c0ad069db2e30e1f565a7', [717464001, 158340001, 846407001, 685814001]], ['c92114c0aec1978d6829b257b6f1ac95cce904e913b6c572464f7e453a29dadc', [717464001, 158340001, 715255013, 832458002]], ['88f7c2c5d6f8d0fec018c4cdf7e8bed5381bdee8a72b7726b9d73d2fe95a6857', [715255013, 717464001, 158340001, 923004001]], ['0591b4d38268d79f892ec86e0633c9f0f61d7ca08971acf5443f2e78d4e868c0', [717464001, 846407001, 889456001, 839915001]], ['0c6cb958a8af286137efbe717417bdd6e714246bdc291649eb94525919d52ebe', [717464001, 850917003, 846407001, 912862001]], ['eba578d572cdc4981e37c6e43ec4ad6c5c40fd1b6e917eb5d4ad4ed66ccd5fe4', [717464001, 158340001, 715255013, 846407001]], ['8e5e4307147a77fbac263da9b822925e95cebc3ce1756b9767d41cfaf37284b2', [717464001, 781758003, 541758001, 820866001]], ['c7f52dc329dbae2997beac1fe3c6193059a84bceac2adacea8b9e434e3f8af10', [715255013, 717464001, 714032003, 570003002]], ['7346c58a25bf9d2c17fbc9d6ce17d85b7d7e56aebb1bd1d4660553d37b91e3df', [717464001, 846407001, 865076003, 714032003]], ['a0be3dd34dfbb667927c7ecac50208ebb552a8fcf7b879c0f87ac9664178ae20', [717464001, 685814001, 715255013, 158340001]], ['2cdf8cba99346e465f1792446d001748a5f4f496c0687133d167882f55737e97', [717464001, 846407001, 158340001, 715255013]], ['ad104ac547675ac9a454ae38685eb408bc84eed7540d8a94f754124cb6c1e314', [717464001, 865076003, 158340001, 889456001]], ['67ff55f1effc93fba1dcd873da7f9a81fd5fd4f79d7233429627069dd5a68076', [717464001, 158340001, 556255001, 156231001]], ['1a59b8451219361d64ea874334a56981858db9766bfde11971e7253c6fe37855', [717464001, 889456001, 865076003, 871638002]], ['f2c4faac41614d643494313906e9b5933f9786b685ae12c097c95ff54b5d732e', [717464001, 839915001, 715255013, 846407001]], ['42b965dca9e62711b5f32f540ae5ca7db3a7053e82bffff5ebba3d6cdc33ee27', [889456001, 846407001, 715255013, 146730001]], ['a0c7829bb18f5f19d92e696197395ca04de8afb074ab67424f1efb798bb1cc6f', [715255013, 714032003, 912862001, 846407001]], ['bef08440999ea1942e962101b44df37d28f94ea1c358b18e38c30a3c53f3f435', [717464001, 715255013, 846407001, 912862001]], ['f5a205cfd09a5afa3374a5ec3a329839201cfddb06073f388a12535a78e3d8b5', [717464001, 846407001, 714032003, 865076003]], ['24d06ad285f93a58c1a89a08507d187e0e8f16e56c02b4b41a4536d614f09e09', [717464001, 158340001, 685814001, 846407001]], ['0316873dc973671aa896d16c27a3caa4d4a7aad9cdbe1c0e2ac1e8e8c95e0c29', [158340001, 781758003, 714032003, 902175001]], ['8a29ad7a2664eda74de25b7dfb5eb435d17050c34a33f04f76dfc768cb94b1d4', [717464001, 715255013, 846407001, 158340001]], ['01d8e323bcda3d4f42b445712e00542491371c03ab6c3fa18d073486395191e6', [715255013, 717464001, 158340001, 570002100]], ['e113781645ac6d3a48ab55c9790e77b97ec8a149dc6880707b56808ea16bdaa1', [717464001, 846407001, 158340001, 715255013]], ['aa065366044281e7a03d632a8c382032ba4103ab0ca74388d3e0e12c5d3e5d08', [717464001, 846407001, 839915001, 850917001]], ['f55c28a6a01f726ab3fc9aee2915e324a8b6e7ed4840b8b6b5b4e256322afa89', [717464001, 715255013, 846407001, 714032003]], ['ae876b0bdf1daadeef8ebea6dcadd07be4e474a8cc24146badecbedb95a5938e', [717464001, 846407001, 158340001, 715255013]], ['b589dc1ce100625b7eab6c6027e188910ded28c220a8b8ec296053971a9a15b3', [714032003, 715255013, 846407001, 889456001]], ['726f5735af2e31c9a16099801d6a505dccfc30d85209aa987035748c1ed7d704', [717464001, 865076003, 714032003, 793104002]], ['097bb0375346327940dc14edc1d7756092b373f620b991f8f2c70e318b2a0d84', [715255013, 846407001, 717464001, 865076003]], ['5aff402afcd939cd2e63b0e17393cf320090d20f921ab594efb8f6a1f4afd089', [717464001, 714032003, 850917001, 715624051]], ['6bb03aa0614c9f03d7a9ef94ad092931994bfc88b1e9077545305375cec00fcb', [865076003, 902175001, 541758001, 912862001]], ['81ed6b76f69a3816a237682536b8c55f0e36db031709f2d6b6f071812b77b489', [715255013, 717464001, 846407001, 146730001]], ['f711cb4c41ecb2aed934552241007d69b1f6d0cebce9d2ab592e20fc4a99eece', [717464001, 846407001, 714032003, 921169002]], ['821ab8cc7b995b3b774b6ad721c2e77caa14536d8a0c0e9ea7a581e456fb1885', [717464001, 846407001, 158340001, 781758003]], ['5d0f5e0be38ea77e77a77bed8e1cd93fec43b95c350ca4bc13650dfd7ee73fad', [715255013, 714032003, 717464001, 160442007]], ['2136404496c5d56a5b490617e5037c4768330c948b55ec8acb860c21cfec86f7', [717464001, 865076003, 846407001, 570002100]], ['21f8d5f86e972577f3ffc92e1cc66951d441fa13f18b88164c7edc9f448f9b8c', [717464001, 715255013, 714032003, 846407001]], ['5610160d516b22bde3e7095772f77ecd1efc7bb382ea68e0c40a58bc29becbbb', [717464001, 846407001, 820866001, 918443002]], ['0599f4d08d251a9b97e73f2f7af7213abf0233941bf97d1914415dfd3535e9ff', [158340001, 846407001, 561274001, 921169002]], ['8263757205d08b4be7c90322dce55693066760ffabb76ce3f91f6d76b40bc17f', [715255013, 717464001, 871638002, 918443002]], ['09dc27ec8a8f2922e1c88b1982f4c7df5f98bff59ba09ece6331f4338b4a2c58', [717464001, 846407001, 556255001, 714032003]], ['3207da575b1c7fbb285320cd908da5ee4e1b683bd4d0c4a5d1fb791c562b72b4', [717464001, 541758001, 123173001, 570002100]], ['378af9e2b4cdc32e7fbf73d0aa3fa2ec14b6a2a64387b9b2fe75b4f6eb21d50f', [714032003, 717464001, 918443002, 850917003]], ['bfdd62e39ff1c762b8d291acb001d1ff4f18bb596ae6a36a989d6f165d4d35d9', [717464001, 918443002, 850917003, 839915001]], ['ce12770f251c155fec7672b8f05d9a1489e841931af20b7f2668e900aa67939e', [158340001, 717464001, 902175001, 570002100]], ['08bc9c429fed052e9a91b7f8625e9a7256f77680d2d4219d8b3d0f8300ce1647', [160442007, 846407001, 556255001, 714032003]], ['5e03e34f49be37b5166d11775e5fc9e85dfcabe18b48c90c1c4c11f03b8bc479', [158340001, 717464001, 846407001, 714032003]], ['91252cca2102518312d91a7d39a3bdbf66c0f68a7a7f492ec4754a58ec17f878', [717464001, 714032003, 158340001, 715255013]], ['973d0602bc7480c6285d677579d23845a1184581e1a8151e96552755a4a4d995', [715255013, 717464001, 561274001, 156231001]], ['5ba7b38e6ae8f912b75305faebfa9c03695a263e67f8ce55376cad4603e04225', [717464001, 832458002, 541758001, 912862001]], ['5c922acb0639051131889bac8b29704dcfd6285d211aae7d9c375536370bf859', [556255001, 717464001, 839915001, 915611003]], ['78b24f1c8b4a12acccda7b9586a0afd6e8aa1a2984cd860ca451c2a553ccac17', [158340001, 717464001, 714032003, 839915001]], ['888d37008edebdabb125094f372d3e5613eec8f9767e33877fb2261f9f49c39c', [717464001, 158340001, 846407001, 146730001]], ['c87618851a6a2035027acc5a8750cc5edd800b1828fe9f81c80756f18767b68d', [865076003, 846407001, 714032003, 793104002]], ['ea07564d20fa19b7ad7dd8e433bc487d111624d5ed3834a27af0586ca8d64c09', [158340001, 717464001, 846407001, 541758001]], ['9922c8cf7203ab383a9e57404e0b2b23dbf0ff3c068ac9c641f21df4d5c7279d', [717464001, 714032003, 846407001, 793104002]], ['19798b7082bd6cb2035f56357b55278d56a0608954ccbbcca69ae32f220ceb97', [889456001, 865076003, 556255001, 846407001]], ['1ed069b4a4698f9fbc86114640f739a37b33c012b0ffe65094e0432c4d840b75', [717464001, 685814001, 715255013, 714032003]], ['3f6c435ce39dab60b82f52d5820f9c41474f1f158ee2b88669eb8380cdd69e1c', [715255013, 889456001, 820866001, 714032003]], ['1c4c01983ef9b3b1aac1f55209f7f4b5a22e8b19e3f9947e97fb2cd522e2f5ec', [158340001, 715255013, 156231001, 846407001]], ['4ce2b8b7999fb7934464b86d91600563c662c0e61fb81866b251c7e72dab2629', [714032003, 717464001, 715255013, 846407001]], ['5f3c1bc80b07176ee4aaf7ae1c57e96e3333b9780845d5b9d6994fed799fe678', [717464001, 889456001, 715255013, 570002100]], ['4ce70deed73eb07d6c8e37dae3ec8699b2862addd4cbb8ae1404763e0a364159', [717464001, 158340001, 850917003, 541758001]], ['4785bbbfd1e2018e99dbc04d5d128e597d8dfc04bd6cf2876a5b5ae24fabb31d', [714032003, 556255001, 846407001, 865076003]], ['1ae10829e2e41ce6dd006cfe8f76b0fd0c38de485b9aebac87f85d69a4c18829', [717464001, 158340001, 714032003, 715255013]], ['c7e6f91dd879dec9eecfb85f3e59cd1a29cb5061797d71c57eabadcb1a1b4768', [717464001, 715255013, 846407001, 146730001]], ['4335e370ff8fe8f39c8cdcd1a6aa8add1b86081b81c94a2e7a35533aff0fe6e0', [717464001, 846407001, 158340001, 912862001]], ['4ddbad2a84937540b449fc2aad5e1359260edc6832334dde5374ae219ca197e0', [715255013, 717464001, 158340001, 846407001]], ['e1dc0e9c0bfc8d4a268da8c52a1e0cffd684657bb42ab671525a3bae5425d087', [717464001, 846407001, 714032003, 839915001]], ['ff59469d169167c83a5cb4643892c41351b8d181b331361bff6fd6dce0edead3', [715255013, 717464001, 158340001, 561291001]], ['20ba556114c5e7575343e779c8c7ed1543e91aefd6553a83a63f22a0a060ea2a', [717464001, 714032003, 541758001, 781758003]], ['dc502a86dd6185cf5960e0631ff42cbee68d8b36df11977e96270dace7b4504d', [717464001, 846407001, 158340001, 715255013]], ['9de9b33bcc5adc5be24b422b9d863dd11144505d7a3de9de1d3ddf975d693b39', [717464001, 850917003, 889456001, 882370001]], ['7a14a8026015088f03eaafda925b3943418bed418f5c3bedf783b1bd691d82c8', [715255013, 846407001, 158340001, 868195004]], ['d91b84ea24d4473f7b05fe6b250c9d9c07c3865d9b159c17965c109001eb883c', [717464001, 158340001, 570003002, 846407001]], ['4b4176b5f2f6064fdd842d8b1f4fae8224608df83e5c0afbb4d4ac79665fbd9a', [717464001, 715255013, 158340001, 846407001]], ['691286dca063350406c984c99d03e30071781025c941a886058e6a7b809f0207', [717464001, 714032003, 846407001, 541758001]], ['9d69e8dd11fc1297167996ec98e2a7d10aff8442f209b817f1cac7f4a021e5f7', [715255013, 717464001, 889456001, 146730001]], ['5e51d572b956ae596a21bfa57d3b15de9acad005df54754ba26766efebd2484a', [717464001, 158340001, 714032003, 865076003]], ['3a5be88f2352dfffb7866feff8bdd88f90614432215223ab9f5048c4000e10ec', [717464001, 846407001, 158340001, 715255013]], ['8c2e9e1fb17db90f4e4a88c0f782420608a076b0fe3fe263537e27f81ce68ff1', [717464001, 846407001, 570002100, 685814001]], ['d33d64007fc7ab253e35a73606284fad415cc819106b95004a3efb3073049d09', [717464001, 714032003, 715255013, 921169002]], ['afb68305d9c0211c2c41acf2a33966da81ac0a328d5808e33d008e777a438cd5', [839915001, 717464001, 714032003, 556255001]], ['003c33ca23494c7ecb3929e5207353f162d8223a1cc4685cf3e7b5c16e153170', [715255013, 850917001, 717464001, 846407001]], ['d2b7871aec193e3fc26db0bef476e34ffbfb62be32126066baeaac3377f5b753', [715255013, 717464001, 846407001, 781758003]], ['1567b9e7b4719591f4d59d4ab452c5faa60abc29a4b47fffa653ae418b0ae7c6', [839915001, 714032003, 598755001, 850917003]], ['2a75d26f1caa08d363d2e8b48241a2acc0ae1a8e74a3d87262d7d7bb0cedb15e', [717464001, 912862001, 902175001, 889456001]], ['ca00bd271a8be9b3b45883ab78401edc0054325b03a612bed4cc4e99031e8c24', [717464001, 865076003, 158340001, 846407001]], ['cc42c7b44d47e727c51357fcbe465221a7ea525f2c93c39bbb629c4af248503b', [717464001, 850917001, 395127011, 714032003]], ['ee85e446bdea049a56e0086b7ec5de37534fae8e1dfa87e33e6dbb4d2749cfdd', [158340001, 714032003, 717464001, 156231001]], ['0250f31802d0c9f8d11be789823b3ffa728a0df22c604846ef80e3c28eb48880', [717464001, 865076003, 714032003, 158340001]], ['5296a05d2cc0efd3fd1994c6e17032aa37198743ef2837433aad3541cbe2555f', [717464001, 820866001, 850917001, 846407001]], ['9fb0a2965ce6cc2c3453d10b426cdc1534b21abfc9553f9e4102fe4d02fa5f9e', [717464001, 820866001, 715255013, 912862001]], ['6e8b83286fea11d756687fdb7d0a75c40fa02912146020952fcfaf7165ecb45a', [715255013, 717464001, 158340001, 846407001]], ['62d23cfa57b74bedb0658970b3fa6fb765ffa32fe95b506f27c2838846f7e848', [715255013, 158340001, 717464001, 846407001]], ['a56b003439a2ec6836510fa5e88b9fda75f8f175e281ee30e243c6763a9b16bd', [717464001, 715255013, 912862001, 839915001]], ['b80bf5c7384fd47981104ee590516ff13f5963f22f6406f7720144ca3f69c74c', [717464001, 850917003, 895555001, 850917001]], ['b24e195b4d280505e0ec1ee9a1ec64f4518ea8f8c7eb8b2ae1e80b8372d84b32', [715255013, 918443002, 717464001, 850917003]], ['90d5ac650b8c6be5360bca656ac3f185e1e5ae274340bdf54d170ed851c0a09e', [717464001, 158340001, 820866001, 541758001]], ['dabeb735a05593c3f83793aa22f7d5f081501e82a3db34be00ed3528e4078a1c', [717464001, 846407001, 570002100, 714032003]], ['ccfe1be8898b83937bf5cd0ee0927aaf931bc1fafee0e45404e337e465c8ddb3', [717464001, 846407001, 714032003, 146730001]], ['d84cc72e5851e311a0f542477c5995dce59faf913bf8874c280444cef26b0cbe', [717464001, 846407001, 158340001, 715255013]], ['53301d02363db7a60732fd385d85df8583890c8da36da3449b8ca8d9ebb6f859', [846407001, 889456001, 717464001, 865076003]], ['6670bf1c64c95c5cdcec610df1f601a85b473a951d08c204e2ada78b1f5d4834', [715255013, 717464001, 714032003, 846407001]], ['9018926797586b58b757458f84fe8386befe08589afc575d200573561a0fad62', [715255013, 717464001, 156231001, 846407001]], ['a6b982ee24c51b77e485fa393d53b44608ee220cd869db55ecb517cb273f8a1c', [715255013, 717464001, 889456001, 793104002]], ['25c7a82d0459851003f08d11efa02c3bafeb1060c0590c16044c843e4c569139', [717464001, 820866001, 541758001, 846407001]], ['01d6f7875d7a97b474530786678dac2c0f70e79b6712a029bc45e627856407cd', [717464001, 158340001, 827957003, 868195004]], ['5c1addc5e2b2cff1a6522b1d4096b71185b41106921e8b646c9641fc73bbbc2c', [715255013, 717464001, 714032003, 839915001]], ['77e2330d50c4ed492352f02229581fe28a71160c0c0faa7d186ca1fe9ceef2ef', [158340001, 781758003, 717464001, 715255013]], ['ae245d8b085cd03ba734104917d72c9fc3fc8343d8daaff4a33d54a00ac4f8b2', [717464001, 865076003, 158340001, 846407001]], ['c11836b3aa54882feabd9ffc11e033040d230cb88e5e65846d78372dcf5a5c8f', [717464001, 918443002, 846407001, 850917001]], ['063006574df57b6baf5dfaf5f5952300e1528f4d827b523a682ea8c526c549c1', [717464001, 714032003, 717464002, 715255013]], ['7669fddab5c5ad6fd61ed674717410ef3dfa90464067db11ca52de8dba71deb8', [717464001, 846407001, 158340001, 715255013]], ['b9b90fae001d40d1689bf7c595e2b0fa6617065e74744afc68723edffb296f33', [821398009, 717464001, 715255013, 793104002]], ['41a756d51a9b39141f5a036e76a905d757d5bc865230cb418a2e457334467072', [715255013, 717464001, 846407001, 146730001]], ['dd87abc96c91588ff98fdffafd9697c4b4ba7cb8142a62a30ac958646d4fd70a', [715255013, 850917001, 717464001, 556255001]], ['fdf35655b30db1f2a9765d08b1ed5d7d031a93fcd2de221424f323b8e8dd2a1c', [717464001, 556255001, 846407001, 156231001]], ['9c2eef4e3ef08b6b6369c89ea46b8e10ae8601460efbbfab7e14524c834bbb90', [717464001, 158340001, 541758001, 846407001]], ['a232b76b5edeba13da34079fccc4666d85303091710f0ff918ded74e17df3d09', [717464001, 715255013, 146730001, 846407001]], ['17c9bb7e9b6ee1e67e5881fb21b37321a13932262060f159b5b9abd285d3b9e6', [846407001, 717464001, 895555001, 146730001]], ['4935c620a1601a34b0c3e170dbfbd5a5679656d9c48bf8fb053f7f208eef3079', [715255013, 717464001, 839915001, 850917003]], ['5c8ca2426036c1bb393bd7e0a4b7deab600b573a158cf42a1d0c929c0bae4a64', [717464001, 846407001, 158340001, 715255013]], ['e8bebfb23a93e98ccfe9586b7881e41cf3280e7dd793e844bf4d128826a5d1ac', [715255013, 846407001, 889456001, 839915001]], ['3fa535820afe2f67be9c4b3397b01038f39cbaa2d4cf39c98c625bf77dd47094', [846407001, 717464001, 146730001, 561274001]], ['0adbd6621883aaece0741080d1c52bd8cac849ae9d40c3996886a5b2a6d0263c', [717464001, 158340001, 541758001, 570002100]], ['205703bff91c1657bd01655b3980edd7bf77a8c830282cb839d652cccf3d34d5', [717464001, 541758001, 846407001, 715255013]], ['a1cb7a4a617519e17568cf9d192fa6dc2048b10e2bcbf486959a2dcbb210ade9', [717464001, 158340001, 685813003, 556255001]], ['576f92534651579fdf3f3a041736611c0214b3d4861dc55174f31b7be72c1805', [717464001, 714032003, 850917003, 918443002]], ['103531d6fcf4fb05788cd87549932456db4db658e420e7022ffc070a518861a6', [717464001, 715255013, 865076003, 158340001]], ['6870109bde1f5c4ddb2e2d4a3eca62fc3a67a319b8342cc951aca8ee3c0f8691', [717464001, 714032003, 158340001, 541758001]], ['955623e44cec4b85ae8936facbcf318e2bf9bc05919473f67cd43e713e930252', [158340001, 714032003, 846407001, 793104002]], ['62f6e88fbfa3f01e064c5fd1f7313360dbd66f056b6d10da25cce3c9a377cd69', [717464001, 158340001, 714032003, 918443002]], ['db2f8312b8c5f4191b9b0345e0d50629d09ea638eb1bd39aafa96d0a7ce90282', [895555001, 717464001, 715255013, 570003002]], ['23c17692f903066678a2bb7905312ef6f40d8bc04d35e1b4b3b593adeaa39043', [715255013, 717464001, 158340001, 685814001]], ['984c30f26cbf78cfa5520727ee030f4d48adb9a61f52a8ecbf469e5df95c2e50', [850917003, 158340001, 717464001, 846407001]], ['9c966a962e872bb8f281498c2912ea56fad50f59475163c441b4112b16e72460', [715255013, 717464001, 714032003, 846407001]], ['3f2ea64621859afb856d700d231509314cd9fb6ae1fb99e7d706cd97ee782795', [158340001, 933706001, 918443002, 781758011]], ['bdae38df6063ef9adb12efcd3b3f5256ec5bb4669e0a8bd48e3b3106af405119', [714032003, 846407001, 158340001, 717464001]], ['8eaac16175e82ed11e479c130e72de46c4ff6861ef07b606e3b234a98d30b5d8', [158340001, 846407001, 781758003, 717464002]], ['2237a5efa6d666f3affd7186a1d58b3731633e7a9bd183eae514a4af2485c5e2', [717464001, 158340001, 715255013, 714032003]], ['0a729198b7032d9b026a1d80614627d109208dc7f29187822293a765bc64e4fa', [717464001, 889456001, 850917003, 715255013]], ['2fde3b4442f09f198f05d985c4489191242758068baff4e882e7199247f2e3f1', [717464001, 158340001, 865076003, 846407001]], ['3d2958c266b6fb61ea6e687011c13ec2f68699b67fddf88454d0852c677c6c51', [158340001, 717464001, 846407001, 146730001]], ['167e4f5edb70cb3cbdfbef138d8dfa3f346301dacfe91fc8af53e0d53c3b2bf6', [715255013, 158340001, 714032003, 717464001]], ['05e56253b401e561cfd88fac58ce115dc5a50c3616db1e797ce61adc7301d547', [717464001, 846407001, 570002100, 715255013]], ['a9b010278a9444ca6f5ab5c56503d9d8208e37fe11c4a8dcad7f85c2b553e5e7', [158340001, 846407001, 715255013, 717464001]], ['00c160fd797be9c52491373b16ec194d4edb129c57266e85e65bb9814a25490d', [717464001, 714032003, 912862001, 846407001]], ['4f1b68e48d7404750f021f60a91095b00714d09f22e438b5d731e8cd92b13683', [717464001, 541758001, 871638002, 158340001]], ['eea6527af53f5f390da7dd76817b187b70766651c40a21335507234aea498ffa', [717464001, 715255013, 865076003, 846407001]], ['22134a4185b375db6086b3ef2e8fee6a5623dfcea816bdcf7108c57fd99845f6', [717464001, 158340001, 912862001, 846407001]], ['8f7863ad6b7344a386ee4fe54725e93246df67fca1d63db1f0f37fff86ec7c42', [717464001, 850917001, 781758003, 846407001]], ['c5787aa35f741ac8f92bf4bff0e6eb012d7e995f8bcd48311e4ffff33e841ee2', [715255013, 717464001, 158340001, 714032003]], ['10b1a09f8dce0dc27d64d35f368d57e3f914236b20b6fbab945ca3267a9aa4d6', [717464001, 160442007, 895555001, 158340001]], ['fdb9eeb11706361e3053881899e709883848fd4ac213a577a72dc88148756768', [717464001, 158340001, 846407001, 541758001]], ['3f90c5c13c36eb12a64bee71dd62d590ce28366f8c408367b3e876c2908861ad', [717464001, 715255013, 846407001, 685814001]], ['44f94b3f79ea1451fe9816e95e72962470b0b490ea3ad3bb8776163f04ac228a', [715255013, 846407001, 714032003, 865076003]], ['da18cf7f5059bc1612dda1d263b0bb6768fef1165f1313907f65c725e85e5222', [715255013, 158340001, 714032003, 846407001]], ['e61b37a321d44848169742e2daa1c5c81c3008381df01118fc8cfd0f5fad3400', [717464001, 158340001, 865076003, 714032003]], ['cc4a90f57d97a4348b31474da39760720c6afd1cd5a27f5b81d66119a43e3478', [717464001, 158340001, 839915001, 846407001]], ['38fa53735fe957999555e994f3e2fe6fb797ec023f4ef714e3037701eb9ef08e', [715255013, 158340001, 717464001, 865076003]], ['beaaee67e541bd02fec725ef58a7c5264216e15769ad7546c1192ed2a97ce66e', [717464001, 158340001, 570002100, 685813003]], ['907b799998f92e083b628bd261fc09e69d8e69764da33633b938c84ead814245', [717464001, 846407001, 685814001, 158340001]], ['09bd4de3e18526c40c592e1f197f77539076d545453e55920550e6136d9e5144', [715255013, 846407001, 570002100, 158340001]], ['1741b0d1b2c29994084b7312001c1b11ab8b112b3fd05ac765f4d232afdc4eaf', [158340001, 846407001, 714032003, 541758001]], ['86be0debf094fc57aaab9122909dba8c28136a1b59b33928c7ee2dd71f668356', [717464001, 865076003, 846407001, 714032003]], ['e4f6726bf4564c22927f15df3ea43e13ac4a1d603677ae7d8ea0e5f66d31553c', [846407001, 146730001, 827957003, 868195004]], ['123720339ad95a802d85f8fe7f26a92b7ad31e2c8dc7bd0e1b2567c1b337d4de', [717464001, 846407001, 715255013, 556255001]], ['c6b90147babfd6305cf919c85974246204c0e1f6aa9a86e4eee9c18234364d40', [717464001, 846407001, 158340001, 715255013]], ['b83cabff807b0ebd5c6e77234e430f5e851a44cc7f8e573d6ff62b189e298eb8', [717464001, 850917001, 714032003, 827957003]], ['411bdf8ec2bca47957be50d6174625c722d8a911cd2c2ca134376e7b0ae1473d', [717464001, 846407001, 158340001, 715255013]], ['ee42d5a1533e25be764a88d2754dbb46d92f3c975862a512f9d83746952eea95', [717464001, 846407001, 714032003, 556255001]], ['68e24c2ed8084de4ccff508fb5a4d6e36ea497bb72c0c9c92c5c040a58382377', [158340001, 846407001, 717464001, 146730001]], ['9588539361f82ca583d58f36043b00f1d7a69490a64666852303ea54c91003bd', [717464001, 717464002, 846407001, 561274001]], ['debe23eea949b5cb3edaea98e7c1c42017e4079801c08a85bfe46f64d4654e5f', [717464001, 846407001, 158340001, 715255013]], ['a06159f889511687dc95b13013856059f1b496d8e3afcf6fd4c1d1b8ae89373b', [715255013, 717464001, 850917001, 889456001]], ['e1d8eb72d3c96055785e30f6c7b42ba93b65f9d41585d3d6ff88f5113b003c2a', [717464001, 541758001, 846407001, 850917003]], ['38815baaae38bcd650f4109f97b51e8d82fc4aa22d0ca42bddd9558e5c6aa325', [715255013, 717464001, 781758003, 839915001]], ['48e957ecd2d58f0472591f8e6344e42a4d54ccabfeb5bf8b0e8c3c93e6f1a814', [717464001, 921169002, 158340001, 715255013]], ['e3d456fc21b724ce5826afbf79e5f4ac82fd6aa4e02e19dc611cdc0c27bbab6b', [158340001, 865076003, 933706001, 717464001]], ['7aba88351c73b253554c32e389579bd9e359e328af9c73d08f900905d5d1df0d', [717464001, 714032003, 839915001, 846407001]], ['f4f574c91e851d2af776600a98b42514abe66cc108df876d3807e7fdf7be4e83', [865076003, 717464001, 158340001, 827957003]], ['82edac2058ac2d5324670eecc20647abdb812d96d80d5f3ecd12f3e317bbeb0a', [717464001, 846407001, 158340001, 715255013]], ['866b68d20e3948d008631015b7e53b152d94a5e62195b291e03b525fed5e8ed8', [717464001, 714032003, 889456001, 846407001]], ['8aea524ce395b780990c9f9a42bd0aa64aad34a688efcd4d761a176899dc6a7d', [715255013, 846407001, 841383002, 556255001]], ['7a6d30dd321ee1d15644470e14c9e0054cec9ec81fd7e7aee8095a4c1bca10ba', [717464001, 158340001, 715255013, 846407001]], ['2a3ce9224d59bab54d04a044a90ccf9253acaf5ff0fd2d97920d7920360cd8b4', [715255013, 846407001, 865076003, 912862001]], ['54507c029b0beba93043625c417b3d7dceb67affb834efabc3cfc09b141c1d70', [717464001, 820866001, 912862001, 541758001]], ['2a1728f68f980db59091499139595be26693bd782c38022b6339c4d2645a5fdc', [715255013, 717464001, 714032003, 912862001]], ['4a447deecaa18046a39c515f72a4bebcbe51fb2cee89bdd06e7a62c34268597a', [717464001, 846407001, 889456001, 541758001]], ['b8413f5fc2b5c10fff53e5761bd03f1507854769cb84b4a1eb624eff732d41b3', [846407001, 839915001, 158340001, 912862001]], ['a7b9ad986192e967201b3c87bc75b17ecb0ca9c06c740e5744b8076de94b58e9', [717464001, 715255013, 158340001, 846407001]], ['618ece70215e0ece5f0d9d3f2ef383fbaedfbf4e0f00b3d9b0733d7dd4ace171', [715255013, 158340001, 717464001, 846407001]], ['598b511b07333cb51fdc5dd6c5236549ad9f75a8f9d08edd3e5026a0fc66281e', [717464001, 846407001, 541758001, 146730001]], ['af6fedc4bf879ce6cb222da767d3ac149c5923145a7326770ace67f759ec6f89', [717464001, 715255013, 865076003, 820866001]], ['0fb9d484ef6a9f4a3e12e974223a260bf589b0762990cf935abfee6d929a9954', [715255013, 717464001, 846407001, 556255001]], ['71f5d04789f89d7aab244a9f93f411a8f1fb3957d310011c2b2b0fc78e22df06', [715255013, 717464001, 556255001, 846407001]], ['73cd050ed7c76cd2b4e025261dc3ab74160c77a8c1219b3adc41ccf7a28aa413', [715255013, 717464001, 846407001, 868195004]], ['92a5d42244709b0e71ca60e7908a2c20024a50a4a65ea60ccae22e99b2f344d8', [846407001, 865076003, 850917003, 714032003]], ['57dee9bc12f90b1f416a5bf49733bb37ae6d26fb75f692bcfef41e57109a4fb9', [865076003, 715255013, 158340001, 895555001]], ['f35562f14455870202aef0541ce08ff420ce01e0c08c6a644e0f845213835842', [717464001, 570002100, 715255013, 156231001]], ['63393c88182881d1b483919a59b00e4b0e0683f1739c1cde123ec08e34590219', [717464001, 715255013, 820866001, 895555001]], ['1b7de18810f7a9033c785d491f68a6d8a174e40b6d18d8a0da550ced1b9e8e73', [717464001, 715255013, 714032003, 146730001]], ['9577a9445a48b866ec6fb7d289b1d7729b6ef2c7b8310a55ab1fb805681821ea', [717464001, 846407001, 228257008, 793104002]], ['39d94a72d89475bb516deb748d46a8012ea8f1dab29abe1f99e75db82f71011b', [846407001, 715255013, 717464001, 839915001]], ['c1e825c558edc491d351294e43909f97a5f58f6e976f36d95c80ac5faa5543c4', [714032003, 846407001, 715255013, 556255001]], ['00bd28342e79de276e317a1f3393bad5cc080daaf78bb3770d3ebc9f16e6f700', [715255013, 717464001, 868195004, 918443002]], ['4b83ca73fc0e5d659d57630aab5d2c62144591de8ca2a8e20a8c9c79445e5f21', [846407001, 158340001, 839915001, 841383002]], ['4b01ba1a4e7e0e1732d105cdef1450f61f6d57b417cca15238ced6da96ae1a97', [717464001, 846407001, 714032003, 556255001]], ['18b0112dacbfeef90f9858d4aeadd216c108d472705f7899697b7a0ce45609ce', [717464001, 715255013, 714032003, 846407001]], ['bb0f96e8c5cd2bac9c09c948613692163c249c98be546134efb71a15ffba0b5a', [715255013, 717464001, 146730001, 865076003]], ['0d19699775d3e743cc9cdf9ab0d3935e90d3af6f2c5b4c1a6a20feb2497fc887', [717464001, 850917001, 865076003, 158340001]], ['aefbef1c852d74e18030efd656e198b150488b28c8604f0cd48585941a1497c6', [717464001, 846407001, 865076003, 895555001]], ['2a38586b8b69ef5d8dc251c0292a9a274c05652bd79d0b4bee3a35a8007a0bba', [717464001, 714032003, 123173001, 781758003]], ['85af59e102f977c1fccfb6237e71da1557dab8f91db3b1be63a19e97c83eb857', [717464001, 846407001, 158340001, 715255013]], ['4f03b0e64a76f5399e5c85ec547117c7fc8a06e574d1530065c5d4e5fda68081', [717464001, 846407001, 158340001, 541758001]], ['8dcc2a0f3afcd4e8874a89128844b01aef5abc47c76e0f84d218817dab6a6f8a', [717464001, 714032003, 850917003, 846407001]], ['c0632a3f26f5f2615bf12bcd1d83b651122614384d04e91a80271b5f9879e13f', [717464001, 158340001, 715255013, 820866001]], ['c027ab328e4e0fb0021e8c356184a2ce9d5db0a6c53368e0256e4d034b2951ba', [717464001, 868195004, 895555001, 871638002]], ['9ac66eac6544f63192925eb425d05002e741a4bcb1c18e09df5bb9ac47a10c81', [717464001, 839915001, 846407001, 850917001]], ['3f998d047eddb8f8d71818ac27747f926b35f7488d6082ccc348943dee2f5fa3', [556255001, 714032003, 865076003, 832458002]], ['89a2b08e9bf083286b7d88ca57c775eedbd7be6fc1a40bb2279ed1483408f20e', [717464001, 889456001, 921169002, 871638001]], ['02de8c17aeac9859e6857a1eb6b7d1458c78008fab63cbf6d1c83317f6776f4d', [717464001, 715255013, 714032003, 921169002]], ['6e77ecf7130055c812ba6d4acfaada8f1b67b16acd58d40e54c04a9ecbd84ce4', [717464001, 715255013, 158340001, 846407001]], ['fc76885c11df1ff3b84175e04344a9e8b81fa132f009b7d3020dbb9ef89730f1', [717464001, 846407001, 158340001, 865076003]], ['641a361b31683c527ecbe6b3f76dd178e218ea99495ad461bba9829e07d49ac2', [715255013, 846407001, 717464001, 158340001]], ['4cd339950555cd54acd4904fce032fb3bc415df66aba50552454ed165aeef83f', [717464001, 832458002, 541758001, 865076003]], ['eca80ce7408619eaab1008ec281f1447f21607ed39e8af37da12f7d7067a3710', [717464001, 918443002, 714032003, 895555001]], ['d247d8b24e1a24efc82a3967366de18958860bae871855fba8ac8889ea1fb00b', [714032003, 158340001, 570002100, 865076003]], ['d67c26b77c97bdf0bdf22c9a787e18a50956724e6bc5cf01a0848c6cb19dadf1', [717464001, 714032003, 570003002, 541758001]], ['7958597a9032dcee41fd31a65577e555f4097c374fc68197be0ef9258118b034', [889456001, 850917003, 846407001, 146730001]], ['eebf5c4605e215b925043b0ca7a82a131d14945d783f0f077d81a5a027401156', [717464001, 820866001, 541758001, 715255013]], ['91a8c296c0a6da6cc657742d7a53ded8f45dd440f9eb18760231970aba12eac4', [717464001, 685814001, 846407001, 839915001]], ['bdee6048558d891ad3e3b80109f3806f2e0c09fdcbfd1cbf941b24f5753ce731', [717464001, 715255013, 158340001, 865076003]], ['a43c0696b42dad61adcdb23a78c3326e034a05beb9ab4611ef970863d79eb158', [717464001, 846407001, 158340001, 715255013]], ['619eb864250084032950ff9a67c211dbae9486cdb612ceab735c083f92e76836', [717464001, 715255013, 865076003, 820866001]], ['8bf96ddbacb29ad24097cec08453275ae60883be8d6397278535a52f1353fd52', [715255013, 717464001, 714032003, 846407001]], ['e514d62e4569c493b0bc2e10ce182aef00e7b54fdc98a4e4dbf366cfd488be02', [717464001, 846407001, 889456001, 685814001]], ['ebf58b26a2cf2baa3aa96c0d54abfea32f62c4112bf06cd1f80d0649e427d956', [715255013, 123173001, 158340001, 865076003]], ['9e00fa7bf63288cb328b9d9c3ae818d9e0449fa993fa959704e1cda578468fe9', [717464001, 850917001, 158340001, 918443002]], ['6e3825b5d510a91dbce38c9490b2793f8fc6fb52a158351b85b1a2a506b18be1', [717464001, 715255013, 850917003, 846407001]], ['ff178960f27ae4735e2935aa928d8a20a1c9fdabb51ff46f87617b75cc4dcfec', [717464001, 685813003, 158340001, 895555001]], ['4842ef2eb57e15a79fcd9d4b76d521a78fa46e0ea70db1888b15ff406f680208', [715255013, 717464001, 158340001, 781758003]], ['44d24b030d237cda7b604fae5fa889263d1f690ec6e1ee7f9cec8626c1e3643c', [889456001, 717464001, 850917003, 715255013]], ['c33032e049fb43bfad70d0bc0a7a2b96adf868ad6883278a6db87cf213d32b82', [717464001, 146730001, 715255013, 541758001]], ['4b64bf69c1245619e94d3838749bc9b978d8777b399408658146d4e90e7fb1d9', [717464001, 846407001, 839915001, 714032003]], ['65933821ca09d43f8cd98190d899568da9a2cda225fce04e47edc5f5cffafc21', [717464001, 715255013, 160442007, 717464002]], ['3fe748bf4c8d521e21877551dc229f44c82f39026c3584b9850288fe948c8599', [889456001, 123173001, 846407001, 717464001]], ['d33c0442e89dc70810a1357d2b61981a3e01d2f751a7a2569f17962175dd6cba', [556255001, 714032003, 158340001, 715255013]], ['43376f7424548af14d87dddf234eabdc188ed85fad7559603ae98b7df79c30e9', [717464001, 846407001, 839915001, 871638002]], ['96bb1239d355b0a2e75a27f55091b91451047600497301ad15181e1b142b44a9', [717464001, 846407001, 158340001, 715255013]], ['42762441d277213ff7a5fe52f76519d0da7ee14b0b7e822a5697f7a6693d32d7', [889456001, 556255001, 846407001, 918443002]], ['f21601f93968f4062ed8679c9907e22bde7b3b7692fff0c748516220d687db95', [850917001, 714032003, 918443002, 717464001]], ['e90a061785b05e7fb17e636037a0b48d2f1110e8645eb617c9d0e133309b8aa1', [158340001, 717464001, 850917003, 827957003]], ['d3914fb4bdce5ca308e164d55b8997b94f5ac011917239c9cdd9299290c3e26e', [714032003, 717464001, 715255013, 846407001]], ['ce870fed37e92752dd22691bc085ad9bd1ded5f571ffc8c3c2a17872575bde5c', [850917003, 717464001, 714032003, 850917001]], ['c6f4d02ab86e6c04d4b07504807514db1a16d309481c4fe2d7e0ff5b36e6789c', [717464001, 715255013, 850917001, 714032003]], ['5789aefa706552c26746b1055feb64c060280c4fc802f00fd4b881d580ecfcd5', [714032003, 717464001, 918443002, 865076003]], ['796cf10563b81cf85014d63600190e35e990cde72e5f9ab022ee8b3479046590', [158340001, 714032003, 715255013, 865076003]], ['5dd3efd75d8be50d512cbae13cf283d2ac5b3c38e8280fe41ac5ee7be847ce02', [717464001, 846407001, 158340001, 715255013]], ['01cd88943a483109df0534b18117d7f7043f44f53bd83252a02ea6281225728f', [158340001, 865076003, 714032003, 717464001]], ['fb14dba39b52a5ec9915fdfe276d35532b8bc0250d2a2d037a74e1cf092b19ee', [717464001, 850917003, 846407001, 714032003]], ['3e3945a3b10af7cf4ad8a41ba83770aeb26dd0363ebac14ebf542600205f772f', [717464001, 715255013, 865076003, 570003002]], ['0a2843978064b2af0a320255a50d8b47d4183fa71040fb139d78e04d8b86c612', [715255013, 889456001, 717464001, 846407001]], ['bc597a344d2881aa069552df673f2e222d50e07e7a1893537e7028cf72318d69', [717464001, 846407001, 715255013, 839915001]], ['aa972a4c76cd58e8cf83ee76ddbbdad440d92304b980b53807c007abd748a547', [717464001, 556255001, 846407001, 714032003]], ['e684e86f598d06ff31dc7a3f2cbc23ac4cf3f03575bd7a94623a7078bf671ea1', [717464001, 714032003, 556255001, 715255013]], ['eb233fd719fad2a83fb8dbdb12743b7cd59121cc0fb7b8b6f5c90076adcc62e5', [889456001, 556255001, 570002100, 846407001]], ['86db1cdde17ad75fcfc36f71233deeb4588a1f7eb59bd906154698ce3902e686', [717464001, 158340001, 918443002, 912862001]], ['ed6c6105f5e040cc0d00990003d7a71e601a05ced176b035a0ad10c633d9f2ef', [895555001, 846407001, 717464001, 820866001]], ['2c1a77f2081a2a908706b9bf1e03a14a2739c2a00273844a9bc98b69ba7ef5fc', [865076003, 717464001, 158340001, 714032003]], ['a55336ab712ca5cc2ed2fcede752d1b6bcbc6216b7a6721ebe2f992ca90a46b2', [717464001, 846407001, 146730001, 158340001]], ['e8d3604f0f071580fcaebeed52de70337993263e2dccf49d9159d70eb3b8789e', [715255013, 158340001, 846407001, 160442007]], ['017e5f6ccbcda57292a566f886ed2bde0e295717812a56188827e19e22d32a19', [717464001, 781758003, 715255013, 158340001]], ['9dfd5e6392bd886b4dde2a34c6ded0d113f0fffce12773d6b44cea1c0fb92040', [717464001, 158340001, 561274001, 846407001]], ['2f7e92ec73c77bddebc01637662281046d29b58faa82226d790d2796bc3da7b8', [717464001, 714032003, 793104002, 541758001]], ['dfa7a5c7e4387a6bc7d7af1a3562e5abd7183b10c8e6bd0e2e11c509c091712a', [717464001, 715255013, 865076003, 556255001]], ['4f057c02f7c93d452d41fb5135277d41b0dcb988a824530d9dbbed8206a112ee', [846407001, 865076003, 717464001, 158340001]], ['a2b36c1cae7b50e601efc1d290c09ab09727f3242e9eb5a5ddb9fc110cc0b962', [717464001, 850917001, 846407001, 850917003]], ['7bed9361b86c09d1418e5fea0e4f1fd0dfe95acababb0e0bfab7a29f90f13474', [717464001, 846407001, 158340001, 715255013]], ['7e5142503caf27a4d942833186f2508b05faba280642f3effbfe7f970b5a9e01', [717464001, 714032003, 846407001, 912862001]], ['da9e80397960f9d4b7dbbe2171440749ad4d7bd4b530682904f06a1a7f7f3e62', [850917001, 715255013, 146730001, 846407001]], ['1fefd4413905b8b04800f40957fe78738aec530a6af11dbad56687eb85d3ef0e', [717464001, 846407001, 158340001, 715255013]], ['a4116e07c765138f2fe47e206945266335010d4bc88f1d0a01551b4cf61dd832', [717464001, 846407001, 158340001, 715255013]], ['2bfad9411eb0719dd818fba74dc3c3f3e1dcefd5fa240def27a49287b96d66c0', [717464001, 889456001, 839915001, 820866001]], ['e740eafbb367d2fce1f974f0622677f5862f815da171928b5ea5760dd76b2a1a', [158340001, 714032003, 846407001, 717464001]], ['06d4c6a3e8821c13a31458f767dba075baf47276956dd2e4efc75104ba369b3d', [717464001, 715255013, 846407001, 556255001]], ['256b4ec65a8d1ac771b606b12cca7d7927e7353a40cc67e0c9e8e4eadf07898a', [717464001, 715255013, 714032003, 158340001]], ['4d2a43baa79901f0035f0ace1d7065765e81f78d1c42bb2c1da5efcd88e41133', [717464001, 846407001, 158340001, 715255013]], ['8ee3a8ee8e6d88a0811bac22e6be1b5c7c58e9d9eb7f97f48c4b6c5b6e1ece92', [715255013, 714032003, 846407001, 839915001]], ['62e9aabc76942b047fd098869548095a8f8dfda7a19feafecfa471aaf867537b', [717464001, 933706001, 850917001, 846407001]], ['d99d4606caf9ad88c0a487c264cba3bdca2901bef9980f130ed27017128a3e0c', [717464001, 871638002, 846407001, 541758001]], ['a5ed88660a446a233b1a98263612d54b342c186d0ce271c0ec3ecffc425595cf', [714032003, 570002100, 868195004, 841383002]], ['1e581741e23ef4c875946c1539e3deffce44139281f433133974770ee8e590f4', [717464001, 846407001, 146730001, 182909001]], ['a8c0341b870d0872dc3f450ad26dbb69542164775a5fec78ccbd0f2b43957d6e', [717464001, 846407001, 146730001, 158340001]], ['e92c2a416209ac71c8f1fd9e5917ff259c44a77234c0d040d5f67072d5b34db0', [717464001, 820866001, 160442007, 912862001]], ['d2f284cd67ede431a4abf850bdbba340f97752a3b81a843390c64d5ce5f1de74', [717464001, 715255013, 158340001, 570003002]], ['b6943aa7c6558ede4a273278b409de9783e73f535594e5632594d421a1d68f4c', [715255013, 717464001, 714032003, 846407001]], ['48465e702d3caafce4e57e1d4fd5f34bbefe14130a5e7c5bf59147d81d0732ff', [717464001, 715255013, 685813003, 158340001]], ['139fd954b4067f29cb7c7faa9ff2ab631b75fde3b0967f28f064dbef00b9f62d', [717464001, 846407001, 146730001, 871638002]], ['dadc2ed84d7bf165cffdf64f2a75dbc97ca495388666c75f1086d2ce8b09631d', [717464001, 846407001, 889456001, 146730001]], ['acf4f8823881bc2ec8b617cfb3e109aef9378675b4d1438f030d4a3cec64b8b3', [715255013, 846407001, 717464001, 714032003]], ['2e953bfa93037aba740dd48fb32c81b531c008475b0da38c4001146d5d104810', [717464001, 715255013, 158340001, 850917001]], ['faba28ff560942ddf6ec1218a0715f24a2e16c50c2f796db2caaa136f72b0c37', [717464001, 889456001, 850917003, 846407001]], ['89f1665423a81c4c8753ecac48b7b5cbf9a712d34ad2782ea6482aa3c738d01f', [717464001, 846407001, 781758003, 146730001]], ['dff04c882813741e23a781baf68982bf318177ee0759a7273667e2222998dc62', [715255013, 182909001, 685813003, 918443002]], ['a65f77281a528bf5c1e9f270141d601d116e1df33bf9df512f495ee06647a9cc', [717464001, 715255013, 846407001, 793104002]], ['0e230c63a60133ec2c4cd5648c30c19d48313f5d45f0b92a4b6abaf6b12a77d5', [717464001, 846407001, 839915001, 793104002]], ['b4c8e9be82550257621501f6abf25d246bc314c6b191fbab3d0120a9137191a8', [717464001, 715255013, 846407001, 714032003]], ['655071603ff65e4bae960481996d945573c4fc57e8354dea924cc7b15874964b', [685813003, 570003002, 717464001, 541758001]], ['4346534124a3f33235002e4377aad96415140b5215d130df5c82133565f5a70a', [717464001, 846407001, 158340001, 715255013]], ['4aed21dfe77ca7e02037d3c016e7395e780b7927577fc7d95de55033ad6a4240', [839915001, 714032003, 685814001, 158340001]], ['9f6c33842172b72e9b393e6ab0e48d8f36eae9fdb5156a230ee3f7382908b933', [717464001, 714032003, 846407001, 561274001]], ['c0bce34715c444f9bb96affddf75428251499b16e8a48a50ff133adcd0c67865', [846407001, 850917003, 839915001, 717464001]], ['464d46e47983f1f5de5b338e271f17a07aeca6db583b3751ec1e9f49435dba6c', [717464001, 714032003, 556255001, 820866001]], ['8a617286dfefa06e86e99249654ab584345c70381fdea59be426efa005e2d351', [158340001, 865076003, 912862001, 123173001]], ['c884cb3924e441f6ca903f26d322084c15c04aef13c6808efb5c5e4304f8cb24', [717464001, 850917001, 715255013, 846407001]], ['904f3c247123cd219bb9de79a0c596714c2ebda3d71b8dd4f37c6bf12377fe76', [717464001, 715255013, 889456001, 846407001]], ['3111b109709a032be172738cf2cddea08634560ce3a2b675ea6109ff28bdd391', [717464001, 714032003, 846407001, 781758003]], ['ebdbcacddc691a9ecbca552b4a32fcee3f8481a1c71ddf16c2b6370632e49b71', [158340001, 717464001, 850917001, 902175001]], ['c2834c7b337329f5266328bb2c505f5fd102ea5dc8d4b26867db1bd333925c26', [717464001, 846407001, 839915001, 850917001]], ['62a47835e8692aa3c5e9eae025ccb2f471f9a18e01a5a5c629a69fc08a83422a', [717464001, 846407001, 850917001, 158340001]], ['f0b28a42c6204d72af71bc6a922a884a1c0e68a0cb3232eba1336e8d2c4f5603', [865076003, 717464001, 715255013, 714032003]], ['5945fc5d7bcfe5a52df8b1cdbf65458f48a01dea2c1e51919ad97b92a2bf2bcc', [717464001, 715255013, 865076003, 146730001]], ['0a7d1722d3cf495119b9222a971c1dca5a8e7613113677b91c373aa901f9c20d', [717464001, 846407001, 715255013, 839915001]], ['ed17979bb7b43ddc6bc476d37121481add9349fe71e5a8a110bb2881ade5bacc', [715255013, 714032003, 158340001, 846407001]], ['d5fe79254bee8a2cecb87e3bf0c722089357cac45465cb0860047eb3857070d0', [717464001, 846407001, 158340001, 715255013]], ['954a0756b39c63fc493920ccc0e3bb0e7a1447a84aed4384dd91f3dc07919108', [717464001, 158340001, 889456001, 570002100]], ['9a40ca41c38ad73b797b42ba90347f84fa7506e6739a60f18a30710b9167095b', [717464001, 846407001, 158340001, 715255013]], ['713695ced31fc23141340fde12539fd9727f2b43f259576550825b6b0b980dbc', [717464001, 846407001, 158340001, 715255013]], ['c2d9a666987f71e6f8a544e5fdda008792fb522e1040f877bc02ddfe4ad8e62a', [717464001, 865076003, 123173001, 781758003]], ['e4b140389801bf369aab7f07dba804fed342f6902c7ca834e4be1f01da15a461', [717464001, 846407001, 158340001, 715255013]], ['bdf5ae68a4f68fde5d8cb7265886a56a8ce39b1b04b04ed980b102886984cff0', [717464001, 865076003, 714032003, 841383002]], ['a6af201c5406d5f2a21cdba7832052b1b1ab021c559587c613a847d488b1868c', [846407001, 839915001, 570002100, 912862001]], ['4f73dd5e240dfd046a3cc3c41f7169183a31354926cd44dc702e96ad51467883', [717464001, 846407001, 158340001, 715255013]], ['a7f512ad027c5bf01e8f3e651195f0e152d66f0d3f6cc663c2a7ecc82606c2e6', [717464001, 846407001, 158340001, 865076003]], ['1519aba0bbdfb7ce9af7703bf5eded31632eb623d4becd8044a8d678c31880a6', [715255013, 865076003, 158340001, 156231001]], ['9c8ceb89904daab79deffcd2e885558d9042a623f946be1f001c9784932166e6', [717464001, 714032003, 715624051, 846407001]], ['695c8e4ccf42c9a2ac0a1440621f27018c705cb31f989f9d170bb8c4d11593f5', [717464001, 865076003, 158340001, 827957003]], ['16b0ea359b3cc590e947d71bbbc0e1bbb87a8975bd885eae5c860a2bff283993', [846407001, 717464001, 865076003, 715255013]], ['0b73b5d849dbdbce8ebe2961c353df5669b8da0bf22c82a7b70122846d3170b5', [717464001, 846407001, 714032003, 541758001]], ['be24fad74413d5bbbc0cfc8fb422af6a1a02b9456c681c456e8ec4cfd5568ad2', [717464001, 850917003, 889456001, 846407001]], ['bea9b1f6a704937e01803767effa80e98a547c93ca3366d8deade793cae3cd7c', [717464001, 715255013, 158340001, 781758003]], ['ecf452c83606ace42484e0b83ef85bdcdd0252bb63233064c3065c667e9e8505', [717464001, 715255013, 685814001, 158340001]], ['d4c896dfc0498092fbcc7943a34b2d1d627a3a43a4d8faa107ae32ed5712361b', [717464001, 715255013, 846407001, 158340001]], ['4e86897b96eb29edea15a1cea02766a2517908d6c9d0223bdc8c79653a7964f1', [717464001, 715255013, 556255001, 793104002]], ['1e9ebcb2b1d6f155f1e5a93b5f00fe512baa4d04169f7c986b94e5c5fbc286b1', [717464001, 846407001, 158340001, 715255013]], ['dcd16bd8d4e48e9f90b24b911dd8f000bddc6eb28dfe22ce98315a468c73d999', [717464001, 123173001, 895555001, 714032003]], ['5375f7006bdf875661a4a66aa5a0c7964024f09d906f1f23283a4376a544886c', [158340001, 715255013, 865076003, 841383002]], ['21bf6e4aa86f275eaa09a29219ec1326afd12d4e1feaa0f9081d028a3fe1a7d1', [846407001, 714032003, 541758001, 871638002]], ['369a64b05f8abcf85c55a3ddf3e5c5854ab20177e661fa014fa426ffcb6fa9de', [717464001, 714032003, 827957003, 865076003]], ['78078b489caea74f05ecf09c3618270abd8ddbb3b32ae5b1072a037742c43e85', [717464001, 846407001, 714032003, 685816059]], ['c0f3d02beb5612bf15ca0e44f26044f8cad25419044f1096122f71e7df234bc4', [158340001, 717464001, 714032003, 846407001]], ['634b9cc6d70c1037cdabbbd7357e8f4a68e514f546dc5e5ebf51ac576fd8da1e', [717464001, 846407001, 158340001, 715255013]], ['c2a5402103ddfc492f9c0446807d375360c87ba06d20efa80d2a66c81b48dc05', [717464001, 715255013, 123173001, 846407001]], ['a802aac422c5f062bedf2475801ff561460dc5ea13e3090d8a909952d177d7ba', [865076003, 717464001, 123173001, 846407001]], ['46b42abf133accfbd7003aaa17c3281c1220a314875e80132a9119c4ad7f71e6', [715255013, 846407001, 912862001, 793104002]], ['a48874be076f23cc75b19eda373b5a82db557550dc8f441ce39b8bf7426ec045', [717464001, 846407001, 781758003, 146730001]], ['23a846c61913d7b5bb698e7eaab6ee47f2892a045d75782c415bccfba268ee90', [717464001, 895555001, 715255013, 846407001]], ['e80ca1b1e0865bb6211b3e0a9ed33954e672f99d8ce3502cb69b79993a69b98e', [158340001, 714032003, 541758001, 717464001]], ['a179a4e91ede06ac65c73b5f7298d8e0478d2dc6f3a29e37c3c6b4eb5f7de77e', [715255013, 714032003, 158340001, 685814001]], ['edb87c10e541f3a1599c9d766e1658836fff139346dac2694571e01b4a6eab60', [715255013, 717464001, 846407001, 850917001]], ['c8443e07f5c3cf78fe0e0592dbcc6f0bf51614b0c7d8a6aa49d9e7f445e59444', [715255013, 865076003, 158340001, 846407001]], ['925bd45bcfd5d51c9dea6a3465728de46c28ea55ecab4575f7f839103972c658', [158340001, 846407001, 717464001, 827957003]], ['38e2a68e05934de678f4d80244cb51df56d322abf926101094bea6751fa667d9', [715255013, 850917001, 850917003, 158340001]], ['d3ad25d94a7306496488d54c5fe772ed87723728d884ee4e23d67360702843b4', [717464001, 820866001, 685814001, 912862001]], ['0b20a3de6cac54737cd1b7320fe2fdcc459e2778d84afb99ad5302f0c1d980a5', [714032003, 865076003, 846407001, 871638001]], ['420026a1ec12458f7f1f466c0949a47d9fd1be5c1ca707de763d0efcfae3f002', [717464001, 850917001, 820866001, 912862001]], ['550e57c66e73009fd3e3c902f6282dba8f24b0ef98ef1304a437717c49e14af4', [717464001, 714032003, 846407001, 158340001]], ['1ced02d2911fa8db305a41901bc2b78b8275f83a6285e1330d81431f5ccf340d', [717464001, 715255013, 889456001, 895555001]], ['eb6c241f4f72f7de34c0b5705dc6b0491fdd6d0bb9af8bd08145d9d36895c39e', [714032003, 846407001, 717464001, 912862001]], ['a2b8f2c7b045afced101cfb966c9f270fd3f55113a670a70c79cd1863a303821', [556255001, 158340001, 846407001, 912862001]], ['00463e45bf2b9d93ef8d2db0181295f7650ba16a414c99c218092f59cff2a714', [717464001, 714032003, 158340001, 846407001]], ['c52082c2c7e2df315a3965edddd082c7a0886ea757c240b0b0d53b2e1b523b01', [717464001, 714032003, 158340001, 715255013]], ['7929e7c45f18a25e163ac84201ad90ff83ecd324528b8bd793701394fba530b9', [717464001, 846407001, 158340001, 715255013]], ['d3265887a6bb8b099ea1598b669623d9f57f97dc8859f4ef66c9cce9ed08941b', [717464001, 820866001, 556255001, 865076003]], ['aaec31582decfdadc8cf3a8dab5d15445e53d36ca322754ad6efde79de2ea36f', [717464001, 714032003, 781758003, 179208001]], ['ad88d54ae7a01d2cc841358892bad1a9de7edd6090bb535c606cd4e70794bcc2', [717464001, 158340001, 827957003, 182909001]], ['24f348f528ad755f33981d69d4a0c628c6f080dff989494fd1ab38c8f81c6fbf', [717464001, 846407001, 158340001, 715255013]], ['2949a5d9421134b584bf62c52f06d5e3ccfa0c3cedca0500c47b50f1c31315ed', [717464001, 570002100, 541758001, 846407001]], ['061a3cf96ad12849f75b45a78edea8c5cfb7862eb5eb82d8bf58dfbf7f96a6e2', [889456001, 846407001, 158340001, 912862001]], ['28bd351b434e95795db1445466bd81597f2b22309df0c9b043a7e10e3b462951', [846407001, 715255013, 160442007, 912862001]], ['5b13009aefb2dd77e0d82b3f677414d0969489a0eb1a66c7eb2670617f3ac631', [717464001, 846407001, 158340001, 715255013]], ['5262ae1e79ee8468da84ea911882ff53b1223fde1a8e07047b4b5370e1f81908', [717464001, 846407001, 714032003, 839915001]], ['a21039e9b8f0e364b9251b42b0d75683b1a98ea76197bdbd84e8fa2a00ba7216', [846407001, 717464001, 865076003, 158340001]], ['f8c5f4b1caff6635cf601aa63db3270fec517309f36ed57ad6375367b6fa7638', [846407001, 717464001, 146730001, 158340001]], ['0d86a52be0077cf5f859d7fa08f447eb8b3e066dcdf5f127445bcbbddfe9be9a', [717464001, 715255013, 714032003, 871638002]], ['565283d655aa6cfda281823433c06459918ea51e74969ee7024f15401fd8eb95', [715255013, 717464001, 714032003, 158340001]], ['46517f916cfe8fc1622e993d6d88ba3bf19eb5c69c4e160b39a3d068a8cbf3ef', [717464001, 846407001, 889456001, 715255013]], ['7211b577f97a7a8a92873b335e9f9ebdac50722a5ee149310428c4e6fc262484', [715255013, 714032003, 717464001, 895555001]], ['b47e9331eda47bdebf8b9d27f22019d0c7386ee89a9d1095b212fb1380782376', [715255013, 846407001, 158340001, 850917001]], ['179a2c0cfbfa99b692e56e5cf85190f81376d93a251ddb4755cacc9b11b81bf9', [717464001, 714032003, 865076003, 598755001]], ['a9dda558e378c6f8c5abe2bcd0b4287fffbe6c30a406b290e8886607b3820acd', [717464001, 715255013, 146730001, 717464002]], ['ae07adfe65ac83743ee3d26880fb1e362d3783d16059137ad03fcd566b937f77', [714032003, 846407001, 541758001, 865076003]], ['ae7b65abb08c6b62b5eb48b4321be86d4e223a77388df978f3772072745d3988', [715255013, 846407001, 146730001, 717464001]], ['c3e265f9c87bfc896b0a38b52fa5935aa16263e77ebc1fe261b40f8eb5cd77bd', [850917001, 717464001, 839915001, 846407001]], ['7093d642e3085501f648c2828b707b1f29f9b2eb82196e4349b2f8d72cab6f47', [717464001, 846407001, 158340001, 715255013]], ['5c8677a7908c9c3f500831ad3ea70c0e54f20d5da26ae4f2c471a1270b178d66', [158340001, 820866001, 717464001, 715255013]], ['f5a622d0d10ada1d6ccf919657d2eeeee6b9d63a6ca456ee03f6eba476540b8f', [717464001, 820866001, 715255013, 158340001]], ['6a59871da918227567804084a7c5ca94e75c123ac8bf60d20b43715ca2344867', [717464001, 714032003, 781758003, 570003002]], ['3dc55b1231817b9c92dbb48df0b13d9277bc3226abf1d1b8d69d3a538c007184', [717464001, 158340001, 781758003, 846407001]]]\n"
          ]
        }
      ]
    },
    {
      "cell_type": "code",
      "source": [
        "num_t = df_t.groupby(['customer_id']).size().to_frame(name = 'num_t').reset_index()\n",
        "num_t"
      ],
      "metadata": {
        "id": "HO8eephU7RVh"
      },
      "execution_count": null,
      "outputs": []
    },
    {
      "cell_type": "code",
      "source": [
        "final_error = 0\n",
        "for idx in range(test1.shape[0]):\n",
        "  c_id = test1.iloc[idx]['customer_id']\n",
        "  b = num_t[num_t['customer_id']==c_id]['num_t'].to_list()[0]\n",
        "  c = df_t[df_t['customer_id']==c_id]\n",
        "  a = df_t[df_t['customer_id']==c_id]\n",
        "  true_guess = 0\n",
        "  for i in range(4):\n",
        "    for j in range(b):\n",
        "      if (list(map(itemgetter(0), recs))[i]) == c.iloc[j]['article_id']:\n",
        "        true_guess = true_guess+1\n",
        "        break\n",
        "      else:\n",
        "        pass\n",
        "\n",
        "  if b >= 4:\n",
        "    final_error = final_error + (4-true_guess)/4\n",
        "  else:\n",
        "    final_error = final_error + (b-true_guess)/b\n",
        "\n",
        "print(final_error)\n",
        "\n"
      ],
      "metadata": {
        "colab": {
          "base_uri": "https://localhost:8080/"
        },
        "id": "sb2qhC_nF2Zz",
        "outputId": "4af2a273-f20f-4026-d599-e1273b04d0b4"
      },
      "execution_count": 56,
      "outputs": [
        {
          "output_type": "stream",
          "name": "stdout",
          "text": [
            "1000.0\n"
          ]
        }
      ]
    }
  ]
}