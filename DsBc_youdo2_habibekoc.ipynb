{
  "nbformat": 4,
  "nbformat_minor": 0,
  "metadata": {
    "colab": {
      "name": "DsBc_youdo2_habibekoc.ipynb",
      "provenance": []
    },
    "kernelspec": {
      "name": "python3",
      "display_name": "Python 3"
    },
    "language_info": {
      "name": "python"
    }
  },
  "cells": [
    {
      "cell_type": "code",
      "source": [
        "import pandas as pd\n",
        "import numpy as np\n",
        "from tqdm import trange"
      ],
      "metadata": {
        "id": "X6R7ppCc02V7"
      },
      "execution_count": null,
      "outputs": []
    },
    {
      "cell_type": "code",
      "execution_count": null,
      "metadata": {
        "colab": {
          "base_uri": "https://localhost:8080/"
        },
        "id": "w1Dn6Nhl0zDh",
        "outputId": "cefb192e-4289-424b-a055-e473e4bda5c2"
      },
      "outputs": [
        {
          "output_type": "stream",
          "name": "stderr",
          "text": [
            "/usr/local/lib/python3.7/dist-packages/pandas/util/_decorators.py:311: ParserWarning: Falling back to the 'python' engine because the 'c' engine does not support regex separators (separators > 1 char and different from '\\s+' are interpreted as regex); you can avoid this warning by specifying engine='python'.\n",
            "  return func(*args, **kwargs)\n"
          ]
        }
      ],
      "source": [
        "df = pd.read_csv('https://files.grouplens.org/datasets/movielens/ml-100k/u.data', delimiter=r'\\t',\n",
        "                 names=['user_id', 'item_id', 'rating', 'timestamp'])\n",
        "\n",
        "r = df.pivot(index='user_id', columns='item_id', values='rating').values"
      ]
    },
    {
      "cell_type": "code",
      "source": [
        "r.shape"
      ],
      "metadata": {
        "colab": {
          "base_uri": "https://localhost:8080/"
        },
        "id": "seWeIJfPhWlA",
        "outputId": "a1435329-9368-4622-d662-c609a2a6f075"
      },
      "execution_count": null,
      "outputs": [
        {
          "output_type": "execute_result",
          "data": {
            "text/plain": [
              "(943, 1682)"
            ]
          },
          "metadata": {},
          "execution_count": 19
        }
      ]
    },
    {
      "cell_type": "code",
      "source": [
        "print(len(np.nonzero(~np.isnan(r))[0])) #the number of ratings that are not nan"
      ],
      "metadata": {
        "colab": {
          "base_uri": "https://localhost:8080/"
        },
        "id": "48bpV4uHrAfL",
        "outputId": "adf2fa3c-a61c-42b4-df3d-77d5615998fd"
      },
      "execution_count": null,
      "outputs": [
        {
          "output_type": "stream",
          "name": "stdout",
          "text": [
            "100000\n"
          ]
        }
      ]
    },
    {
      "cell_type": "code",
      "source": [
        "irow, jcol = np.where(~np.isnan(r))\n",
        "\n",
        "idx = np.random.choice(np.arange(100_000), 10000, replace=False)\n",
        "test_irow = irow[idx]\n",
        "test_jcol = jcol[idx]\n",
        "\n",
        "r_copy = r.copy()\n",
        "\n",
        "for i in idx:\n",
        "  r_copy[irow[i]][jcol[i]] = np.nan\n"
      ],
      "metadata": {
        "id": "TPfrcHWBy3-B"
      },
      "execution_count": null,
      "outputs": []
    },
    {
      "cell_type": "code",
      "source": [
        "print(\"The size of the initial train data: \", len(np.where(~np.isnan(r_copy))[0]))\n",
        "print(\"The size of the test data: \", len(test_irow))\n",
        "#print(len(test_jcol))"
      ],
      "metadata": {
        "colab": {
          "base_uri": "https://localhost:8080/"
        },
        "id": "3-itmTaX4O8W",
        "outputId": "aa292dac-90af-407b-9e2e-efbcd77d5a85"
      },
      "execution_count": null,
      "outputs": [
        {
          "output_type": "stream",
          "name": "stdout",
          "text": [
            "The size of the initial train data:  90000\n",
            "The size of the test data:  10000\n"
          ]
        }
      ]
    },
    {
      "cell_type": "code",
      "source": [
        "irow2, jcol2 = np.where(~np.isnan(r_copy))\n",
        "\n",
        "idx2 = np.random.choice(np.arange(90_000), 10000, replace=False)\n",
        "val_irow = irow2[idx2]\n",
        "val_jcol = jcol2[idx2]\n",
        "\n",
        "r_train = r_copy.copy()\n",
        "\n",
        "for i in idx2:\n",
        "  r_train[irow2[i]][jcol2[i]] = np.nan"
      ],
      "metadata": {
        "id": "xHMcERyCRD9m"
      },
      "execution_count": null,
      "outputs": []
    },
    {
      "cell_type": "code",
      "source": [
        "print(\"The size of the final train data: \", len(np.where(~np.isnan(r_train))[0]))\n",
        "print(\"The size of the validation data: \", len(val_irow))"
      ],
      "metadata": {
        "colab": {
          "base_uri": "https://localhost:8080/"
        },
        "id": "xrs1haF6Ttdr",
        "outputId": "3838e44c-fcd0-4c0d-9ca8-e37ec4d2163c"
      },
      "execution_count": null,
      "outputs": [
        {
          "output_type": "stream",
          "name": "stdout",
          "text": [
            "The size of the final train data:  80000\n",
            "The size of the validation data:  10000\n"
          ]
        }
      ]
    },
    {
      "cell_type": "code",
      "source": [
        "def model(r, lamb=0.1):\n",
        "\n",
        "  b_user = np.random.rand(r.shape[0])\n",
        "  b_item = np.random.rand(r.shape[1])\n",
        "\n",
        "  alpha = 0.0001\n",
        "\n",
        "  row, col = np.nonzero(~np.isnan(r))\n",
        "\n",
        "  with trange(1500) as epochs:\n",
        "      for _ in epochs:\n",
        "          total_e = 0\n",
        "          for i, j in zip(row, col):\n",
        "              # Prediction of r_ij\n",
        "              y_pred = b_user[i] + b_item[j]\n",
        "              e = r[i][j] - y_pred\n",
        "\n",
        "              b_user[i] += alpha*(e - lamb*b_user[i]) #eksi mi yapmak lazim\n",
        "              b_item[j] += alpha*(e - lamb*b_item[j])\n",
        "\n",
        "              total_e += e ** 2\n",
        "\n",
        "          epochs.set_description(f'Total Square Error: {total_e:.2f}')\n",
        "  return b_user, b_item, total_e"
      ],
      "metadata": {
        "id": "rz6zKV9HSUtb"
      },
      "execution_count": null,
      "outputs": []
    },
    {
      "cell_type": "code",
      "source": [
        "b_user_all = []\n",
        "b_item_all = []\n",
        "final_error_all =[]\n",
        "all_lamb = [1, 0.1, 0.01, 0.001, 0.0001]\n",
        "\n",
        "#Model 1\n",
        "b_user0, b_item0, final_error0 = model(r_train, lamb=all_lamb[0])\n",
        "b_user_all.append(b_user0)\n",
        "b_item_all.append(b_item0)\n",
        "final_error_all.append(final_error0)\n",
        "print('Final error of model with lambda = ', all_lamb[0],': ', final_error_all[0])\n",
        "\n",
        "#Model 2\n",
        "b_user1, b_item1, final_error1 = model(r_train, all_lamb[1])\n",
        "b_user_all.append(b_user1)\n",
        "b_item_all.append(b_item1)\n",
        "final_error_all.append(final_error1)\n",
        "print('Final error of model with lambda = ', all_lamb[1],': ', final_error_all[1])\n",
        "\n",
        "#Model 3\n",
        "b_user2, b_item2, final_error2 = model(r_train, all_lamb[2])\n",
        "b_user_all.append(b_user2)\n",
        "b_item_all.append(b_item2)\n",
        "final_error_all.append(final_error2)\n",
        "print('Final error of model with lambda = ', all_lamb[2],': ', final_error_all[2])\n",
        "\n",
        "#Model 4\n",
        "b_user3, b_item3, final_error3 = model(r_train, all_lamb[3])\n",
        "b_user_all.append(b_user3)\n",
        "b_item_all.append(b_item3)\n",
        "final_error_all.append(final_error3)\n",
        "print('Final error of model with lambda = ', all_lamb[3],': ', final_error_all[3])\n",
        "\n",
        "#Model 5\n",
        "b_user4, b_item4, final_error4 = model(r_train, all_lamb[4])\n",
        "b_user_all.append(b_user4)\n",
        "b_item_all.append(b_item4)\n",
        "final_error_all.append(final_error4)\n",
        "print('Final error of model with lambda = ', all_lamb[4],': ', final_error_all[4])\n"
      ],
      "metadata": {
        "colab": {
          "base_uri": "https://localhost:8080/"
        },
        "id": "JgAJRFK81xSf",
        "outputId": "e1e72959-7761-4dd8-dc98-eb3a6fb88e37"
      },
      "execution_count": null,
      "outputs": [
        {
          "output_type": "stream",
          "name": "stderr",
          "text": [
            "Total Square Error: 186130.74: 100%|██████████| 1500/1500 [05:40<00:00,  4.40it/s]\n"
          ]
        },
        {
          "output_type": "stream",
          "name": "stdout",
          "text": [
            "Final error of model with lambda =  1 :  186130.73876717358\n"
          ]
        },
        {
          "output_type": "stream",
          "name": "stderr",
          "text": [
            "Total Square Error: 69582.93: 100%|██████████| 1500/1500 [05:20<00:00,  4.69it/s]\n"
          ]
        },
        {
          "output_type": "stream",
          "name": "stdout",
          "text": [
            "Final error of model with lambda =  0.1 :  69582.9346164018\n"
          ]
        },
        {
          "output_type": "stream",
          "name": "stderr",
          "text": [
            "Total Square Error: 66953.74: 100%|██████████| 1500/1500 [05:18<00:00,  4.70it/s]\n"
          ]
        },
        {
          "output_type": "stream",
          "name": "stdout",
          "text": [
            "Final error of model with lambda =  0.01 :  66953.74193198138\n"
          ]
        },
        {
          "output_type": "stream",
          "name": "stderr",
          "text": [
            "Total Square Error: 66927.34: 100%|██████████| 1500/1500 [05:19<00:00,  4.69it/s]\n"
          ]
        },
        {
          "output_type": "stream",
          "name": "stdout",
          "text": [
            "Final error of model with lambda =  0.001 :  66927.34118567134\n"
          ]
        },
        {
          "output_type": "stream",
          "name": "stderr",
          "text": [
            "Total Square Error: 66901.98: 100%|██████████| 1500/1500 [05:22<00:00,  4.65it/s]"
          ]
        },
        {
          "output_type": "stream",
          "name": "stdout",
          "text": [
            "Final error of model with lambda =  0.0001 :  66901.98487933981\n"
          ]
        },
        {
          "output_type": "stream",
          "name": "stderr",
          "text": [
            "\n"
          ]
        }
      ]
    },
    {
      "cell_type": "code",
      "source": [
        "#finding the validation errors for all models\n",
        "val_error = []\n",
        "val_error_ = 0\n",
        "\n",
        "for i in range (5):\n",
        "  val_error_ = 0\n",
        "  for j in range(len(val_irow)):\n",
        "    val_error_ += (r[val_irow[j],val_jcol[j]] - (b_user_all[i][val_irow[j]] + b_item_all[i][val_jcol[j]]))**2\n",
        "  val_error.append(val_error_)\n"
      ],
      "metadata": {
        "id": "PqKFLHe7iaqO"
      },
      "execution_count": null,
      "outputs": []
    },
    {
      "cell_type": "code",
      "source": [
        "#finding the best lambda\n",
        "best_model=0\n",
        "for i in range(4):\n",
        "\n",
        "  if val_error[i+1] < val_error[i]:\n",
        "    best_model = i+1\n",
        "  elif val_error[i+1] > val_error[i]:\n",
        "    best_model = i\n",
        "  else:\n",
        "    best_model = best_model\n",
        "\n",
        "print(\"The model with best parameters are: Model \", best_model)\n",
        "print(\"Lambda: \", all_lamb[best_model])\n",
        "  "
      ],
      "metadata": {
        "colab": {
          "base_uri": "https://localhost:8080/"
        },
        "id": "xzfuog7VibWw",
        "outputId": "6d911b24-b370-4712-c8fb-32061b7279e9"
      },
      "execution_count": null,
      "outputs": [
        {
          "output_type": "stream",
          "name": "stdout",
          "text": [
            "The model with best parameters are: Model  4\n",
            "Lambda:  0.0001\n"
          ]
        }
      ]
    },
    {
      "cell_type": "code",
      "source": [
        "#Finding the final error using test data\n",
        "test_error = 0\n",
        "\n",
        "for j in range(len(test_irow)):\n",
        "  test_error += (r[test_irow[j],test_jcol[j]] - (b_user_all[best_model][test_irow[j]] + b_item_all[best_model][test_jcol[j]]))**2\n",
        "\n",
        "print(f'The final test error:  {test_error:.2f}')"
      ],
      "metadata": {
        "colab": {
          "base_uri": "https://localhost:8080/"
        },
        "id": "oQDrm4J4rXuU",
        "outputId": "e5ad8b44-3ca3-4729-964f-29a505669559"
      },
      "execution_count": null,
      "outputs": [
        {
          "output_type": "stream",
          "name": "stdout",
          "text": [
            "The final test error:  9130.91\n"
          ]
        }
      ]
    }
  ]
}